{
 "cells": [
  {
   "cell_type": "markdown",
   "id": "a659cf2c",
   "metadata": {},
   "source": [
    "## Stacked is Data Structered\n",
    "- LIFO: Last In First Out\n",
    "- Stacked is can be created in arrays and Linked-list\n",
    "operations in Stacked\n",
    "- push\n",
    "- pop\n",
    "- peack \n",
    "- isempty\n",
    "- size\n",
    "\n",
    "Top most element id of lower one and so on. "
   ]
  },
  {
   "cell_type": "code",
   "execution_count": 1,
   "id": "88b30c38",
   "metadata": {},
   "outputs": [],
   "source": [
    "class Node:\n",
    "    \n",
    "    def __init__(self,value):\n",
    "        self.data = value\n",
    "        self.next = None\n",
    "        \n",
    "class Stack:\n",
    "    \n",
    "    def __init__(self):\n",
    "        self.top = None\n",
    "    \n",
    "    def isempty(self):\n",
    "        return self.top == None\n",
    "    \n",
    "    def push(self, value):\n",
    "        new_node = Node(value)\n",
    "        new_node.next = self.top\n",
    "        self.top = new_node\n",
    "    \n",
    "    def peek(self):\n",
    "        if(self.isempty()):\n",
    "            return \"Stack Empty\"\n",
    "        else:\n",
    "            return self.top.data\n",
    "    def pop(self):\n",
    "        if(self.isempty()):\n",
    "            return \"Stack Empty\"\n",
    "        else:\n",
    "            data = self.top.data\n",
    "            self.top = self.top.next\n",
    "        \n",
    "    def traverse(self):\n",
    "        temp = self.top\n",
    "        while temp != None:\n",
    "            print(temp.data)\n",
    "            temp = temp.next\n",
    "    "
   ]
  },
  {
   "cell_type": "code",
   "execution_count": 21,
   "id": "6f67ea7c",
   "metadata": {},
   "outputs": [],
   "source": [
    "def reverse_string(text):\n",
    "    s = Stack()\n",
    "    \n",
    "    for i in text:\n",
    "        s.push(i)\n",
    "        \n",
    "    res = \"\"\n",
    "    \n",
    "    while(not s.isempty()):\n",
    "    \n",
    "       res =  res + s.pop() \n",
    "        \n",
    "    print(res)    "
   ]
  },
  {
   "cell_type": "markdown",
   "id": "c4b8d8b1",
   "metadata": {},
   "source": [
    "reverse_string(\"Hello\")"
   ]
  },
  {
   "cell_type": "code",
   "execution_count": 23,
   "id": "05112839",
   "metadata": {},
   "outputs": [],
   "source": [
    "# text editors\n",
    "# u = undo\n",
    "# r= re do "
   ]
  },
  {
   "cell_type": "code",
   "execution_count": 24,
   "id": "cc94d676",
   "metadata": {},
   "outputs": [],
   "source": [
    "s = Stack()"
   ]
  },
  {
   "cell_type": "code",
   "execution_count": 25,
   "id": "403b51ee",
   "metadata": {},
   "outputs": [
    {
     "data": {
      "text/plain": [
       "True"
      ]
     },
     "execution_count": 25,
     "metadata": {},
     "output_type": "execute_result"
    }
   ],
   "source": [
    "s.isempty()"
   ]
  },
  {
   "cell_type": "code",
   "execution_count": 26,
   "id": "92b4c0e4",
   "metadata": {},
   "outputs": [],
   "source": [
    "s.push(\"H\")\n",
    "s.push(\"e\")\n",
    "s.push(\"l\")\n",
    "s.push(\"l\")\n",
    "s.push(\"o\")"
   ]
  },
  {
   "cell_type": "code",
   "execution_count": 27,
   "id": "326b503b",
   "metadata": {},
   "outputs": [
    {
     "name": "stdout",
     "output_type": "stream",
     "text": [
      "o\n",
      "l\n",
      "l\n",
      "e\n",
      "H\n"
     ]
    }
   ],
   "source": [
    "s.traverse()"
   ]
  },
  {
   "cell_type": "code",
   "execution_count": 28,
   "id": "3620b47c",
   "metadata": {},
   "outputs": [
    {
     "data": {
      "text/plain": [
       "'o'"
      ]
     },
     "execution_count": 28,
     "metadata": {},
     "output_type": "execute_result"
    }
   ],
   "source": [
    "s.peek()"
   ]
  },
  {
   "cell_type": "code",
   "execution_count": 37,
   "id": "4fa533b8",
   "metadata": {},
   "outputs": [
    {
     "data": {
      "text/plain": [
       "'Stack Empty'"
      ]
     },
     "execution_count": 37,
     "metadata": {},
     "output_type": "execute_result"
    }
   ],
   "source": [
    "s.pop()"
   ]
  }
 ],
 "metadata": {
  "kernelspec": {
   "display_name": "Python 3 (ipykernel)",
   "language": "python",
   "name": "python3"
  },
  "language_info": {
   "codemirror_mode": {
    "name": "ipython",
    "version": 3
   },
   "file_extension": ".py",
   "mimetype": "text/x-python",
   "name": "python",
   "nbconvert_exporter": "python",
   "pygments_lexer": "ipython3",
   "version": "3.10.9"
  }
 },
 "nbformat": 4,
 "nbformat_minor": 5
}
