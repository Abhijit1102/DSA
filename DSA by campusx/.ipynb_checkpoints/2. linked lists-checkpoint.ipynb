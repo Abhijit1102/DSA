{
 "cells": [
  {
   "cell_type": "markdown",
   "id": "b31f084c",
   "metadata": {},
   "source": [
    "## Linked list:\n",
    " - Its is a collection of nodes\n",
    " - In linklist write operation has time complexibity is n.\n",
    " - In array memory is unused or waste.\n",
    " - Linked list can be used more Data Structure liked stacked, queue.\n",
    " - In array read operation is constant.\n",
    "\n",
    " \n",
    "**In case of write operation(delete, insert) the time complexibity is n** "
   ]
  },
  {
   "cell_type": "markdown",
   "id": "e340f456",
   "metadata": {},
   "source": [
    "#### Linked list is a linear Data structure which is used to store data in non continuous memory location. It is a collevtion of nodes ( nodes is object containing data and loaction of next nodes)\n",
    "- 1st linked list is called head\n",
    "- last linked list is called tail\n",
    "- In array where Data are storing continuous memory location having no gap between any each element and viz. in linked list."
   ]
  },
  {
   "cell_type": "code",
   "execution_count": 45,
   "id": "8d354093",
   "metadata": {},
   "outputs": [],
   "source": [
    "class Node:\n",
    "    \n",
    "    def __init__(self,value):\n",
    "        self.data = value\n",
    "        self.next = None"
   ]
  },
  {
   "cell_type": "code",
   "execution_count": 46,
   "id": "b4392334",
   "metadata": {},
   "outputs": [
    {
     "data": {
      "text/plain": [
       "(1, None)"
      ]
     },
     "execution_count": 46,
     "metadata": {},
     "output_type": "execute_result"
    }
   ],
   "source": [
    "a = Node(1)\n",
    "a.data, a.next"
   ]
  },
  {
   "cell_type": "code",
   "execution_count": 47,
   "id": "9445ad71",
   "metadata": {},
   "outputs": [],
   "source": [
    "a, b, c = Node(1), Node(2), Node(3)"
   ]
  },
  {
   "cell_type": "code",
   "execution_count": 48,
   "id": "12ee442d",
   "metadata": {},
   "outputs": [
    {
     "name": "stdout",
     "output_type": "stream",
     "text": [
      "2106538437472\n",
      "2106538442608\n",
      "2106538437856\n"
     ]
    }
   ],
   "source": [
    "print(id(a))\n",
    "print(id(b))\n",
    "print(id(c))"
   ]
  },
  {
   "cell_type": "markdown",
   "id": "c2030c41",
   "metadata": {},
   "source": [
    "- head = None is eaxmple of empty linked list\n",
    "- lenght of linked lists id no of node in the Linked list\n",
    "\n",
    "### Operation in linked list\n",
    "- Insert\n",
    "   - head\n",
    "   - tail\n",
    "   - middle\n",
    "- Traverse\n",
    "   - print\n",
    "- Delete\n",
    "   - head\n",
    "   - tail(pop)\n",
    "   - value(remove)\n",
    "   - index\n",
    "- search\n",
    "   - value\n",
    "   - index\n",
    "    \n",
    "- reverse\n",
    "- max"
   ]
  },
  {
   "cell_type": "code",
   "execution_count": 127,
   "id": "862d26b7",
   "metadata": {},
   "outputs": [],
   "source": [
    "class Node:\n",
    "    \n",
    "    def __init__(self,value):\n",
    "        self.data = value\n",
    "        self.next = None\n",
    "        \n",
    "\n",
    "class Linkedlist:\n",
    "     \n",
    "    def __init__(self):\n",
    "        self.head = None\n",
    "        self.n = 0\n",
    "        \n",
    "    def __len__(self):\n",
    "        return self.n\n",
    "    \n",
    "    def  insert_head(self,value):\n",
    "        \n",
    "        new_node = Node(value)\n",
    "        \n",
    "        new_node.next = self.head\n",
    "        \n",
    "        self.n = self.n + 1\n",
    "        \n",
    "    def t):\n",
    "        \n",
    "        result = ''\n",
    "        curr = self.head\n",
    "        while curr != None:\n",
    "            \n",
    "            result = result + str(curr.data) + \"->\"\n",
    "            curr = curr.next\n",
    "            \n",
    "        return result[:-2]    "
   ]
  },
  {
   "cell_type": "code",
   "execution_count": 128,
   "id": "3e2efa55",
   "metadata": {},
   "outputs": [],
   "source": [
    "l = Linkedlist()\n",
    "l.insert_head(1)\n",
    "l.insert_head(2)\n",
    "l.insert_head(3)\n",
    "l.insert_head(4)"
   ]
  },
  {
   "cell_type": "code",
   "execution_count": 129,
   "id": "17cb9e0b",
   "metadata": {},
   "outputs": [
    {
     "data": {
      "text/plain": [
       "4"
      ]
     },
     "execution_count": 129,
     "metadata": {},
     "output_type": "execute_result"
    }
   ],
   "source": [
    "len(l)"
   ]
  },
  {
   "cell_type": "code",
   "execution_count": 136,
   "id": "764e2452",
   "metadata": {},
   "outputs": [
    {
     "name": "stdout",
     "output_type": "stream",
     "text": [
      "\n"
     ]
    }
   ],
   "source": [
    "l."
   ]
  },
  {
   "cell_type": "code",
   "execution_count": null,
   "id": "9a0a1f62",
   "metadata": {},
   "outputs": [],
   "source": []
  },
  {
   "cell_type": "code",
   "execution_count": null,
   "id": "0ae79c9c",
   "metadata": {},
   "outputs": [],
   "source": []
  },
  {
   "cell_type": "code",
   "execution_count": null,
   "id": "9661ef53",
   "metadata": {},
   "outputs": [],
   "source": []
  },
  {
   "cell_type": "code",
   "execution_count": null,
   "id": "607cb2f1",
   "metadata": {},
   "outputs": [],
   "source": []
  },
  {
   "cell_type": "code",
   "execution_count": null,
   "id": "cbe260a6",
   "metadata": {},
   "outputs": [],
   "source": []
  },
  {
   "cell_type": "code",
   "execution_count": null,
   "id": "25d29588",
   "metadata": {},
   "outputs": [],
   "source": []
  }
 ],
 "metadata": {
  "kernelspec": {
   "display_name": "Python 3 (ipykernel)",
   "language": "python",
   "name": "python3"
  },
  "language_info": {
   "codemirror_mode": {
    "name": "ipython",
    "version": 3
   },
   "file_extension": ".py",
   "mimetype": "text/x-python",
   "name": "python",
   "nbconvert_exporter": "python",
   "pygments_lexer": "ipython3",
   "version": "3.10.9"
  }
 },
 "nbformat": 4,
 "nbformat_minor": 5
}
