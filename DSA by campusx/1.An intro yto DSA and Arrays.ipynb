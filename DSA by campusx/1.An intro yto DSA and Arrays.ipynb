{
 "cells": [
  {
   "cell_type": "markdown",
   "id": "fc0fff9c",
   "metadata": {},
   "source": [
    "# DSA(Data structure and Algorithm)\n",
    "\n",
    "## Algorithmic complexity\n",
    "- what is efficiency in programming\n",
    "   - Time : e.g- google search engine\n",
    "   - space : e.g- fb-lite, insta-lite\n",
    "   \n",
    "   ### Technique to measure time complexity\n",
    "     - Measure time to excute\n",
    "     - counting operation invovled\n",
    "     - abstract notation of order of growth"
   ]
  },
  {
   "cell_type": "code",
   "execution_count": 1,
   "id": "a6522f21",
   "metadata": {},
   "outputs": [
    {
     "name": "stdout",
     "output_type": "stream",
     "text": [
      "1\n",
      "2\n",
      "3\n",
      "4\n",
      "5\n",
      "6\n",
      "7\n",
      "8\n",
      "9\n",
      "0.0\n"
     ]
    }
   ],
   "source": [
    "# measuring time\n",
    "import time\n",
    "\n",
    "start = time.time()\n",
    "for i in range(1,10):\n",
    "    print(i)\n",
    "\n",
    "print(time.time()-start)    "
   ]
  },
  {
   "cell_type": "code",
   "execution_count": 5,
   "id": "74a4a93e",
   "metadata": {},
   "outputs": [
    {
     "name": "stdout",
     "output_type": "stream",
     "text": [
      "1\n",
      "2\n",
      "3\n",
      "4\n",
      "5\n",
      "6\n",
      "7\n",
      "8\n",
      "9\n",
      "10\n",
      "0.0\n"
     ]
    }
   ],
   "source": [
    "# measuring time\n",
    "import time\n",
    "\n",
    "start = time.time()\n",
    "i=1\n",
    "while i<11:\n",
    "    print(i)\n",
    "    i+=1\n",
    "\n",
    "print(time.time()-start)    "
   ]
  },
  {
   "cell_type": "markdown",
   "id": "00737cf4",
   "metadata": {},
   "source": [
    "## Problem with above approach\n",
    "- Different time for different algo\n",
    "- Time varies if implementation changes\n",
    "- different machines different time\n",
    "- does not work for extremely small inputs\n",
    "- time varies for different inputs, but can't established a relationship"
   ]
  },
  {
   "cell_type": "code",
   "execution_count": 1,
   "id": "cab85325",
   "metadata": {},
   "outputs": [],
   "source": [
    "# counting operation\n",
    "def c_to_f(c):\n",
    "    return c*9.0/5 + 32\n",
    "\n",
    "def mysum(x):\n",
    "    total = 0\n",
    "    for i in range(x+1):\n",
    "        total +=1\n",
    "    return total    "
   ]
  },
  {
   "cell_type": "code",
   "execution_count": 2,
   "id": "eb1300ca",
   "metadata": {},
   "outputs": [
    {
     "data": {
      "text/plain": [
       "77.0"
      ]
     },
     "execution_count": 2,
     "metadata": {},
     "output_type": "execute_result"
    }
   ],
   "source": [
    "c_to_f(25)"
   ]
  },
  {
   "cell_type": "code",
   "execution_count": 6,
   "id": "77048d8d",
   "metadata": {},
   "outputs": [
    {
     "data": {
      "text/plain": [
       "6"
      ]
     },
     "execution_count": 6,
     "metadata": {},
     "output_type": "execute_result"
    }
   ],
   "source": [
    "mysum(5)"
   ]
  },
  {
   "cell_type": "markdown",
   "id": "ba56b841",
   "metadata": {},
   "source": [
    "# what do we want\n",
    "- we want to evaluate the algorith\n",
    "- we want to evaluate scalability\n",
    "- we want to evaluate in terms of input size\n",
    "\n",
    "# type case\n",
    "- Best case\n",
    "- Average case\n",
    "- worst case"
   ]
  },
  {
   "cell_type": "markdown",
   "id": "7541708e",
   "metadata": {},
   "source": [
    "# ORDERS OF GROWTH\n",
    "GOALS:\n",
    "- we want to evaluate programs efficiency when input is very big\n",
    "- want to express the growth of programs runs time as input size grows\n",
    "- want to put upper bound on the growth - as tight as possible\n",
    "- do not need to be precise:\"order of growth\" not \"exact\" growth\n",
    "- we will look at thge largest factors in run time"
   ]
  },
  {
   "cell_type": "markdown",
   "id": "04314e97",
   "metadata": {},
   "source": [
    "# Measuring order of growth : BIG O Notation\n",
    "\n",
    "- Big O notation measures an upper bound on the asymptotic growth, often called Order of growth\n",
    "\n",
    "- Big Oh or O(): is used to describe wost case\n",
    "  - worst case occurs often and is the bottleneck when a program runs\n",
    "  - express rate of growth of program relative to the input aize\n",
    "  - eva;uate algp not machine or implementation"
   ]
  },
  {
   "cell_type": "code",
   "execution_count": 5,
   "id": "c3e25b1f",
   "metadata": {},
   "outputs": [],
   "source": [
    "# Exact step vs O()\n",
    "def fact_iter(n):\n",
    "    answer = 1\n",
    "    while n>1:    \n",
    "        answer += n\n",
    "        n -=1\n",
    "    return answer\n",
    "\n",
    "\n",
    "# counting operation : 1 + 5n , n=input\n",
    "# O(n):linear"
   ]
  },
  {
   "cell_type": "markdown",
   "id": "6b534570",
   "metadata": {},
   "source": [
    "# Example\n",
    "- n^2(square: nested loop) +2n (in side loop operation two operation) + 2(outside loop two operation), o(n):n^2+n->n^2 which is time complexity i.e time ang input has quadratic relationship\n",
    "\n",
    "- n^2 + 100000n +3^1000 , o(n): n^2 + n -> n^2\n",
    "- log(n) + n, O():n\n",
    "- 2n^30 + 3^n : O():3^n for large n"
   ]
  },
  {
   "cell_type": "markdown",
   "id": "3cba3d5c",
   "metadata": {},
   "source": [
    "# Types of orders of growth\n",
    "- constant\n",
    "- linear\n",
    "- quadratic\n",
    "- logarithmic\n",
    "- nlogn\n",
    "- exponential"
   ]
  },
  {
   "cell_type": "code",
   "execution_count": 2,
   "id": "76a7c83c",
   "metadata": {},
   "outputs": [
    {
     "data": {
      "text/plain": [
       "3"
      ]
     },
     "execution_count": 2,
     "metadata": {},
     "output_type": "execute_result"
    }
   ],
   "source": [
    "# constant time operation\n",
    "a = [1,2,3,4,5,6,8,9,10,11]\n",
    "\n",
    "# its is an example of constant time operation\n",
    "a[2]"
   ]
  },
  {
   "cell_type": "markdown",
   "id": "e6f2154e",
   "metadata": {},
   "source": [
    "- linear time complexcity example linear search (o(n)=n)\n",
    "- quadratic o(n)= n^2\n",
    "- n > nlogn > n^2\n",
    "\n",
    "<img src=\"https://miro.medium.com/max/1100/1*kn9EefuLJJZWZ0ycVvdlRg.webp\">"
   ]
  },
  {
   "cell_type": "code",
   "execution_count": 39,
   "id": "9d575ee6",
   "metadata": {},
   "outputs": [
    {
     "name": "stdout",
     "output_type": "stream",
     "text": [
      "10\n",
      "24\n",
      "(1, 1)\n",
      "(1, 2)\n",
      "(1, 3)\n",
      "(1, 4)\n",
      "(2, 1)\n",
      "(2, 2)\n",
      "(2, 3)\n",
      "(2, 4)\n",
      "(3, 1)\n",
      "(3, 2)\n",
      "(3, 3)\n",
      "(3, 4)\n",
      "(4, 1)\n",
      "(4, 2)\n",
      "(4, 3)\n",
      "(4, 4)\n"
     ]
    }
   ],
   "source": [
    "L = [1,2,3,4]\n",
    "sum = 0\n",
    "for i in L:\n",
    "    sum=sum+i\n",
    "print(sum)\n",
    "\n",
    "prod =1\n",
    "for i in L:\n",
    "    prod =prod*i\n",
    "print(prod)\n",
    "# O(n) = n+n  \n",
    "\n",
    "for i in L:\n",
    "    for j in L:\n",
    "        print((i,j))\n",
    "        \n",
    "# o(n) = O(n)*O(n) =O(n^2)        "
   ]
  },
  {
   "cell_type": "code",
   "execution_count": 46,
   "id": "8ff1ea09",
   "metadata": {},
   "outputs": [],
   "source": [
    "def intTostr(i):\n",
    "    digit =\"1234567890\"\n",
    "    if i==0:\n",
    "        return'O'\n",
    "    result=\"\"\n",
    "    while i> 0:\n",
    "        result = digit[i-1%10] + result\n",
    "        i=i//10\n",
    "    return result    "
   ]
  },
  {
   "cell_type": "code",
   "execution_count": 47,
   "id": "e559bad0",
   "metadata": {},
   "outputs": [
    {
     "data": {
      "text/plain": [
       "'1'"
      ]
     },
     "execution_count": 47,
     "metadata": {},
     "output_type": "execute_result"
    }
   ],
   "source": [
    "intTostr(1)"
   ]
  },
  {
   "cell_type": "code",
   "execution_count": 6,
   "id": "2954cef7",
   "metadata": {},
   "outputs": [
    {
     "ename": "SyntaxError",
     "evalue": "invalid syntax. Maybe you meant '==' or ':=' instead of '='? (1531252817.py, line 4)",
     "output_type": "error",
     "traceback": [
      "\u001b[1;36m  Cell \u001b[1;32mIn[6], line 4\u001b[1;36m\u001b[0m\n\u001b[1;33m    for(i=n/2;j<=n;i++){\u001b[0m\n\u001b[1;37m        ^\u001b[0m\n\u001b[1;31mSyntaxError\u001b[0m\u001b[1;31m:\u001b[0m invalid syntax. Maybe you meant '==' or ':=' instead of '='?\n"
     ]
    }
   ],
   "source": [
    "n = 1000\n",
    "int i,j,k =0,0,0\n",
    "\n",
    "for(i=n/2;j<=n;i++){\n",
    "    for(j=2;j<=n;j=j*2){\n",
    "        k=k+n/2\n",
    "}\n",
    "    # time complexity : nlogn\n",
    "    \n",
    "# Binary search  time complexcity logn\n",
    " \n",
    "for i in range(0,len(l)):\n",
    "    for j in range(i+1,len(L)):\n",
    "    print(l(i),l(j))\n",
    "    \n",
    "# time compexity : n^2 - n = n^2\n",
    "A,B\n",
    "    for i in A:\n",
    "      for j in B:\n",
    "          if i<j:\n",
    "    print(i,j)\n",
    "    \n",
    "    #O(n):O(ab)\n",
    "        \n",
    "for i in A:\n",
    "    for j in B:\n",
    "       for k in range(1000):\n",
    "           print(i,j)\n",
    "    # O(n) : n^2\n",
    "    \n",
    "for i in range(0,len(l/2)):\n",
    "    other = len(l)-i-l\n",
    "    temp  = l[i]\n",
    "    l[oteher]=temp\n",
    "\n",
    "print(l)    "
   ]
  },
  {
   "cell_type": "code",
   "execution_count": 7,
   "id": "f6e62580-e6d9-459b-ac4c-c9b44712a306",
   "metadata": {},
   "outputs": [],
   "source": [
    "##  Recurtion\n",
    "def factorial(n):\n",
    "      if n==1:\n",
    "        return 1\n",
    "      else:\n",
    "        return n*factorial(n-1)\n"
   ]
  },
  {
   "cell_type": "code",
   "execution_count": 8,
   "id": "2fc30977",
   "metadata": {},
   "outputs": [
    {
     "data": {
      "text/plain": [
       "120"
      ]
     },
     "execution_count": 8,
     "metadata": {},
     "output_type": "execute_result"
    }
   ],
   "source": [
    "factorial(5)"
   ]
  },
  {
   "cell_type": "code",
   "execution_count": 15,
   "id": "c64ebeda-b3c6-4efc-ace0-4f128c95875f",
   "metadata": {},
   "outputs": [],
   "source": [
    "def fib(n):\n",
    "     if n==0 or n==1:\n",
    "            return 1\n",
    "     else:\n",
    "        return fib(n-1) + fib(n-2)\n",
    "# input : 1, 2, 3, 5, 6\n",
    "# call: 1, 2, 4, 14, 32\n",
    "\n",
    "# exponential and time compexity:>2^n = 17^n"
   ]
  },
  {
   "cell_type": "code",
   "execution_count": 21,
   "id": "caa6f417-dd29-4217-b5b4-9157ffe1b114",
   "metadata": {},
   "outputs": [],
   "source": [
    "def power(num):\n",
    "    if num <1:\n",
    "        return 0\n",
    "    elif num ==1:\n",
    "        print(1)\n",
    "        return 1\n",
    "    else:\n",
    "        prev = power(num//2)\n",
    "        curr = prev*2\n",
    "        print(curr)\n",
    "        return curr\n",
    "    \n",
    "# inpu : 10 100 1000\n",
    "# fcall: 4  8  12\n",
    "# logarithmic curve"
   ]
  },
  {
   "cell_type": "code",
   "execution_count": 24,
   "id": "ab00486f-a09a-43bb-a642-1101e702a7df",
   "metadata": {},
   "outputs": [
    {
     "name": "stdout",
     "output_type": "stream",
     "text": [
      "1\n",
      "2\n",
      "4\n",
      "8\n",
      "16\n",
      "32\n"
     ]
    },
    {
     "data": {
      "text/plain": [
       "32"
      ]
     },
     "execution_count": 24,
     "metadata": {},
     "output_type": "execute_result"
    }
   ],
   "source": [
    "power(45)"
   ]
  },
  {
   "cell_type": "code",
   "execution_count": 30,
   "id": "aa1e368b-b1e3-4b25-93fd-2134f5f502d3",
   "metadata": {},
   "outputs": [],
   "source": [
    "def mod(a,b):\n",
    "    \n",
    "    if b <=0:\n",
    "        retun -1\n",
    "    div = a/b\n",
    "    return a-div*b\n",
    "\n",
    "# input : 1,2,3,\n",
    "# fcall :1,2,3\n",
    "# Hence constant"
   ]
  },
  {
   "cell_type": "code",
   "execution_count": 29,
   "id": "51cdd8af-19ef-474c-9c38-b3fd03f7103e",
   "metadata": {},
   "outputs": [
    {
     "data": {
      "text/plain": [
       "0.0"
      ]
     },
     "execution_count": 29,
     "metadata": {},
     "output_type": "execute_result"
    }
   ],
   "source": [
    "mod(5,3)"
   ]
  },
  {
   "cell_type": "code",
   "execution_count": 1,
   "id": "c4f1796a-a1a9-4f18-aa8e-f7f4b3bd08e1",
   "metadata": {},
   "outputs": [],
   "source": [
    "def sum_digits(num):\n",
    "    \n",
    "    sum = 0\n",
    "    while(num>0):\n",
    "        sum +=num%10\n",
    "        num//=10\n",
    "        \n",
    "    return sum  \n",
    "# input:"
   ]
  },
  {
   "cell_type": "code",
   "execution_count": 3,
   "id": "56d83142-1ac0-4764-adcc-ef511fc7519f",
   "metadata": {},
   "outputs": [
    {
     "data": {
      "text/plain": [
       "12"
      ]
     },
     "execution_count": 3,
     "metadata": {},
     "output_type": "execute_result"
    }
   ],
   "source": [
    "sum_digits(1236)"
   ]
  },
  {
   "cell_type": "markdown",
   "id": "29569ca5",
   "metadata": {},
   "source": [
    "$$\n",
    "T(n)=\n",
    "\\begin{cases}\n",
    "3T(n-1) & \\quad \\text{if n > 0}\\\\ \n",
    "0 & \\quad \\text{otherwise}\n",
    "\\end{cases}\n",
    "$$"
   ]
  },
  {
   "cell_type": "markdown",
   "id": "3832b4be",
   "metadata": {},
   "source": [
    "- T(n) = 3[3[T(n-2)]]\n",
    "      = 3^2[T(n-1)]\n",
    "      = 3^n[T(0)]   "
   ]
  },
  {
   "cell_type": "markdown",
   "id": "a8dd6844",
   "metadata": {},
   "source": [
    "# Generating Power Sets"
   ]
  },
  {
   "cell_type": "markdown",
   "id": "6a86d53f",
   "metadata": {},
   "source": [
    "# Genarating power Sets with Recussion\n",
    "- []->[]\n",
    "- [1]->[1][]\n",
    "- [1,2]->[][1][2][1,2] \n",
    "- [1,2,3]->[][1][2][1,2][3][1,3][2,3][1,2,3]"
   ]
  },
  {
   "cell_type": "markdown",
   "id": "55d8ffc4",
   "metadata": {},
   "source": [
    "# Data Structure\n",
    "- It is a way to store and organise data efficiently."
   ]
  },
  {
   "cell_type": "markdown",
   "id": "9d10fef0",
   "metadata": {},
   "source": [
    "# linear Vs Non-linear Data Structruced\n",
    "\n",
    "## Linear \n",
    "- Array : used to stored multiple item of same type in contineous memory loaction.\n",
    "     - Disadvantage: fixed size (memory waste), homogeneous\n",
    "       Referential arrays(call by reference)\n",
    "     - hetergeneous array is made by call by reference. list is a referentail array.\n",
    "     - due to refrential array speed get slower compared to homogeneous array. \n",
    "      **Dynamic array is adjusted size with inputs in compare to static array**\n",
    "- Linkedlist : \n",
    "- Stacks\n",
    "- Queues\n",
    "- Hasting\n",
    "\n",
    "# Non -linear\n",
    "- Tree\n",
    "- Graph"
   ]
  },
  {
   "cell_type": "markdown",
   "id": "8edb96dd",
   "metadata": {},
   "source": [
    "# Dynamic Array"
   ]
  },
  {
   "cell_type": "code",
   "execution_count": 3,
   "id": "988c2609",
   "metadata": {},
   "outputs": [],
   "source": [
    "l = []\n",
    "\n",
    "import sys"
   ]
  },
  {
   "cell_type": "code",
   "execution_count": 5,
   "id": "50de55ad",
   "metadata": {},
   "outputs": [
    {
     "data": {
      "text/plain": [
       "56"
      ]
     },
     "execution_count": 5,
     "metadata": {},
     "output_type": "execute_result"
    }
   ],
   "source": [
    "l = []\n",
    "sys.getsizeof(l)"
   ]
  },
  {
   "cell_type": "code",
   "execution_count": 7,
   "id": "77254396",
   "metadata": {},
   "outputs": [
    {
     "data": {
      "text/plain": [
       "88"
      ]
     },
     "execution_count": 7,
     "metadata": {},
     "output_type": "execute_result"
    }
   ],
   "source": [
    "l.append(1)\n",
    "sys.getsizeof(l)"
   ]
  },
  {
   "cell_type": "markdown",
   "id": "545aa0d6",
   "metadata": {},
   "source": [
    "# Example of dynamic array\n",
    "l = []\n",
    "\n",
    "for i in range(100):\n",
    "    print(i, sys.getsizeof(l))\n",
    "    l.append(i)"
   ]
  },
  {
   "cell_type": "code",
   "execution_count": 6,
   "id": "fe86ecfb",
   "metadata": {},
   "outputs": [],
   "source": [
    "import ctypes # its C type data"
   ]
  },
  {
   "cell_type": "code",
   "execution_count": 94,
   "id": "5deef266",
   "metadata": {},
   "outputs": [],
   "source": [
    "class mylist:\n",
    "    \n",
    "    def __init__(self):\n",
    "        self.size = 1\n",
    "        self.n = 0\n",
    "        \n",
    "        # create a C type array with size = self.size\n",
    "        self.A = self.__make_array(self.size)    \n",
    "        \n",
    "    def __len__(self):\n",
    "        return self.n\n",
    "    \n",
    "    def __str__(self):\n",
    "        result = \"\"\n",
    "        for i in range(self.n):\n",
    "            result = result + str(self.A[i]) + \",\"\n",
    "        return '[' + result[:-1] + ']'\n",
    "    \n",
    "    def __getitem__(self,index):\n",
    "        if 0<= index < self.n:\n",
    "            return self.A[index]\n",
    "        else:\n",
    "            return \"IndexError : Index out of range\"\n",
    "        \n",
    "    \n",
    "    def append(self, item):\n",
    "        if self.n == self.size:\n",
    "            \n",
    "            self.__resize(self.size*2)\n",
    "            \n",
    "        self.A[self.n] = item\n",
    "        self.n = self.n + 1\n",
    "        \n",
    "    def pop(self):\n",
    "        if self.n == 0:\n",
    "            return \"Empty list\"\n",
    "        print(self.A[self.n-1])\n",
    "        self.n = self.n -1\n",
    "    \n",
    "    def clear(self):\n",
    "        self.n = 0\n",
    "        self.size = 0\n",
    "        \n",
    "    def find(self, item):\n",
    "        \n",
    "        for i in range(self.n):\n",
    "            if self.A[i] == item:\n",
    "                return i\n",
    "        return \"Value Error: not in list\"  \n",
    "    \n",
    "    def __delitem__(self,pos):\n",
    "        \n",
    "        if 0 <= pos <self.n:\n",
    "            for i in range(pos, self.n-1):\n",
    "                self.A[i] = self.A[i+1]\n",
    "\n",
    "            self.n= self.n - 1 \n",
    "        \n",
    "    \n",
    "    def insert(self,pos, item):\n",
    "        \n",
    "        if self.n == self.size:\n",
    "            self.__resize(self.size*2)\n",
    "        \n",
    "        for i in range(self.n, pos, -1):\n",
    "            self.A[i] = self.A[i-1]\n",
    "        \n",
    "        self.A[pos] = item\n",
    "        self.n = self.n + 1  \n",
    "        \n",
    "    def remove(self, item):\n",
    "        pos = self.find(item)\n",
    "        \n",
    "        if type(pos) == int:\n",
    "            self.__delitem__(pos)\n",
    "            \n",
    "        else:\n",
    "            return pos\n",
    "                \n",
    "    def __resize(self,new_capacity):\n",
    "        B = self.__make_array(new_capacity)\n",
    "        self.size = new_capacity\n",
    "        \n",
    "        for i in range(self.n):\n",
    "            B[i] = self.A[i]\n",
    "            \n",
    "        self.A = B    \n",
    "    \n",
    "    def __make_array(self, capacity):\n",
    "        return (capacity*ctypes.py_object)() # createa C type array(static, referential) with size capacity\n",
    "    "
   ]
  },
  {
   "cell_type": "markdown",
   "id": "bc33f43f",
   "metadata": {},
   "source": [
    "## add featues like sort/min/max/sum/extend/negative indexing/ slicing /merge"
   ]
  },
  {
   "cell_type": "code",
   "execution_count": 95,
   "id": "de8ac829",
   "metadata": {},
   "outputs": [],
   "source": [
    "L = mylist()"
   ]
  },
  {
   "cell_type": "code",
   "execution_count": 99,
   "id": "802cd4ba",
   "metadata": {},
   "outputs": [],
   "source": [
    "L.append(\"hello\")\n",
    "L.append(3.4)\n",
    "L.append(True)\n",
    "L.append(100)"
   ]
  },
  {
   "cell_type": "code",
   "execution_count": 106,
   "id": "d632d014",
   "metadata": {},
   "outputs": [],
   "source": [
    "L.remove(\"hello\")"
   ]
  },
  {
   "cell_type": "code",
   "execution_count": 107,
   "id": "a7f4b7d6",
   "metadata": {},
   "outputs": [
    {
     "name": "stdout",
     "output_type": "stream",
     "text": [
      "[3.4,hello,3.4,100]\n"
     ]
    }
   ],
   "source": [
    "print(L)"
   ]
  },
  {
   "cell_type": "code",
   "execution_count": 45,
   "id": "fa60a8f0",
   "metadata": {},
   "outputs": [],
   "source": [
    "L.clear()"
   ]
  },
  {
   "cell_type": "code",
   "execution_count": null,
   "id": "4ac5bde4",
   "metadata": {},
   "outputs": [],
   "source": []
  },
  {
   "cell_type": "code",
   "execution_count": null,
   "id": "adb5754a",
   "metadata": {},
   "outputs": [],
   "source": []
  }
 ],
 "metadata": {
  "kernelspec": {
   "display_name": "Python 3 (ipykernel)",
   "language": "python",
   "name": "python3"
  },
  "language_info": {
   "codemirror_mode": {
    "name": "ipython",
    "version": 3
   },
   "file_extension": ".py",
   "mimetype": "text/x-python",
   "name": "python",
   "nbconvert_exporter": "python",
   "pygments_lexer": "ipython3",
   "version": "3.10.9"
  },
  "toc-autonumbering": false,
  "toc-showcode": false
 },
 "nbformat": 4,
 "nbformat_minor": 5
}
