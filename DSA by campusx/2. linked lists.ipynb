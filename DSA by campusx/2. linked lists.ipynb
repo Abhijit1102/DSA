{
 "cells": [
  {
   "cell_type": "markdown",
   "id": "b31f084c",
   "metadata": {},
   "source": [
    "## Linked list:\n",
    " - Its is a collection of nodes\n",
    " - In linklist write operation has time complexibity is n.\n",
    " - In array memory is unused or waste.\n",
    " - Linked list can be used more Data Structure liked stacked, queue.\n",
    " - In array read operation is constant.\n",
    "\n",
    " \n",
    "**In case of write operation(delete, insert) the time complexibity is n** "
   ]
  },
  {
   "cell_type": "markdown",
   "id": "e340f456",
   "metadata": {},
   "source": [
    "#### Linked list is a linear Data structure which is used to store data in non continuous memory location. It is a collevtion of nodes ( nodes is object containing data and loaction of next nodes)\n",
    "- 1st linked list is called head\n",
    "- last linked list is called tail\n",
    "- In array where Data are storing continuous memory location having no gap between any each element and viz. in linked list."
   ]
  },
  {
   "cell_type": "code",
   "execution_count": 38,
   "id": "8d354093",
   "metadata": {},
   "outputs": [],
   "source": [
    "class Node:\n",
    "    \n",
    "    def __init__(self,value):\n",
    "        self.data = value\n",
    "        self.next = None"
   ]
  },
  {
   "cell_type": "code",
   "execution_count": 39,
   "id": "b4392334",
   "metadata": {},
   "outputs": [
    {
     "data": {
      "text/plain": [
       "(1, None)"
      ]
     },
     "execution_count": 39,
     "metadata": {},
     "output_type": "execute_result"
    }
   ],
   "source": [
    "a = Node(1)\n",
    "a.data, a.next"
   ]
  },
  {
   "cell_type": "code",
   "execution_count": 40,
   "id": "9445ad71",
   "metadata": {},
   "outputs": [],
   "source": [
    "a, b, c = Node(1), Node(2), Node(3)"
   ]
  },
  {
   "cell_type": "code",
   "execution_count": 41,
   "id": "12ee442d",
   "metadata": {},
   "outputs": [
    {
     "name": "stdout",
     "output_type": "stream",
     "text": [
      "1707598154192\n",
      "1707598836256\n",
      "1707598828096\n"
     ]
    }
   ],
   "source": [
    "print(id(a))\n",
    "print(id(b))\n",
    "print(id(c))"
   ]
  },
  {
   "cell_type": "markdown",
   "id": "c2030c41",
   "metadata": {},
   "source": [
    "- head = None is eaxmple of empty linked list\n",
    "- lenght of linked lists id no of node in the Linked list\n",
    "\n",
    "### Operation in linked list\n",
    "- Insert\n",
    "   - head\n",
    "   - tail\n",
    "   - middle\n",
    "- Traverse\n",
    "   - print\n",
    "- Delete\n",
    "   - head\n",
    "   - tail(pop)\n",
    "   - value(remove)\n",
    "   - index\n",
    "- search\n",
    "   - value\n",
    "   - index\n",
    "    \n",
    "- reverse\n",
    "- max"
   ]
  },
  {
   "cell_type": "code",
   "execution_count": 25,
   "id": "862d26b7",
   "metadata": {},
   "outputs": [],
   "source": [
    "class Node:\n",
    "    \n",
    "    def __init__(self, value):\n",
    "        self.data = value\n",
    "        self.next = None\n",
    "        \n",
    "\n",
    "class Linkedlist:\n",
    "     \n",
    "    def __init__(self):\n",
    "        self.head = None\n",
    "        self.n = 0\n",
    "        \n",
    "    def __len__(self):\n",
    "        return self.n\n",
    "    \n",
    "    def insert_head(self, value):\n",
    "        new_node = Node(value)\n",
    "        new_node.next = self.head\n",
    "        self.head = new_node  # set the new node as the head\n",
    "        self.n += 1\n",
    "        \n",
    "    def __str__(self):\n",
    "        curr = self.head\n",
    "        result = ''\n",
    "        while curr != None:\n",
    "            result = result + str(curr.data) +  ' '#\"->\"\n",
    "            curr = curr.next\n",
    "        return result #[:-2]  \n",
    "    \n",
    "    def append(self, value):\n",
    "        new_node = Node(value)\n",
    "        if self.head is None:\n",
    "            self.head = new_node\n",
    "        else:\n",
    "            curr = self.head\n",
    "            while curr.next != None:\n",
    "                curr = curr.next\n",
    "            curr.next = new_node\n",
    "        self.n += 1   \n",
    "        \n",
    "    def insert_after(self, after, value):\n",
    "        new_node = Node(value)\n",
    "        curr = self.head\n",
    "        while curr != None:\n",
    "            if curr.data == after:\n",
    "                break\n",
    "            curr = curr.next\n",
    "            self.n = self.n + 1\n",
    "            \n",
    "        if curr != None:\n",
    "            new_node.next = curr.next\n",
    "            curr.next = new_node\n",
    "        \n",
    "        else:\n",
    "            return \"item not found\"\n",
    "        \n",
    "    def clear(self):\n",
    "        self.head = None\n",
    "        self.n = 0\n",
    "        \n",
    "    def delete_head(self):\n",
    "        if self.head == None:\n",
    "            return 'Empty linked list'\n",
    "        self.head = self.head.next\n",
    "        self.n = self.n -1\n",
    "        \n",
    "    def pop(self):\n",
    "        if self.head == None:\n",
    "            return \"Empty linked list\"\n",
    "        curr = self.head\n",
    "        \n",
    "        if curr.next == None:\n",
    "            return self.delete_head()\n",
    "        \n",
    "        while curr.next.next != None:\n",
    "            curr = curr.next\n",
    "            \n",
    "        curr.next = None\n",
    "        self.n = self.n -1\n",
    "        \n",
    "    def remove(self, value):\n",
    "        if self.head == None:\n",
    "            return \"Empty linked list\"\n",
    "        \n",
    "        if self.head.data == value:\n",
    "            return self.delete_head()\n",
    "       \n",
    "        curr = self.head\n",
    "        \n",
    "        while curr.next != None:\n",
    "            if curr.next.data == value:\n",
    "                break\n",
    "            curr = curr.next\n",
    "            \n",
    "        if curr.next == None:\n",
    "            return \"Not found\"\n",
    "        else:\n",
    "            curr.next = curr.next.next\n",
    "          \n",
    "    def search(self, item):\n",
    "        \n",
    "        curr = self.head\n",
    "        pos = 0\n",
    "        \n",
    "        while curr != None:\n",
    "            if curr.data == item:\n",
    "                return pos\n",
    "            \n",
    "            curr = curr.next\n",
    "            pos = pos + 1\n",
    "        return \"Item not found\"  \n",
    "    \n",
    "    def __getitem__(self,index):\n",
    "        \n",
    "        curr = self.head\n",
    "        pos = 0\n",
    "        \n",
    "        while curr != None:\n",
    "            if pos == index:\n",
    "                return curr.data\n",
    "            curr = curr.next\n",
    "            pos = pos + 1\n",
    "            \n",
    "        return \"Index Error\"    \n",
    "  \n",
    " # Recurrsion\n",
    "    def replace_max(self, value):\n",
    "        temp = self.head\n",
    "        max_ = temp\n",
    "    \n",
    "        while temp != None:\n",
    "            if temp.data > max_.data:\n",
    "                max_ = temp\n",
    "            temp = temp.next\n",
    "        \n",
    "        max_.data = value\n",
    "     \n",
    "    def sum_odd_nodes(self):\n",
    "        \n",
    "        temp = self.head\n",
    "        counter = 0\n",
    "        result = 0\n",
    "        \n",
    "        while temp != None:\n",
    "            \n",
    "            if counter %2 != 0:\n",
    "                result = result + temp.data\n",
    "            \n",
    "            counter+=1\n",
    "            temp = temp.next\n",
    "            \n",
    "        print(result)\n",
    "\n",
    "    # inplace reveral\n",
    "    \n",
    "    def reverse(self):\n",
    "        prev_node = None\n",
    "        curr_node = self.head\n",
    "\n",
    "        while curr_node != None:\n",
    "            next_node = curr_node.next\n",
    "            curr_node.next = prev_node\n",
    "            prev_node = curr_node\n",
    "            curr_node = next_node\n",
    "\n",
    "        self.head = prev_node \n",
    "        \n",
    "    def change_sent(self):\n",
    "        temp = self.head\n",
    "        \n",
    "        while temp != None:\n",
    "            \n",
    "            if temp.data == \"*\" or  temp.data== \"/\":\n",
    "                temp.data= ' '\n",
    "                \n",
    "                if temp.next.data == \"*\" or temp.next.data ==\"/\":\n",
    "                        temp.next.next.data = temp.next.next.data.upper()\n",
    "                        temp.next = temp.next.next\n",
    "            temp = temp.next   \n",
    "            \n",
    "                \n"
   ]
  },
  {
   "cell_type": "code",
   "execution_count": 26,
   "id": "2b6d6027",
   "metadata": {},
   "outputs": [],
   "source": [
    "l = Linkedlist()"
   ]
  },
  {
   "cell_type": "code",
   "execution_count": 33,
   "id": "7a74605e",
   "metadata": {},
   "outputs": [
    {
     "name": "stdout",
     "output_type": "stream",
     "text": [
      "blue   //   is   * y k s * /   The   k   c a   C   B A \n"
     ]
    }
   ],
   "source": [
    "l.insert_head(\"The\")\n",
    "l.insert_head(\" \")\n",
    "l.insert_head(\"/\")\n",
    "l.insert_head(\"*\")\n",
    "l.insert_head(\"s\")\n",
    "l.insert_head(\"k\")\n",
    "l.insert_head(\"y\")\n",
    "l.insert_head(\"*\")\n",
    "l.insert_head(\" \")\n",
    "l.insert_head(\"is\")\n",
    "l.insert_head(\" \")\n",
    "l.insert_head(\"//\")\n",
    "l.insert_head(\" \")\n",
    "l.insert_head(\"blue\")\n",
    "print(l)"
   ]
  },
  {
   "cell_type": "code",
   "execution_count": 45,
   "id": "607cb2f1",
   "metadata": {},
   "outputs": [],
   "source": [
    "l.change_sent()"
   ]
  },
  {
   "cell_type": "code",
   "execution_count": 46,
   "id": "cbe260a6",
   "metadata": {},
   "outputs": [
    {
     "name": "stdout",
     "output_type": "stream",
     "text": [
      "blue   //   is     y k s     The   k   c a   C   B A \n"
     ]
    }
   ],
   "source": [
    "print(l)"
   ]
  },
  {
   "cell_type": "markdown",
   "id": "837745a3",
   "metadata": {},
   "source": [
    "# Array (read operation(indexing,traverse) fast and write operation(insert, delete) )\n",
    "# Linked list (read operation slow and write operation fast )"
   ]
  },
  {
   "cell_type": "markdown",
   "id": "c44f60d0",
   "metadata": {},
   "source": [
    "### Q. Reverse a linked list and print it where data type is integers"
   ]
  },
  {
   "cell_type": "code",
   "execution_count": 102,
   "id": "55d0ce5f",
   "metadata": {},
   "outputs": [],
   "source": [
    "# Recurssion\n",
    "\n",
    "def fun(head):\n",
    "    if head == None :\n",
    "        return\n",
    "    if head.next.next != None:\n",
    "        print(head.data,\"\", end='')\n",
    "        fun(head.next)\n",
    "    print(heaf.data,\"\",end='')   "
   ]
  },
  {
   "cell_type": "code",
   "execution_count": null,
   "id": "a4b33b4c",
   "metadata": {},
   "outputs": [],
   "source": []
  },
  {
   "cell_type": "code",
   "execution_count": null,
   "id": "df2fa6b2",
   "metadata": {},
   "outputs": [],
   "source": []
  }
 ],
 "metadata": {
  "kernelspec": {
   "display_name": "Python 3 (ipykernel)",
   "language": "python",
   "name": "python3"
  },
  "language_info": {
   "codemirror_mode": {
    "name": "ipython",
    "version": 3
   },
   "file_extension": ".py",
   "mimetype": "text/x-python",
   "name": "python",
   "nbconvert_exporter": "python",
   "pygments_lexer": "ipython3",
   "version": "3.10.9"
  }
 },
 "nbformat": 4,
 "nbformat_minor": 5
}
