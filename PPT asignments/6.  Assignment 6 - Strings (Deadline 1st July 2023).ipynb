{
 "cells": [
  {
   "cell_type": "markdown",
   "id": "3421bbdf",
   "metadata": {},
   "source": [
    "## **Question 1**\n",
    "\n",
    "## A permutation perm of n + 1 integers of all the integers in the range [0, n] can be represented as a string s of length n where:\n",
    "\n",
    "- s[i] == 'I' if perm[i] < perm[i + 1], and\n",
    "- s[i] == 'D' if perm[i] > perm[i + 1].\n",
    "\n",
    "## Given a string s, reconstruct the permutation perm and return it. If there are multiple valid permutations perm, return **any of them**.\n",
    "\n",
    "## **Example 1:**\n",
    "\n",
    "## **Input:** s = \"IDID\"\n",
    "\n",
    "## **Output:**  [0,4,1,3,2]\n"
   ]
  },
  {
   "cell_type": "code",
   "execution_count": 4,
   "id": "4d6103d8",
   "metadata": {},
   "outputs": [],
   "source": [
    "class Solution:\n",
    "    def diStringMatch(self, s):\n",
    "        n = len(s)\n",
    "        low, high = 0, n\n",
    "        perm = []\n",
    "        \n",
    "        for char in s:\n",
    "            if char == 'I':\n",
    "                perm.append(low)\n",
    "                low += 1\n",
    "            else:\n",
    "                perm.append(high)\n",
    "                high -= 1\n",
    "        \n",
    "        perm.append(low)\n",
    "        \n",
    "        return perm\n"
   ]
  },
  {
   "cell_type": "code",
   "execution_count": 5,
   "id": "df61f264",
   "metadata": {},
   "outputs": [
    {
     "data": {
      "text/plain": [
       "[0, 4, 1, 3, 2]"
      ]
     },
     "execution_count": 5,
     "metadata": {},
     "output_type": "execute_result"
    }
   ],
   "source": [
    "obj = Solution()\n",
    "\n",
    "s = \"IDID\"\n",
    "obj.diStringMatch(s)"
   ]
  },
  {
   "cell_type": "markdown",
   "id": "400536e8",
   "metadata": {},
   "source": [
    "## **Question 2**\n",
    "## You are given an m x n integer matrix matrix with the following two properties:\n",
    "\n",
    "- Each row is sorted in non-decreasing order.\n",
    "- The first integer of each row is greater than the last integer of the previous row.\n",
    "\n",
    "## Given an integer target, return true *if* target *is in* matrix *or* false *otherwise*.\n",
    "\n",
    "## You must write a solution in O(log(m * n)) time complexity.\n",
    "\n",
    "## **Example 1:**\n",
    "\n",
    "<img src=\"https://pwskills.notion.site/image/https%3A%2F%2Fs3-us-west-2.amazonaws.com%2Fsecure.notion-static.com%2Fe4b0271f-15f0-4744-826b-18500ccfcb75%2FScreenshot_2023-05-29_005303.png?id=77708da2-2859-4622-8f75-4506ac68e59d&table=block&spaceId=6fae2e0f-dedc-48e9-bc59-af2654c78209&width=2000&userId=&cache=v2\">\n",
    "\n",
    "**Input:** matrix = [[1,3,5,7],[10,11,16,20],[23,30,34,60]], target = 3\n",
    "\n",
    "**Output:** true"
   ]
  },
  {
   "cell_type": "code",
   "execution_count": 13,
   "id": "5bfcd3d9",
   "metadata": {},
   "outputs": [],
   "source": [
    "class Solution:\n",
    "    def searchMatrix(self, matrix, target):\n",
    "        if not matrix or not matrix[0]:\n",
    "            return False\n",
    "        \n",
    "        rows = len(matrix)\n",
    "        cols = len(matrix[0])\n",
    "        \n",
    "        left = 0\n",
    "        right = rows * cols - 1\n",
    "        \n",
    "        while left <= right:\n",
    "            mid = (left + right) // 2\n",
    "            num = matrix[mid // cols][mid % cols]\n",
    "            \n",
    "            if num == target:\n",
    "                return True\n",
    "            elif num < target:\n",
    "                left = mid + 1\n",
    "            else:\n",
    "                right = mid - 1\n",
    "        \n",
    "        return False\n"
   ]
  },
  {
   "cell_type": "code",
   "execution_count": 15,
   "id": "532fd6a1",
   "metadata": {},
   "outputs": [
    {
     "data": {
      "text/plain": [
       "True"
      ]
     },
     "execution_count": 15,
     "metadata": {},
     "output_type": "execute_result"
    }
   ],
   "source": [
    "matrix = [[1,3,5,7],[10,11,16,20],[23,30,34,60]]\n",
    "target = 3\n",
    "\n",
    "obj = Solution()\n",
    "obj.searchMatrix(matrix, target)"
   ]
  },
  {
   "cell_type": "markdown",
   "id": "97df228f",
   "metadata": {},
   "source": [
    "# **Question 3**\n",
    "\n",
    "## Given an array of integers arr, return *true if and only if it is a valid mountain array*.\n",
    "\n",
    "## Recall that arr is a mountain array if and only if:\n",
    "\n",
    "- arr.length >= 3\n",
    "- There exists some i with 0 < i < arr.length - 1 such that:\n",
    "    - arr[0] < arr[1] < ... < arr[i - 1] < arr[i]\n",
    "    - arr[i] > arr[i + 1] > ... > arr[arr.length - 1]\n",
    "\n",
    "## **Example 1:**\n",
    "<img src=\"https://pwskills.notion.site/image/https%3A%2F%2Fs3-us-west-2.amazonaws.com%2Fsecure.notion-static.com%2F5565e778-ac57-4ced-85a2-ccb13268bdf6%2FScreenshot_2023-05-29_005352.png?id=08f0d28d-fd28-4ef9-bcb1-747a150826ff&table=block&spaceId=6fae2e0f-dedc-48e9-bc59-af2654c78209&width=2000&userId=&cache=v2\">\n",
    "\n",
    "## **Input:** arr = [2,1]\n",
    "\n",
    "## **Output:** false"
   ]
  },
  {
   "cell_type": "code",
   "execution_count": 17,
   "id": "0ce0adfc",
   "metadata": {},
   "outputs": [],
   "source": [
    "def valid_mountain_array(arr):\n",
    "    n = len(arr)\n",
    "\n",
    "    if n < 3:\n",
    "        return False\n",
    "\n",
    "    peak_index = max(range(1, n - 1), key=lambda i: arr[i]\n",
    "    if peak_index == 0 or peak_index == n - 1:\n",
    "        return False\n",
    "\n",
    "    for i in range(peak_index):\n",
    "        if arr[i] >= arr[i + 1]:\n",
    "            return False\n",
    "\n",
    "    for i in range(peak_index, n - 1):\n",
    "        if arr[i] <= arr[i + 1]:\n",
    "            return False\n",
    "\n",
    "    return True\n"
   ]
  },
  {
   "cell_type": "code",
   "execution_count": 18,
   "id": "5b3f3406",
   "metadata": {},
   "outputs": [
    {
     "name": "stdout",
     "output_type": "stream",
     "text": [
      "False\n"
     ]
    }
   ],
   "source": [
    "arr = [2, 1]\n",
    "print(valid_mountain_array(arr))"
   ]
  },
  {
   "cell_type": "markdown",
   "id": "f272bd6b",
   "metadata": {},
   "source": [
    "## **Question 4**\n",
    "\n",
    "## Given a binary array nums, return *the maximum length of a contiguous subarray with an equal number of* 0 *and* 1.\n",
    "\n",
    "## **Example 1:**\n",
    "\n",
    "## **Input:** nums = [0,1]\n",
    "\n",
    "## **Output:** 2\n",
    "\n",
    "## **Explanation:**\n",
    "\n",
    "## [0, 1] is the longest contiguous subarray with an equal number of 0 and 1.\n"
   ]
  },
  {
   "cell_type": "code",
   "execution_count": 19,
   "id": "ab8c3bb1",
   "metadata": {},
   "outputs": [],
   "source": [
    "def findMaxLength(nums):\n",
    "    max_length = 0\n",
    "    count = 0\n",
    "    count_dict = {0: -1} \n",
    "\n",
    "    for i, num in enumerate(nums):\n",
    "        if num == 0:\n",
    "            count -= 1\n",
    "        else:\n",
    "            count += 1\n",
    "\n",
    "        if count in count_dict:\n",
    "            max_length = max(max_length, i - count_dict[count])\n",
    "        else:\n",
    "            count_dict[count] = i\n",
    "\n",
    "    return max_length\n"
   ]
  },
  {
   "cell_type": "code",
   "execution_count": 20,
   "id": "f42440b5",
   "metadata": {},
   "outputs": [
    {
     "name": "stdout",
     "output_type": "stream",
     "text": [
      "2\n"
     ]
    }
   ],
   "source": [
    "nums = [0, 1]\n",
    "print(findMaxLength(nums))\n"
   ]
  },
  {
   "cell_type": "markdown",
   "id": "14dd0f6d",
   "metadata": {},
   "source": [
    "##  **Question 5**\n",
    "\n",
    "## The **product sum** of two equal-length arrays a and b is equal to the sum of a[i] * b[i] for all 0 <= i < a.length (**0-indexed**).\n",
    "\n",
    "- For example, if a = [1,2,3,4] and b = [5,2,3,1], the **product sum** would be 1*5 + 2*2 + 3*3 + 4*1 = 22.\n",
    "\n",
    "## Given two arrays nums1 and nums2 of length n, return *the **minimum product sum** if you are allowed to **rearrange** the **order** of the elements in* nums1.\n",
    "\n",
    "## **Example 1:**\n",
    "\n",
    "## **Input:** nums1 = [5,3,4,2], nums2 = [4,2,2,5]\n",
    "\n",
    "## **Output:** 40\n",
    "\n",
    "## **Explanation:**\n",
    "\n",
    "## We can rearrange nums1 to become [3,5,4,2]. The product sum of [3,5,4,2] and [4,2,2,5] is 3*4 + 5*2 + 4*2 + 2*5 = 40.\n",
    "\n"
   ]
  },
  {
   "cell_type": "code",
   "execution_count": 1,
   "id": "08cab815",
   "metadata": {},
   "outputs": [],
   "source": [
    "def minProductSum(nums1, nums2):\n",
    "    nums1.sort()  \n",
    "    nums2.sort(reverse=True)  \n",
    "\n",
    "    productSum = 0\n",
    "    for i in range(len(nums1)):\n",
    "        productSum += nums1[i] * nums2[i]\n",
    "\n",
    "    return productSum\n"
   ]
  },
  {
   "cell_type": "code",
   "execution_count": 2,
   "id": "dd8165ea",
   "metadata": {},
   "outputs": [
    {
     "name": "stdout",
     "output_type": "stream",
     "text": [
      "40\n"
     ]
    }
   ],
   "source": [
    "nums1 = [5, 3, 4, 2]\n",
    "nums2 = [4, 2, 2, 5]\n",
    "print(minProductSum(nums1, nums2))"
   ]
  },
  {
   "cell_type": "markdown",
   "id": "d8cdfa17",
   "metadata": {},
   "source": [
    "##  **Question 6**\n",
    "\n",
    "## An integer array original is transformed into a **doubled** array changed by appending **twice the value** of every element in original, and then randomly **shuffling** the resulting array.\n",
    "\n",
    "## Given an array changed, return original *if* changed *is a **doubled** array. If* changed *is not a **doubled** array, return an empty array. The elements in* original *may be returned in **any** order*.\n",
    "\n",
    "## **Example 1:**\n",
    "\n",
    "## **Input:** changed = [1,3,4,2,6,8]\n",
    "\n",
    "## \\**Output:** [1,3,4]\n",
    "\n",
    "## **Explanation:** One possible original array could be [1,3,4]:\n",
    "\n",
    "- Twice the value of 1 is 1 * 2 = 2.\n",
    "- Twice the value of 3 is 3 * 2 = 6.\n",
    "- Twice the value of 4 is 4 * 2 = 8.\n",
    "\n",
    "## Other original arrays could be [4,3,1] or [3,1,4].\n"
   ]
  },
  {
   "cell_type": "code",
   "execution_count": 20,
   "id": "75046055",
   "metadata": {},
   "outputs": [],
   "source": [
    "class Solution:\n",
    "    def findOriginalArray(self, changed):\n",
    "        if len(changed) % 2 != 0:\n",
    "            return []  \n",
    "        \n",
    "        counts = {}\n",
    "        original = []\n",
    "        \n",
    "        for num in changed:\n",
    "            counts[num] = counts.get(num, 0) + 1\n",
    "        \n",
    "        for num in changed:\n",
    "            if counts[num] == 0:\n",
    "                continue\n",
    "            \n",
    "            if counts.get(2 * num, 0) == 0:\n",
    "                return []  \n",
    "            \n",
    "            original.append(num)\n",
    "            counts[num] -= 1\n",
    "            counts[2 * num] -= 1\n",
    "        \n",
    "        return original"
   ]
  },
  {
   "cell_type": "code",
   "execution_count": 25,
   "id": "426f15f2",
   "metadata": {},
   "outputs": [
    {
     "data": {
      "text/plain": [
       "[1, 3, 4]"
      ]
     },
     "execution_count": 25,
     "metadata": {},
     "output_type": "execute_result"
    }
   ],
   "source": [
    "arr = [1,3,4,2,6,8]\n",
    "obj = Solution()\n",
    "obj.findOriginalArray(arr)\n"
   ]
  },
  {
   "cell_type": "markdown",
   "id": "930418b9",
   "metadata": {},
   "source": [
    "## **Question 7**\n",
    "\n",
    "## Given a positive integer n, generate an n x n matrix filled with elements from 1 to n2 in spiral order.\n",
    "\n",
    "## **Example 1:**\n",
    "\n",
    "<img src=\"https://pwskills.notion.site/image/https%3A%2F%2Fs3-us-west-2.amazonaws.com%2Fsecure.notion-static.com%2F00c8517f-7682-4e0b-bdd9-ce0e087f3f94%2FScreenshot_2023-05-29_005522.png?id=c3960b73-b433-4aff-94ba-c5b6566f6597&table=block&spaceId=6fae2e0f-dedc-48e9-bc59-af2654c78209&width=2000&userId=&cache=v2\">\n",
    "\n",
    "## **Input:** n = 3\n",
    "\n",
    "## **Output:** [[1,2,3],[8,9,4],[7,6,5]]"
   ]
  },
  {
   "cell_type": "code",
   "execution_count": 24,
   "id": "310e0ea4",
   "metadata": {},
   "outputs": [],
   "source": [
    "def generateMatrix(n):\n",
    "    matrix = [[0] * n for _ in range(n)]\n",
    "    rowStart, rowEnd = 0, n - 1\n",
    "    colStart, colEnd = 0, n - 1\n",
    "    num = 1\n",
    "\n",
    "    while num <= n * n:\n",
    "        # Top row\n",
    "        for i in range(colStart, colEnd + 1):\n",
    "            matrix[rowStart][i] = num\n",
    "            num += 1\n",
    "        rowStart += 1\n",
    "\n",
    "        # Right column\n",
    "        for i in range(rowStart, rowEnd + 1):\n",
    "            matrix[i][colEnd] = num\n",
    "            num += 1\n",
    "        colEnd -= 1\n",
    "\n",
    "        # Bottom row\n",
    "        for i in range(colEnd, colStart - 1, -1):\n",
    "            matrix[rowEnd][i] = num\n",
    "            num += 1\n",
    "        rowEnd -= 1\n",
    "\n",
    "        # Left column\n",
    "        for i in range(rowEnd, rowStart - 1, -1):\n",
    "            matrix[i][colStart] = num\n",
    "            num += 1\n",
    "        colStart += 1\n",
    "\n",
    "    return matrix\n"
   ]
  },
  {
   "cell_type": "code",
   "execution_count": 23,
   "id": "0c452c89",
   "metadata": {},
   "outputs": [
    {
     "name": "stdout",
     "output_type": "stream",
     "text": [
      "[[1, 2, 3], [8, 9, 4], [7, 6, 5]]\n"
     ]
    }
   ],
   "source": [
    "n = 3\n",
    "print(generateMatrix(n))"
   ]
  },
  {
   "cell_type": "markdown",
   "id": "36475c83",
   "metadata": {},
   "source": [
    "## **Question 8**\n",
    "\n",
    "## Given two [sparse matrices](https://en.wikipedia.org/wiki/Sparse_matrix) mat1 of size m x k and mat2 of size k x n, return the result of mat1 x mat2. You may assume that multiplication is always possible.\n",
    "\n",
    "## **Example 1:**\n",
    "\n",
    "<img src=\"https://pwskills.notion.site/image/https%3A%2F%2Fs3-us-west-2.amazonaws.com%2Fsecure.notion-static.com%2Fdf57e793-12bf-4104-a17b-4e6a88dc7955%2FScreenshot_2023-05-29_005557.png?id=8461bfc4-22e3-478f-8cfe-b09f385aa58a&table=block&spaceId=6fae2e0f-dedc-48e9-bc59-af2654c78209&width=2000&userId=&cache=v2\" size=100px>\n",
    "\n",
    "## **Input:** mat1 = [[1,0,0],[-1,0,3]], mat2 = [[7,0,0],[0,0,0],[0,0,1]]\n",
    "\n",
    "## **Output:** [[7,0,0],[-7,0,3]]\n"
   ]
  },
  {
   "cell_type": "code",
   "execution_count": 27,
   "id": "33071fbb",
   "metadata": {},
   "outputs": [],
   "source": [
    "def matrix_multiplication(mat1, mat2):\n",
    "    result = [[0] * len(mat2[0]) for _ in range(len(mat1))]\n",
    "\n",
    "    for i in range(len(mat1)):\n",
    "        for j in range(len(mat2[0])):\n",
    "            for k in range(len(mat2)):\n",
    "                result[i][j] += mat1[i][k] * mat2[k][j]\n",
    "    \n",
    "    return result\n"
   ]
  },
  {
   "cell_type": "code",
   "execution_count": 29,
   "id": "a65e99cd",
   "metadata": {},
   "outputs": [
    {
     "data": {
      "text/plain": [
       "[[7, 0, 0], [-7, 0, 3]]"
      ]
     },
     "execution_count": 29,
     "metadata": {},
     "output_type": "execute_result"
    }
   ],
   "source": [
    "mat1 = [[1, 0, 0], [-1, 0, 3]]\n",
    "mat2 = [[7, 0, 0], [0, 0, 0], [0, 0, 1]]\n",
    "\n",
    "result = matrix_multiplication(mat1, mat2)\n",
    "result\n"
   ]
  },
  {
   "cell_type": "code",
   "execution_count": null,
   "id": "848a9629",
   "metadata": {},
   "outputs": [],
   "source": []
  },
  {
   "cell_type": "code",
   "execution_count": null,
   "id": "7e1bcd3f",
   "metadata": {},
   "outputs": [],
   "source": []
  },
  {
   "cell_type": "code",
   "execution_count": null,
   "id": "50864d10",
   "metadata": {},
   "outputs": [],
   "source": []
  }
 ],
 "metadata": {
  "kernelspec": {
   "display_name": "Python 3 (ipykernel)",
   "language": "python",
   "name": "python3"
  },
  "language_info": {
   "codemirror_mode": {
    "name": "ipython",
    "version": 3
   },
   "file_extension": ".py",
   "mimetype": "text/x-python",
   "name": "python",
   "nbconvert_exporter": "python",
   "pygments_lexer": "ipython3",
   "version": "3.10.9"
  }
 },
 "nbformat": 4,
 "nbformat_minor": 5
}
