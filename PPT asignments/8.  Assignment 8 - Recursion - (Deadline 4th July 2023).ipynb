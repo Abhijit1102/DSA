{
 "cells": [
  {
   "cell_type": "markdown",
   "id": "b09b583e",
   "metadata": {},
   "source": [
    "##  **Question 1**\n",
    "\n",
    "## Given two strings s1 and s2, return *the lowest **ASCII** sum of deleted characters to make two strings equal*.\n",
    "\n",
    "## **Example 1:**\n",
    "\n",
    "## **Input:** s1 = \"sea\", s2 = \"eat\"\n",
    "\n",
    "## **Output:** 231\n",
    "\n",
    "## **Explanation:** Deleting \"s\" from \"sea\" adds the ASCII value of \"s\" (115) to the sum. Deleting \"t\" from \"eat\" adds 116 to the sum.At the end, both strings are equal, and 115 + 116 = 231 is the minimum sum possible to achieve this.\n"
   ]
  },
  {
   "cell_type": "code",
   "execution_count": 9,
   "id": "729fc691",
   "metadata": {},
   "outputs": [],
   "source": [
    "class Solution:\n",
    "    def minimumDeleteSum(self, s1, s2):\n",
    "        m, n = len(s1), len(s2)\n",
    "        dp = [[0] * (n + 1) for _ in range(m + 1)]\n",
    "\n",
    "        for i in range(1, m + 1):\n",
    "            dp[i][0] = dp[i - 1][0] + ord(s1[i - 1])\n",
    "\n",
    "        for j in range(1, n + 1):\n",
    "            dp[0][j] = dp[0][j - 1] + ord(s2[j - 1])\n",
    "\n",
    "        for i in range(1, m + 1):\n",
    "            for j in range(1, n + 1):\n",
    "                if s1[i - 1] == s2[j - 1]:\n",
    "                    dp[i][j] = dp[i - 1][j - 1]\n",
    "                else:\n",
    "                    dp[i][j] = min(\n",
    "                        dp[i - 1][j] + ord(s1[i - 1]),\n",
    "                        dp[i][j - 1] + ord(s2[j - 1]),\n",
    "                    )\n",
    "\n",
    "        return dp[m][n]\n"
   ]
  },
  {
   "cell_type": "code",
   "execution_count": 10,
   "id": "92b230a1",
   "metadata": {},
   "outputs": [
    {
     "data": {
      "text/plain": [
       "231"
      ]
     },
     "execution_count": 10,
     "metadata": {},
     "output_type": "execute_result"
    }
   ],
   "source": [
    "\n",
    "solution = Solution()\n",
    "\n",
    "result = solution.minimumDeleteSum(\"sea\", \"eat\")\n",
    "\n",
    "result"
   ]
  },
  {
   "cell_type": "markdown",
   "id": "d98e6336",
   "metadata": {},
   "source": [
    "## **Question 2**\n",
    "\n",
    "## Given a string s containing only three types of characters: '(', ')' and '*', return true *if* s *is **valid***.\n",
    "\n",
    "## The following rules define a **valid** string:\n",
    "\n",
    "- Any left parenthesis '(' must have a corresponding right parenthesis ')'.\n",
    "- Any right parenthesis ')' must have a corresponding left parenthesis '('.\n",
    "- Left parenthesis '(' must go before the corresponding right parenthesis ')'.\n",
    "- '*' could be treated as a single right parenthesis ')' or a single left parenthesis '(' or an empty string \"\".\n",
    "\n",
    "## **Example 1:**\n",
    "\n",
    "## **Input:** s = \"()\"\n",
    "\n",
    "## **Output:** true\n"
   ]
  },
  {
   "cell_type": "code",
   "execution_count": 12,
   "id": "ab1482dd",
   "metadata": {},
   "outputs": [],
   "source": [
    "class Solution:\n",
    "    def checkValidString(self, s):\n",
    "        stack = []\n",
    "\n",
    "        for c in s:\n",
    "            if c == '(' or c == '*':\n",
    "                stack.append(c)\n",
    "            elif c == ')':\n",
    "                if stack and stack[-1] == '(':\n",
    "                    stack.pop()\n",
    "                else:\n",
    "                    stack.append(c)\n",
    "\n",
    "        for c in reversed(s):\n",
    "            if c == ')' or c == '*':\n",
    "                stack.append(c)\n",
    "            elif c == '(':\n",
    "                if stack and stack[-1] == ')':\n",
    "                    stack.pop()\n",
    "                else:\n",
    "                    stack.append(c)\n",
    "\n",
    "        return not any(c == '(' for c in stack)\n",
    "\n"
   ]
  },
  {
   "cell_type": "code",
   "execution_count": 14,
   "id": "d4491ce4",
   "metadata": {},
   "outputs": [
    {
     "data": {
      "text/plain": [
       "True"
      ]
     },
     "execution_count": 14,
     "metadata": {},
     "output_type": "execute_result"
    }
   ],
   "source": [
    "solution = Solution()\n",
    "\n",
    "result = solution.checkValidString(\"()\")\n",
    "\n",
    "result"
   ]
  },
  {
   "cell_type": "markdown",
   "id": "b8a8ed28",
   "metadata": {},
   "source": [
    "## **Question 3**\n",
    "\n",
    "## Given two strings word1 and word2, return *the minimum number of **steps** required to make* word1 *and* word2 *the same*.\n",
    "\n",
    "## In one **step**, you can delete exactly one character in either string.\n",
    "\n",
    "## **Example 1:**\n",
    "\n",
    "## **Input:** word1 = \"sea\", word2 = \"eat\"\n",
    "\n",
    "## **Output:** 2\n",
    "\n",
    "## **Explanation:** You need one step to make \"sea\" to \"ea\" and another step to make \"eat\" to \"ea\".\n"
   ]
  },
  {
   "cell_type": "code",
   "execution_count": 15,
   "id": "58c393a6",
   "metadata": {},
   "outputs": [],
   "source": [
    "class Solution:\n",
    "    def minDistance(self, word1, word2):\n",
    "        m = len(word1)\n",
    "        n = len(word2)\n",
    "\n",
    "        dp = [[0] * (n + 1) for _ in range(m + 1)]\n",
    "\n",
    "        for i in range(m + 1):\n",
    "            dp[i][0] = i\n",
    "        for j in range(n + 1):\n",
    "            dp[0][j] = j\n",
    "\n",
    "        for i in range(1, m + 1):\n",
    "            for j in range(1, n + 1):\n",
    "                if word1[i - 1] == word2[j - 1]:\n",
    "                    dp[i][j] = dp[i - 1][j - 1]\n",
    "                else:\n",
    "                    dp[i][j] = min(dp[i - 1][j], dp[i][j - 1]) + 1\n",
    "\n",
    "        return dp[m][n]\n"
   ]
  },
  {
   "cell_type": "code",
   "execution_count": 18,
   "id": "3d9a3d9d",
   "metadata": {},
   "outputs": [
    {
     "data": {
      "text/plain": [
       "2"
      ]
     },
     "execution_count": 18,
     "metadata": {},
     "output_type": "execute_result"
    }
   ],
   "source": [
    "solution = Solution()\n",
    "\n",
    "result = solution.minDistance(\"sea\", \"eat\")\n",
    "\n",
    "result"
   ]
  },
  {
   "cell_type": "markdown",
   "id": "9109c2f1",
   "metadata": {},
   "source": [
    "## **Question 4**\n",
    "\n",
    "## You need to construct a binary tree from a string consisting of parenthesis and integers.\n",
    "\n",
    "## The whole input represents a binary tree. It contains an integer followed by zero, one or two pairs of parenthesis. The integer represents the root's value and a pair of parenthesis contains a child binary tree with the same structure.\n",
    "# You always start to construct the **left** child node of the parent first if it exists.\n",
    "\n",
    "<img src=\"https://pwskills.notion.site/image/https%3A%2F%2Fs3-us-west-2.amazonaws.com%2Fsecure.notion-static.com%2Fbdbea2d1-34a4-4c4b-a450-ea6db7410c43%2FScreenshot_2023-05-29_010548.png?id=4c648c67-54aa-43bc-a13d-5f3018f43703&table=block&spaceId=6fae2e0f-dedc-48e9-bc59-af2654c78209&width=2000&userId=&cache=v2\">\n",
    "\n",
    "## **Input:** s = \"4(2(3)(1))(6(5))\"\n",
    "\n",
    "## **Output:** [4,2,6,3,1,5]\n"
   ]
  },
  {
   "cell_type": "code",
   "execution_count": 19,
   "id": "07085dd2",
   "metadata": {},
   "outputs": [],
   "source": [
    "class TreeNode:\n",
    "    def __init__(self, val=0, left=None, right=None):\n",
    "        self.val = val\n",
    "        self.left = left\n",
    "        self.right = right\n",
    "\n",
    "\n",
    "class Solution:\n",
    "    def buildTree(self, s: str) -> TreeNode:\n",
    "        if not s:\n",
    "            return None\n",
    "        \n",
    "        # Find the index of the first opening parenthesis\n",
    "        opening_idx = s.find(\"(\")\n",
    "        if opening_idx == -1:\n",
    "            # No child nodes, only the root value\n",
    "            return TreeNode(int(s))\n",
    "        \n",
    "        # Extract the root value\n",
    "        root_val = int(s[:opening_idx])\n",
    "        \n",
    "        # Find the index of the matching closing parenthesis\n",
    "        closing_idx = self.findClosingParenthesis(s, opening_idx)\n",
    "        \n",
    "        # Construct the root node\n",
    "        root = TreeNode(root_val)\n",
    "        \n",
    "        # Build the left child tree\n",
    "        left_substring = s[opening_idx + 1 : closing_idx]\n",
    "        root.left = self.buildTree(left_substring)\n",
    "        \n",
    "        # Build the right child tree\n",
    "        right_substring = s[closing_idx + 2 :]\n",
    "        root.right = self.buildTree(right_substring)\n",
    "        \n",
    "        return root\n",
    "    \n",
    "    def findClosingParenthesis(self, s, start):\n",
    "        count = 0\n",
    "        for i in range(start, len(s)):\n",
    "            if s[i] == \"(\":\n",
    "                count += 1\n",
    "            elif s[i] == \")\":\n",
    "                count -= 1\n",
    "            if count == 0:\n",
    "                return i\n",
    "        return -1\n",
    "\n"
   ]
  },
  {
   "cell_type": "code",
   "execution_count": 20,
   "id": "35a16131",
   "metadata": {},
   "outputs": [
    {
     "ename": "ValueError",
     "evalue": "invalid literal for int() with base 10: '1)'",
     "output_type": "error",
     "traceback": [
      "\u001b[1;31m---------------------------------------------------------------------------\u001b[0m",
      "\u001b[1;31mValueError\u001b[0m                                Traceback (most recent call last)",
      "\u001b[1;32m~\\AppData\\Local\\Temp\\ipykernel_3676\\4020759371.py\u001b[0m in \u001b[0;36m<cell line: 3>\u001b[1;34m()\u001b[0m\n\u001b[0;32m      1\u001b[0m \u001b[0msolution\u001b[0m \u001b[1;33m=\u001b[0m \u001b[0mSolution\u001b[0m\u001b[1;33m(\u001b[0m\u001b[1;33m)\u001b[0m\u001b[1;33m\u001b[0m\u001b[1;33m\u001b[0m\u001b[0m\n\u001b[0;32m      2\u001b[0m \u001b[1;33m\u001b[0m\u001b[0m\n\u001b[1;32m----> 3\u001b[1;33m \u001b[0mresult\u001b[0m \u001b[1;33m=\u001b[0m \u001b[0msolution\u001b[0m\u001b[1;33m.\u001b[0m\u001b[0mbuildTree\u001b[0m\u001b[1;33m(\u001b[0m\u001b[1;34m\"4(2(3)(1))(6(5))\"\u001b[0m\u001b[1;33m)\u001b[0m\u001b[1;33m\u001b[0m\u001b[1;33m\u001b[0m\u001b[0m\n\u001b[0m\u001b[0;32m      4\u001b[0m \u001b[1;33m\u001b[0m\u001b[0m\n\u001b[0;32m      5\u001b[0m \u001b[1;32mdef\u001b[0m \u001b[0minorder_traversal\u001b[0m\u001b[1;33m(\u001b[0m\u001b[0mnode\u001b[0m\u001b[1;33m)\u001b[0m\u001b[1;33m:\u001b[0m\u001b[1;33m\u001b[0m\u001b[1;33m\u001b[0m\u001b[0m\n",
      "\u001b[1;32m~\\AppData\\Local\\Temp\\ipykernel_3676\\1671451440.py\u001b[0m in \u001b[0;36mbuildTree\u001b[1;34m(self, s)\u001b[0m\n\u001b[0;32m     28\u001b[0m         \u001b[1;31m# Build the left child tree\u001b[0m\u001b[1;33m\u001b[0m\u001b[1;33m\u001b[0m\u001b[0m\n\u001b[0;32m     29\u001b[0m         \u001b[0mleft_substring\u001b[0m \u001b[1;33m=\u001b[0m \u001b[0ms\u001b[0m\u001b[1;33m[\u001b[0m\u001b[0mopening_idx\u001b[0m \u001b[1;33m+\u001b[0m \u001b[1;36m1\u001b[0m \u001b[1;33m:\u001b[0m \u001b[0mclosing_idx\u001b[0m\u001b[1;33m]\u001b[0m\u001b[1;33m\u001b[0m\u001b[1;33m\u001b[0m\u001b[0m\n\u001b[1;32m---> 30\u001b[1;33m         \u001b[0mroot\u001b[0m\u001b[1;33m.\u001b[0m\u001b[0mleft\u001b[0m \u001b[1;33m=\u001b[0m \u001b[0mself\u001b[0m\u001b[1;33m.\u001b[0m\u001b[0mbuildTree\u001b[0m\u001b[1;33m(\u001b[0m\u001b[0mleft_substring\u001b[0m\u001b[1;33m)\u001b[0m\u001b[1;33m\u001b[0m\u001b[1;33m\u001b[0m\u001b[0m\n\u001b[0m\u001b[0;32m     31\u001b[0m \u001b[1;33m\u001b[0m\u001b[0m\n\u001b[0;32m     32\u001b[0m         \u001b[1;31m# Build the right child tree\u001b[0m\u001b[1;33m\u001b[0m\u001b[1;33m\u001b[0m\u001b[0m\n",
      "\u001b[1;32m~\\AppData\\Local\\Temp\\ipykernel_3676\\1671451440.py\u001b[0m in \u001b[0;36mbuildTree\u001b[1;34m(self, s)\u001b[0m\n\u001b[0;32m     32\u001b[0m         \u001b[1;31m# Build the right child tree\u001b[0m\u001b[1;33m\u001b[0m\u001b[1;33m\u001b[0m\u001b[0m\n\u001b[0;32m     33\u001b[0m         \u001b[0mright_substring\u001b[0m \u001b[1;33m=\u001b[0m \u001b[0ms\u001b[0m\u001b[1;33m[\u001b[0m\u001b[0mclosing_idx\u001b[0m \u001b[1;33m+\u001b[0m \u001b[1;36m2\u001b[0m \u001b[1;33m:\u001b[0m\u001b[1;33m]\u001b[0m\u001b[1;33m\u001b[0m\u001b[1;33m\u001b[0m\u001b[0m\n\u001b[1;32m---> 34\u001b[1;33m         \u001b[0mroot\u001b[0m\u001b[1;33m.\u001b[0m\u001b[0mright\u001b[0m \u001b[1;33m=\u001b[0m \u001b[0mself\u001b[0m\u001b[1;33m.\u001b[0m\u001b[0mbuildTree\u001b[0m\u001b[1;33m(\u001b[0m\u001b[0mright_substring\u001b[0m\u001b[1;33m)\u001b[0m\u001b[1;33m\u001b[0m\u001b[1;33m\u001b[0m\u001b[0m\n\u001b[0m\u001b[0;32m     35\u001b[0m \u001b[1;33m\u001b[0m\u001b[0m\n\u001b[0;32m     36\u001b[0m         \u001b[1;32mreturn\u001b[0m \u001b[0mroot\u001b[0m\u001b[1;33m\u001b[0m\u001b[1;33m\u001b[0m\u001b[0m\n",
      "\u001b[1;32m~\\AppData\\Local\\Temp\\ipykernel_3676\\1671451440.py\u001b[0m in \u001b[0;36mbuildTree\u001b[1;34m(self, s)\u001b[0m\n\u001b[0;32m     15\u001b[0m         \u001b[1;32mif\u001b[0m \u001b[0mopening_idx\u001b[0m \u001b[1;33m==\u001b[0m \u001b[1;33m-\u001b[0m\u001b[1;36m1\u001b[0m\u001b[1;33m:\u001b[0m\u001b[1;33m\u001b[0m\u001b[1;33m\u001b[0m\u001b[0m\n\u001b[0;32m     16\u001b[0m             \u001b[1;31m# No child nodes, only the root value\u001b[0m\u001b[1;33m\u001b[0m\u001b[1;33m\u001b[0m\u001b[0m\n\u001b[1;32m---> 17\u001b[1;33m             \u001b[1;32mreturn\u001b[0m \u001b[0mTreeNode\u001b[0m\u001b[1;33m(\u001b[0m\u001b[0mint\u001b[0m\u001b[1;33m(\u001b[0m\u001b[0ms\u001b[0m\u001b[1;33m)\u001b[0m\u001b[1;33m)\u001b[0m\u001b[1;33m\u001b[0m\u001b[1;33m\u001b[0m\u001b[0m\n\u001b[0m\u001b[0;32m     18\u001b[0m \u001b[1;33m\u001b[0m\u001b[0m\n\u001b[0;32m     19\u001b[0m         \u001b[1;31m# Extract the root value\u001b[0m\u001b[1;33m\u001b[0m\u001b[1;33m\u001b[0m\u001b[0m\n",
      "\u001b[1;31mValueError\u001b[0m: invalid literal for int() with base 10: '1)'"
     ]
    }
   ],
   "source": [
    "solution = Solution()\n",
    "\n",
    "result = solution.buildTree(\"4(2(3)(1))(6(5))\")\n",
    "\n",
    "def inorder_traversal(node):\n",
    "    if node is None:\n",
    "        return []\n",
    "    return inorder_traversal(node.left) + [node.val] + inorder_traversal(node.right)\n",
    "\n",
    "output = inorder_traversal(result)\n",
    "print(output)\n"
   ]
  },
  {
   "cell_type": "code",
   "execution_count": null,
   "id": "adfac210",
   "metadata": {},
   "outputs": [],
   "source": []
  },
  {
   "cell_type": "code",
   "execution_count": null,
   "id": "0587a055",
   "metadata": {},
   "outputs": [],
   "source": []
  },
  {
   "cell_type": "code",
   "execution_count": null,
   "id": "f7585c31",
   "metadata": {},
   "outputs": [],
   "source": []
  }
 ],
 "metadata": {
  "kernelspec": {
   "display_name": "Python 3 (ipykernel)",
   "language": "python",
   "name": "python3"
  },
  "language_info": {
   "codemirror_mode": {
    "name": "ipython",
    "version": 3
   },
   "file_extension": ".py",
   "mimetype": "text/x-python",
   "name": "python",
   "nbconvert_exporter": "python",
   "pygments_lexer": "ipython3",
   "version": "3.10.9"
  }
 },
 "nbformat": 4,
 "nbformat_minor": 5
}
