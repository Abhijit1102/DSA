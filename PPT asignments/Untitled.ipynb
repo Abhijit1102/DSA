{
 "cells": [
  {
   "cell_type": "code",
   "execution_count": 13,
   "id": "c63f240b",
   "metadata": {},
   "outputs": [
    {
     "name": "stdout",
     "output_type": "stream",
     "text": [
      "15\n"
     ]
    }
   ],
   "source": [
    "\n",
    " def func(n):\n",
    "          if n == 1 :\n",
    "              return 2\n",
    "\n",
    "          return n*func(n-1) // 2\n",
    " print(func(5))"
   ]
  },
  {
   "cell_type": "code",
   "execution_count": 18,
   "id": "4f197611",
   "metadata": {},
   "outputs": [
    {
     "name": "stdout",
     "output_type": "stream",
     "text": [
      "2IA\n"
     ]
    }
   ],
   "source": [
    "def func(s):\n",
    "\n",
    "        if len(s) <= 1:\n",
    "            return s\n",
    "\n",
    "        return func(s[ 2 : ]) + s[0]\n",
    "print( func( \"AeI123\" ) )"
   ]
  },
  {
   "cell_type": "code",
   "execution_count": null,
   "id": "3df6171e",
   "metadata": {},
   "outputs": [],
   "source": []
  }
 ],
 "metadata": {
  "kernelspec": {
   "display_name": "Python 3 (ipykernel)",
   "language": "python",
   "name": "python3"
  },
  "language_info": {
   "codemirror_mode": {
    "name": "ipython",
    "version": 3
   },
   "file_extension": ".py",
   "mimetype": "text/x-python",
   "name": "python",
   "nbconvert_exporter": "python",
   "pygments_lexer": "ipython3",
   "version": "3.10.9"
  }
 },
 "nbformat": 4,
 "nbformat_minor": 5
}
