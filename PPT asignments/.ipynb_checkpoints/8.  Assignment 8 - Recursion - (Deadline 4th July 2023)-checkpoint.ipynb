{
 "cells": [
  {
   "cell_type": "markdown",
   "id": "d5758243",
   "metadata": {},
   "source": [
    "##  **Question 1**\n",
    "\n",
    "## Given two strings s1 and s2, return *the lowest **ASCII** sum of deleted characters to make two strings equal*.\n",
    "\n",
    "## **Example 1:**\n",
    "\n",
    "## **Input:** s1 = \"sea\", s2 = \"eat\"\n",
    "\n",
    "## **Output:** 231\n",
    "\n",
    "## **Explanation:** Deleting \"s\" from \"sea\" adds the ASCII value of \"s\" (115) to the sum. Deleting \"t\" from \"eat\" adds 116 to the sum.At the end, both strings are equal, and 115 + 116 = 231 is the minimum sum possible to achieve this.\n"
   ]
  },
  {
   "cell_type": "code",
   "execution_count": 9,
   "id": "c952f1fe",
   "metadata": {},
   "outputs": [],
   "source": [
    "class Solution:\n",
    "    def minimumDeleteSum(self, s1, s2):\n",
    "        m, n = len(s1), len(s2)\n",
    "        dp = [[0] * (n + 1) for _ in range(m + 1)]\n",
    "\n",
    "        for i in range(1, m + 1):\n",
    "            dp[i][0] = dp[i - 1][0] + ord(s1[i - 1])\n",
    "\n",
    "        for j in range(1, n + 1):\n",
    "            dp[0][j] = dp[0][j - 1] + ord(s2[j - 1])\n",
    "\n",
    "        for i in range(1, m + 1):\n",
    "            for j in range(1, n + 1):\n",
    "                if s1[i - 1] == s2[j - 1]:\n",
    "                    dp[i][j] = dp[i - 1][j - 1]\n",
    "                else:\n",
    "                    dp[i][j] = min(\n",
    "                        dp[i - 1][j] + ord(s1[i - 1]),\n",
    "                        dp[i][j - 1] + ord(s2[j - 1]),\n",
    "                    )\n",
    "\n",
    "        return dp[m][n]\n"
   ]
  },
  {
   "cell_type": "code",
   "execution_count": 10,
   "id": "11a45904",
   "metadata": {},
   "outputs": [
    {
     "data": {
      "text/plain": [
       "231"
      ]
     },
     "execution_count": 10,
     "metadata": {},
     "output_type": "execute_result"
    }
   ],
   "source": [
    "\n",
    "solution = Solution()\n",
    "\n",
    "result = solution.minimumDeleteSum(\"sea\", \"eat\")\n",
    "\n",
    "result"
   ]
  },
  {
   "cell_type": "markdown",
   "id": "6112bca1",
   "metadata": {},
   "source": [
    "## **Question 2**\n",
    "\n",
    "## Given a string s containing only three types of characters: '(', ')' and '*', return true *if* s *is **valid***.\n",
    "\n",
    "## The following rules define a **valid** string:\n",
    "\n",
    "- Any left parenthesis '(' must have a corresponding right parenthesis ')'.\n",
    "- Any right parenthesis ')' must have a corresponding left parenthesis '('.\n",
    "- Left parenthesis '(' must go before the corresponding right parenthesis ')'.\n",
    "- '*' could be treated as a single right parenthesis ')' or a single left parenthesis '(' or an empty string \"\".\n",
    "\n",
    "## **Example 1:**\n",
    "\n",
    "## **Input:** s = \"()\"\n",
    "\n",
    "## **Output:** true\n"
   ]
  },
  {
   "cell_type": "code",
   "execution_count": 12,
   "id": "36937147",
   "metadata": {},
   "outputs": [],
   "source": [
    "class Solution:\n",
    "    def checkValidString(self, s):\n",
    "        stack = []\n",
    "\n",
    "        # First pass: Match '(' and '*'\n",
    "        for c in s:\n",
    "            if c == '(' or c == '*':\n",
    "                stack.append(c)\n",
    "            elif c == ')':\n",
    "                if stack and stack[-1] == '(':\n",
    "                    stack.pop()\n",
    "                else:\n",
    "                    stack.append(c)\n",
    "\n",
    "        # Second pass: Match remaining '(' and '*'\n",
    "        for c in reversed(s):\n",
    "            if c == ')' or c == '*':\n",
    "                stack.append(c)\n",
    "            elif c == '(':\n",
    "                if stack and stack[-1] == ')':\n",
    "                    stack.pop()\n",
    "                else:\n",
    "                    stack.append(c)\n",
    "\n",
    "        # Check if all parentheses have been matched\n",
    "        return not any(c == '(' for c in stack)\n",
    "\n"
   ]
  },
  {
   "cell_type": "code",
   "execution_count": 14,
   "id": "913b3d74",
   "metadata": {},
   "outputs": [
    {
     "data": {
      "text/plain": [
       "True"
      ]
     },
     "execution_count": 14,
     "metadata": {},
     "output_type": "execute_result"
    }
   ],
   "source": [
    "solution = Solution()\n",
    "\n",
    "result = solution.checkValidString(\"()\")\n",
    "\n",
    "result"
   ]
  },
  {
   "cell_type": "markdown",
   "id": "17bfb67f",
   "metadata": {},
   "source": [
    "## **Question 3**\n",
    "\n",
    "## Given two strings word1 and word2, return *the minimum number of **steps** required to make* word1 *and* word2 *the same*.\n",
    "\n",
    "## In one **step**, you can delete exactly one character in either string.\n",
    "\n",
    "## **Example 1:**\n",
    "\n",
    "## **Input:** word1 = \"sea\", word2 = \"eat\"\n",
    "\n",
    "## **Output:** 2\n",
    "\n",
    "## **Explanation:** You need one step to make \"sea\" to \"ea\" and another step to make \"eat\" to \"ea\".\n"
   ]
  },
  {
   "cell_type": "code",
   "execution_count": 15,
   "id": "8bc6204b",
   "metadata": {},
   "outputs": [],
   "source": [
    "class Solution:\n",
    "    def minDistance(self, word1, word2):\n",
    "        m = len(word1)\n",
    "        n = len(word2)\n",
    "\n",
    "        # Create a 2-dimensional dp array\n",
    "        dp = [[0] * (n + 1) for _ in range(m + 1)]\n",
    "\n",
    "        # Initialize the first row and column\n",
    "        for i in range(m + 1):\n",
    "            dp[i][0] = i\n",
    "        for j in range(n + 1):\n",
    "            dp[0][j] = j\n",
    "\n",
    "        # Fill in the dp array\n",
    "        for i in range(1, m + 1):\n",
    "            for j in range(1, n + 1):\n",
    "                if word1[i - 1] == word2[j - 1]:\n",
    "                    dp[i][j] = dp[i - 1][j - 1]\n",
    "                else:\n",
    "                    dp[i][j] = min(dp[i - 1][j], dp[i][j - 1]) + 1\n",
    "\n",
    "        return dp[m][n]\n"
   ]
  },
  {
   "cell_type": "code",
   "execution_count": 18,
   "id": "6056867b",
   "metadata": {},
   "outputs": [
    {
     "data": {
      "text/plain": [
       "2"
      ]
     },
     "execution_count": 18,
     "metadata": {},
     "output_type": "execute_result"
    }
   ],
   "source": [
    "solution = Solution()\n",
    "\n",
    "result = solution.minDistance(\"sea\", \"eat\")\n",
    "\n",
    "result"
   ]
  },
  {
   "cell_type": "code",
   "execution_count": null,
   "id": "793d31ff",
   "metadata": {},
   "outputs": [],
   "source": []
  },
  {
   "cell_type": "code",
   "execution_count": null,
   "id": "62a7d783",
   "metadata": {},
   "outputs": [],
   "source": []
  },
  {
   "cell_type": "code",
   "execution_count": null,
   "id": "f8af5d51",
   "metadata": {},
   "outputs": [],
   "source": []
  },
  {
   "cell_type": "code",
   "execution_count": null,
   "id": "c7818100",
   "metadata": {},
   "outputs": [],
   "source": []
  },
  {
   "cell_type": "code",
   "execution_count": null,
   "id": "c4bf8af1",
   "metadata": {},
   "outputs": [],
   "source": []
  },
  {
   "cell_type": "code",
   "execution_count": null,
   "id": "5a7bad61",
   "metadata": {},
   "outputs": [],
   "source": []
  }
 ],
 "metadata": {
  "kernelspec": {
   "display_name": "Python 3 (ipykernel)",
   "language": "python",
   "name": "python3"
  },
  "language_info": {
   "codemirror_mode": {
    "name": "ipython",
    "version": 3
   },
   "file_extension": ".py",
   "mimetype": "text/x-python",
   "name": "python",
   "nbconvert_exporter": "python",
   "pygments_lexer": "ipython3",
   "version": "3.10.9"
  }
 },
 "nbformat": 4,
 "nbformat_minor": 5
}
