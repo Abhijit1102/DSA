{
 "cells": [
  {
   "cell_type": "markdown",
   "id": "e5ee1741",
   "metadata": {},
   "source": [
    "##  **Question 1**\n",
    "## Given three integer arrays arr1, arr2 and arr3 **sorted** in **strictly increasing** order, return a sorted array of **only** the integers that appeared in **all** three arrays.\n",
    "\n",
    "## **Example 1:**\n",
    "\n",
    "- Input: arr1 = [1,2,3,4,5], arr2 = [1,2,5,7,9], arr3 = [1,3,4,5,8]\n",
    "\n",
    "- Output: [1,5]\n",
    "\n",
    "### **Explanation:** Only 1 and 5 appeared in the three arrays.\n"
   ]
  },
  {
   "cell_type": "code",
   "execution_count": 1,
   "id": "03a65071",
   "metadata": {},
   "outputs": [],
   "source": [
    "def findCommonElements(arr1, arr2, arr3):\n",
    "    ptr1 = ptr2 = ptr3 = 0\n",
    "    result = []\n",
    "\n",
    "    while ptr1 < len(arr1) and ptr2 < len(arr2) and ptr3 < len(arr3):\n",
    "        if arr1[ptr1] == arr2[ptr2] == arr3[ptr3]:\n",
    "            result.append(arr1[ptr1])\n",
    "            ptr1 += 1\n",
    "            ptr2 += 1\n",
    "            ptr3 += 1\n",
    "        else:\n",
    "            min_val = min(arr1[ptr1], arr2[ptr2], arr3[ptr3])\n",
    "            if arr1[ptr1] == min_val:\n",
    "                ptr1 += 1\n",
    "            if arr2[ptr2] == min_val:\n",
    "                ptr2 += 1\n",
    "            if arr3[ptr3] == min_val:\n",
    "                ptr3 += 1\n",
    "\n",
    "    return result\n"
   ]
  },
  {
   "cell_type": "code",
   "execution_count": 2,
   "id": "62e9faf1",
   "metadata": {},
   "outputs": [
    {
     "name": "stdout",
     "output_type": "stream",
     "text": [
      "[1, 5]\n"
     ]
    }
   ],
   "source": [
    "arr1 = [1, 2, 3, 4, 5]\n",
    "arr2 = [1, 2, 5, 7, 9]\n",
    "arr3 = [1, 3, 4, 5, 8]\n",
    "\n",
    "result = findCommonElements(arr1, arr2, arr3)\n",
    "print(result)  "
   ]
  },
  {
   "cell_type": "markdown",
   "id": "c9fa6999",
   "metadata": {},
   "source": [
    "## **Question 2**\n",
    "\n",
    "## Given two **0-indexed** integer arrays nums1 and nums2, return *a list* answer *of size* 2 *where:*\n",
    "\n",
    "- answer[0] *is a list of all **distinct** integers in* nums1 *which are **not** present in* nums2*.*\n",
    "- answer[1] *is a list of all **distinct** integers in* nums2 *which are **not** present in* nums1.\n",
    "\n",
    "## **Note** that the integers in the lists may be returned in **any** order.\n",
    "\n",
    "## **Example 1:**\n",
    "\n",
    "## **Input:** nums1 = [1,2,3], nums2 = [2,4,6]\n",
    "\n",
    "## **Output:** [[1,3],[4,6]]\n",
    "\n",
    "## **Explanation:**\n",
    "\n",
    "## For nums1, nums1[1] = 2 is present at index 0 of nums2, whereas nums1[0] = 1 and nums1[2] = 3 are not present in nums2. Therefore, answer[0] = [1,3].\n",
    "\n",
    "## For nums2, nums2[0] = 2 is present at index 1 of nums1, whereas nums2[1] = 4 and nums2[2] = 6 are not present in nums2. Therefore, answer[1] = [4,6].\n"
   ]
  },
  {
   "cell_type": "code",
   "execution_count": 3,
   "id": "899e89d8",
   "metadata": {},
   "outputs": [],
   "source": [
    "def find_difference(nums1, nums2):\n",
    "    set1 = set(nums1)\n",
    "    set2 = set(nums2)\n",
    "    \n",
    "    diff_nums1 = list(set1 - set2)\n",
    "    diff_nums2 = list(set2 - set1)\n",
    "    \n",
    "    return [diff_nums1, diff_nums2]\n"
   ]
  },
  {
   "cell_type": "code",
   "execution_count": 4,
   "id": "86159e13",
   "metadata": {},
   "outputs": [
    {
     "name": "stdout",
     "output_type": "stream",
     "text": [
      "[[1, 3], [4, 6]]\n"
     ]
    }
   ],
   "source": [
    "nums1 = [1, 2, 3]\n",
    "nums2 = [2, 4, 6]\n",
    "result = find_difference(nums1, nums2)\n",
    "print(result)\n"
   ]
  },
  {
   "cell_type": "markdown",
   "id": "fc7ce444",
   "metadata": {},
   "source": [
    "## **Question 3**\n",
    "## Given a 2D integer array matrix, return *the **transpose** of* matrix.\n",
    "\n",
    "## The **transpose** of a matrix is the matrix flipped over its main diagonal, switching the matrix's row and column indices.\n",
    "\n",
    "## **Example 1:**\n",
    "\n",
    "- Input: matrix = [[1,2,3],[4,5,6],[7,8,9]]\n",
    "\n",
    "- Output: [[1,4,7],[2,5,8],[3,6,9]]\n",
    "\n",
    "<img src=\"https://file.notion.so/f/s/a54805f4-c9b5-491c-a900-8e8a94062c79/iamge_v3.png?id=3cc2488f-506b-453d-8928-81a5c8f5c5c0&table=block&spaceId=6fae2e0f-dedc-48e9-bc59-af2654c78209&expirationTimestamp=1688133600000&signature=ulXB3ewecVbeAy-P65Vl9zhnERon1ChDxJndRU6J5Qs&downloadName=iamge_v3.png\">"
   ]
  },
  {
   "cell_type": "code",
   "execution_count": 5,
   "id": "dfffe2de",
   "metadata": {},
   "outputs": [
    {
     "name": "stdout",
     "output_type": "stream",
     "text": [
      "[[1, 4, 7], [2, 5, 8], [3, 6, 9]]\n"
     ]
    }
   ],
   "source": [
    "matrix = [[1, 2, 3], [4, 5, 6], [7, 8, 9]]\n",
    "result = []\n",
    "for i in range(len(matrix[0])):\n",
    "    temp = []\n",
    "    for row in matrix:\n",
    "        temp.append(row[i])\n",
    "    result.append(temp)\n",
    "print(result)\n"
   ]
  },
  {
   "cell_type": "markdown",
   "id": "37c6c9ff",
   "metadata": {},
   "source": [
    "##  **Question 4**\n",
    "## Given an integer array nums of 2n integers, group these integers into n pairs (a1, b1), (a2, b2), ..., (an, bn) such that the sum of min(ai, bi) for all i is **maximized**. Return *the maximized sum*.\n",
    "\n",
    "## **Example 1:**\n",
    "\n",
    "- Input: nums = [1,4,3,2]\n",
    "\n",
    "## Output: 4\n",
    "\n",
    "## **Explanation:** All possible pairings (ignoring the ordering of elements) are:\n",
    "\n",
    "- 1. (1, 4), (2, 3) -> min(1, 4) + min(2, 3) = 1 + 2 = 3\n",
    "\n",
    "- 2. (1, 3), (2, 4) -> min(1, 3) + min(2, 4) = 1 + 2 = 3\n",
    "\n",
    "- 3. (1, 2), (3, 4) -> min(1, 2) + min(3, 4) = 1 + 3 = 4\n",
    "\n",
    "## So the maximum possible sum is 4.\n",
    "\n"
   ]
  },
  {
   "cell_type": "code",
   "execution_count": 6,
   "id": "25b47abd",
   "metadata": {},
   "outputs": [
    {
     "name": "stdout",
     "output_type": "stream",
     "text": [
      "4\n"
     ]
    }
   ],
   "source": [
    "def arrayPairSum(nums):\n",
    "    nums.sort()\n",
    "    pair_sum = 0\n",
    "    for i in range(0, len(nums), 2):\n",
    "        pair_sum += min(nums[i], nums[i+1])\n",
    "    return pair_sum\n",
    "\n",
    "\n",
    "nums = [1, 4, 3, 2]\n",
    "maximized_sum = arrayPairSum(nums)\n",
    "print(maximized_sum) \n"
   ]
  },
  {
   "cell_type": "markdown",
   "id": "c41ac52c",
   "metadata": {},
   "source": [
    "##  **Question 5**\n",
    "## You have n coins and you want to build a staircase with these coins. The staircase consists of k rows where the ith row has exactly i coins. The last row of the staircase **may be** incomplete.\n",
    "\n",
    "## Given the integer n, return *the number of **complete rows** of the staircase you will build*.\n",
    "\n",
    "## **Example 1:**\n",
    "\n",
    "<img src=\"https://pwskills.notion.site/image/https%3A%2F%2Fs3-us-west-2.amazonaws.com%2Fsecure.notion-static.com%2F4bd91cfa-d2b1-47b3-8197-a72e8dcfff4b%2Fv2.jpg?id=f76e61a3-ed52-44d0-8acb-0eb5077747c7&table=block&spaceId=6fae2e0f-dedc-48e9-bc59-af2654c78209&width=2000&userId=&cache=v2\">\n",
    "\n",
    "## **Input:** n = 5\n",
    "\n",
    "## **Output:** 2\n",
    "\n",
    "## **Explanation:** Because the 3rd row is incomplete, we return 2.\n"
   ]
  },
  {
   "cell_type": "code",
   "execution_count": 7,
   "id": "ef57b813",
   "metadata": {},
   "outputs": [],
   "source": [
    "def count_complete_rows(n):\n",
    "    k = 0\n",
    "    while n >= k + 1:\n",
    "        n -= k + 1\n",
    "        k += 1\n",
    "    return k\n"
   ]
  },
  {
   "cell_type": "code",
   "execution_count": 8,
   "id": "f6240583",
   "metadata": {},
   "outputs": [
    {
     "data": {
      "text/plain": [
       "2"
      ]
     },
     "execution_count": 8,
     "metadata": {},
     "output_type": "execute_result"
    }
   ],
   "source": [
    "count_complete_rows(5)"
   ]
  },
  {
   "cell_type": "markdown",
   "id": "bce2016f",
   "metadata": {},
   "source": [
    "## **Question 6**\n",
    "## Given an integer array nums sorted in **non-decreasing** order, return *an array of **the squares of each number** sorted in non-decreasing order*.\n",
    "\n",
    "## **Example 1:**\n",
    "\n",
    "## Input: nums = [-4,-1,0,3,10]\n",
    "\n",
    "## Output: [0,1,9,16,100]\n",
    "\n",
    "## **Explanation:** After squaring, the array becomes [16,1,0,9,100].\n",
    "## After sorting, it becomes [0,1,9,16,100]\n"
   ]
  },
  {
   "cell_type": "code",
   "execution_count": 9,
   "id": "3c1ab457",
   "metadata": {},
   "outputs": [
    {
     "name": "stdout",
     "output_type": "stream",
     "text": [
      "[0, 1, 9, 16, 100]\n"
     ]
    }
   ],
   "source": [
    "def sortedSquares(nums):\n",
    "    return sorted([num*num for num in nums])\n",
    "\n",
    "nums = [-4, -1, 0, 3, 10]\n",
    "result = sortedSquares(nums)\n",
    "print(result)\n"
   ]
  },
  {
   "cell_type": "markdown",
   "id": "85a6c9a1",
   "metadata": {},
   "source": [
    "## **Question 7**\n",
    "## You are given an m x n matrix M initialized with all 0's and an array of operations ops, where ops[i] = [ai, bi] means M[x][y] should be incremented by one for all 0 <= x < ai and 0 <= y < bi.\n",
    "\n",
    "## Count and return *the number of maximum integers in the matrix after performing all the operations*\n",
    "\n",
    "## **Example 1:**\n",
    "\n",
    "<img src=\"https://pwskills.notion.site/image/https%3A%2F%2Fs3-us-west-2.amazonaws.com%2Fsecure.notion-static.com%2F4d0890d0-7bc7-4f59-be8e-352d9f3c1c52%2Fq4.jpg?id=7cc414ab-5e71-4b38-aa0b-c550dd938e49&table=block&spaceId=6fae2e0f-dedc-48e9-bc59-af2654c78209&width=2000&userId=&cache=v2\">\n",
    "\n",
    "## **Input:** m = 3, n = 3, ops = [[2,2],[3,3]]\n",
    "\n",
    "## **Output:** 4\n",
    "\n",
    "## **Explanation:** The maximum integer in M is 2, and there are four of it in M. So return 4.\n",
    "\n"
   ]
  },
  {
   "cell_type": "code",
   "execution_count": 11,
   "id": "055a40ed",
   "metadata": {},
   "outputs": [],
   "source": [
    "from typing import List\n",
    "\n",
    "def maxCount(m: int, n: int, ops: List[List[int]]) -> int:\n",
    "    maxRow = m\n",
    "    maxCol = n\n",
    "    for op in ops:\n",
    "        maxRow = min(maxRow, op[0])\n",
    "        maxCol = min(maxCol, op[1])\n",
    "    return maxRow * maxCol\n"
   ]
  },
  {
   "cell_type": "code",
   "execution_count": 12,
   "id": "729e46f2",
   "metadata": {},
   "outputs": [
    {
     "data": {
      "text/plain": [
       "4"
      ]
     },
     "execution_count": 12,
     "metadata": {},
     "output_type": "execute_result"
    }
   ],
   "source": [
    "maxCount(3,3,[[2,2],[3,3]])"
   ]
  },
  {
   "cell_type": "markdown",
   "id": "6c6597e9",
   "metadata": {},
   "source": [
    "## **Question 8**\n",
    "\n",
    "## Given the array nums consisting of 2n elements in the form [x1,x2,...,xn,y1,y2,...,yn].\n",
    "\n",
    "## *Return the array in the form* [x1,y1,x2,y2,...,xn,yn].\n",
    "\n",
    "## **Example 1:**\n",
    "\n",
    "## **Input:** nums = [2,5,1,3,4,7], n = 3\n",
    "\n",
    "## **Output:** [2,3,5,4,1,7]\n",
    "\n",
    "## **Explanation:** Since x1=2, x2=5, x3=1, y1=3, y2=4, y3=7 then the answer is [2,3,5,4,1,7].\n"
   ]
  },
  {
   "cell_type": "code",
   "execution_count": 13,
   "id": "812741a0",
   "metadata": {},
   "outputs": [],
   "source": [
    "def rearrange_array(nums, n):\n",
    "    x = nums[:n]\n",
    "    y = nums[n:]\n",
    "    result = []\n",
    "    for i in range(n):\n",
    "        result.append(x[i])\n",
    "        result.append(y[i])\n",
    "    return result\n"
   ]
  },
  {
   "cell_type": "code",
   "execution_count": 14,
   "id": "706b6f64",
   "metadata": {},
   "outputs": [
    {
     "name": "stdout",
     "output_type": "stream",
     "text": [
      "[2, 3, 5, 4, 1, 7]\n"
     ]
    }
   ],
   "source": [
    "nums = [2, 5, 1, 3, 4, 7]\n",
    "n = 3\n",
    "output = rearrange_array(nums, n)\n",
    "print(output)\n"
   ]
  },
  {
   "cell_type": "code",
   "execution_count": null,
   "id": "c4595ba3",
   "metadata": {},
   "outputs": [],
   "source": []
  },
  {
   "cell_type": "code",
   "execution_count": null,
   "id": "7eb4577c",
   "metadata": {},
   "outputs": [],
   "source": []
  }
 ],
 "metadata": {
  "kernelspec": {
   "display_name": "Python 3 (ipykernel)",
   "language": "python",
   "name": "python3"
  },
  "language_info": {
   "codemirror_mode": {
    "name": "ipython",
    "version": 3
   },
   "file_extension": ".py",
   "mimetype": "text/x-python",
   "name": "python",
   "nbconvert_exporter": "python",
   "pygments_lexer": "ipython3",
   "version": "3.10.9"
  }
 },
 "nbformat": 4,
 "nbformat_minor": 5
}
