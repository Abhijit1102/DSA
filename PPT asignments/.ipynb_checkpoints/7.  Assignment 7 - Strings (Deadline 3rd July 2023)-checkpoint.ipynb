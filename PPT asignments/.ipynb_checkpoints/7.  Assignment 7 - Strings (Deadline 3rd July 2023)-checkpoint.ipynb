{
 "cells": [
  {
   "cell_type": "markdown",
   "id": "68e21d8b",
   "metadata": {},
   "source": [
    "## **Question 1**\n",
    "\n",
    "## Given two strings s and t, *determine if they are isomorphic*.\n",
    "\n",
    "## Two strings s and t are isomorphic if the characters in s can be replaced to get t.\n",
    "\n",
    "## All occurrences of a character must be replaced with another character while preserving the order of characters. No two characters may map to the same character, but a character may map to itself.\n",
    "\n",
    "## **Example 1:**\n",
    "\n",
    "## **Input:** s = \"egg\", t = \"add\"\n",
    "\n",
    "## **Output:** true\n",
    "\n"
   ]
  },
  {
   "cell_type": "code",
   "execution_count": 1,
   "id": "064b370e",
   "metadata": {},
   "outputs": [],
   "source": [
    "def isomorphic_strings(s, t):\n",
    "    if len(s) != len(t):\n",
    "        return False\n",
    "\n",
    "    s_dict = {}\n",
    "    t_dict = {}\n",
    "\n",
    "    for s_char, t_char in zip(s, t):\n",
    "        if s_char in s_dict:\n",
    "            if s_dict[s_char] != t_char:\n",
    "                return False\n",
    "        else:\n",
    "            s_dict[s_char] = t_char\n",
    "\n",
    "        if t_char in t_dict:\n",
    "            if t_dict[t_char] != s_char:\n",
    "                return False\n",
    "        else:\n",
    "            t_dict[t_char] = s_char\n",
    "\n",
    "    return True\n"
   ]
  },
  {
   "cell_type": "code",
   "execution_count": 2,
   "id": "81442090",
   "metadata": {},
   "outputs": [],
   "source": [
    "s = \"egg\"\n",
    "t = \"add\""
   ]
  },
  {
   "cell_type": "code",
   "execution_count": 3,
   "id": "d58c9ba6",
   "metadata": {},
   "outputs": [
    {
     "data": {
      "text/plain": [
       "True"
      ]
     },
     "execution_count": 3,
     "metadata": {},
     "output_type": "execute_result"
    }
   ],
   "source": [
    "isomorphic_strings(s,t)"
   ]
  },
  {
   "cell_type": "markdown",
   "id": "2b3b58b2",
   "metadata": {},
   "source": [
    "## **Question 2**\n",
    "\n",
    "## Given a string num which represents an integer, return true *if* num *is a **strobogrammatic number***.\n",
    "\n",
    "## A **strobogrammatic number** is a number that looks the same when rotated 180 degrees (looked at upside down).\n",
    "\n",
    "## **Example 1:**\n",
    "\n",
    "## **Input:** num = \"69\"\n",
    "\n",
    "## **Output:** true\n"
   ]
  },
  {
   "cell_type": "code",
   "execution_count": 5,
   "id": "201755d8",
   "metadata": {},
   "outputs": [],
   "source": [
    "def is_strobogrammatic(num):\n",
    "    valid_pairs = {'0': '0', '1': '1', '6': '9', '8': '8', '9': '6'}\n",
    "    left, right = 0, len(num) - 1\n",
    "\n",
    "    while left <= right:\n",
    "        if num[left] not in valid_pairs or num[right] != valid_pairs[num[left]]:\n",
    "            return False\n",
    "        left += 1\n",
    "        right -= 1\n",
    "\n",
    "    return True\n"
   ]
  },
  {
   "cell_type": "code",
   "execution_count": 7,
   "id": "446e902c",
   "metadata": {},
   "outputs": [
    {
     "data": {
      "text/plain": [
       "True"
      ]
     },
     "execution_count": 7,
     "metadata": {},
     "output_type": "execute_result"
    }
   ],
   "source": [
    "num = \"69\"\n",
    "is_strobogrammatic(num)"
   ]
  },
  {
   "cell_type": "markdown",
   "id": "bfe4c05c",
   "metadata": {},
   "source": [
    "## **Question 3**\n",
    "\n",
    "## Given two non-negative integers, num1 and num2 represented as string, return *the sum of* num1 *and* num2 *as a string*.\n",
    "\n",
    "## You must solve the problem without using any built-in library for handling large integers (such as BigInteger). You must also not convert the inputs to integers directly.\n",
    "\n",
    "## **Example 1:**\n",
    "\n",
    "## **Input:** num1 = \"11\", num2 = \"123\"\n",
    "\n",
    "## **Output:** \"134\"\n",
    "\n"
   ]
  },
  {
   "cell_type": "code",
   "execution_count": 8,
   "id": "3b074a81",
   "metadata": {},
   "outputs": [],
   "source": [
    "def add_strings(num1, num2):\n",
    "    result = []\n",
    "    carry = 0\n",
    "    i, j = len(num1) - 1, len(num2) - 1\n",
    "\n",
    "    while i >= 0 or j >= 0 or carry > 0:\n",
    "        digit1 = int(num1[i]) if i >= 0 else 0\n",
    "        digit2 = int(num2[j]) if j >= 0 else 0\n",
    "\n",
    "        total = digit1 + digit2 + carry\n",
    "        carry = total // 10\n",
    "        digit = total % 10\n",
    "\n",
    "        result.append(str(digit))\n",
    "        i -= 1\n",
    "        j -= 1\n",
    "\n",
    "    return ''.join(result[::-1])\n"
   ]
  },
  {
   "cell_type": "code",
   "execution_count": 9,
   "id": "9da1fb96",
   "metadata": {},
   "outputs": [
    {
     "data": {
      "text/plain": [
       "'134'"
      ]
     },
     "execution_count": 9,
     "metadata": {},
     "output_type": "execute_result"
    }
   ],
   "source": [
    "num1 = \"11\"\n",
    "num2 = \"123\"\n",
    "\n",
    "add_strings(num1, num2)"
   ]
  },
  {
   "cell_type": "markdown",
   "id": "765f60d1",
   "metadata": {},
   "source": [
    "## **Question 4**\n",
    "\n",
    "## Given a string s, reverse the order of characters in each word within a sentence while still preserving whitespace and initial word order.\n",
    "\n",
    "## **Example 1:**\n",
    "\n",
    "## **Input:** s = \"Let's take LeetCode contest\"\n",
    "\n",
    "## **Output:** \"s'teL ekat edoCteeL tsetnoc\""
   ]
  },
  {
   "cell_type": "code",
   "execution_count": 10,
   "id": "b4560d0d",
   "metadata": {},
   "outputs": [],
   "source": [
    "def reverse_words(s):\n",
    "    words = s.split()\n",
    "    reversed_words = [word[::-1] for word in words]\n",
    "    return ' '.join(reversed_words)\n"
   ]
  },
  {
   "cell_type": "code",
   "execution_count": 11,
   "id": "0fa4dcaa",
   "metadata": {},
   "outputs": [
    {
     "data": {
      "text/plain": [
       "\"s'teL ekat edoCteeL tsetnoc\""
      ]
     },
     "execution_count": 11,
     "metadata": {},
     "output_type": "execute_result"
    }
   ],
   "source": [
    "s = \"Let's take LeetCode contest\"\n",
    "reverse_words(s)"
   ]
  },
  {
   "cell_type": "markdown",
   "id": "f0337890",
   "metadata": {},
   "source": [
    "## **Question 5**\n",
    "\n",
    "## Given a string s and an integer k, reverse the first k characters for every 2k characters counting from the start of the string.\n",
    "\n",
    "## If there are fewer than k characters left, reverse all of them. If there are less than 2k but greater than or equal to k characters, then reverse the first k characters and leave the other as original.\n",
    "\n",
    "## **Example 1:**\n",
    "\n",
    "## **Input:** s = \"abcdefg\", k = 2\n",
    "\n",
    "## **Output:**  \"bacdfeg\"\n",
    "\n"
   ]
  },
  {
   "cell_type": "code",
   "execution_count": 14,
   "id": "55e86f80",
   "metadata": {},
   "outputs": [],
   "source": [
    "def reverse_str(s, k):\n",
    "    result = []\n",
    "    n = len(s)\n",
    "\n",
    "    for i in range(0, n, 2 * k):\n",
    "        chunk = s[i:i + 2 * k]\n",
    "        reversed_chunk = chunk[:k][::-1] + chunk[k:]\n",
    "        result.append(reversed_chunk)\n",
    "\n",
    "    return ''.join(result)\n"
   ]
  },
  {
   "cell_type": "code",
   "execution_count": 15,
   "id": "f1ea8af1",
   "metadata": {},
   "outputs": [
    {
     "data": {
      "text/plain": [
       "'bacdfeg'"
      ]
     },
     "execution_count": 15,
     "metadata": {},
     "output_type": "execute_result"
    }
   ],
   "source": [
    "s = \"abcdefg\"\n",
    "k = 2\n",
    "result = reverse_str(s, k)\n",
    "result"
   ]
  },
  {
   "cell_type": "markdown",
   "id": "e466ed81",
   "metadata": {},
   "source": [
    "## **Question 6**\n",
    "\n",
    "## Given two strings s and goal, return true *if and only if* s *can become* goal *after some number of **shifts** on* s.\n",
    "\n",
    "## A **shift** on s consists of moving the leftmost character of s to the rightmost position.\n",
    "\n",
    "## - For example, if s = \"abcde\", then it will be \"bcdea\" after one shift.\n",
    "\n",
    "## **Example 1:**\n",
    "\n",
    "## **Input:** s = \"abcde\", goal = \"cdeab\"\n",
    "\n",
    "## **Output:** true\n"
   ]
  },
  {
   "cell_type": "code",
   "execution_count": 16,
   "id": "48efe9e5",
   "metadata": {},
   "outputs": [],
   "source": [
    "def rotate_string(s, goal):\n",
    "    if len(s) != len(goal):\n",
    "        return False\n",
    "    return goal in (s + s)\n"
   ]
  },
  {
   "cell_type": "code",
   "execution_count": 17,
   "id": "5ce15c1c",
   "metadata": {},
   "outputs": [
    {
     "data": {
      "text/plain": [
       "True"
      ]
     },
     "execution_count": 17,
     "metadata": {},
     "output_type": "execute_result"
    }
   ],
   "source": [
    "s = \"abcde\"\n",
    "goal = \"cdeab\"\n",
    "result = rotate_string(s, goal)\n",
    "result"
   ]
  },
  {
   "cell_type": "markdown",
   "id": "fbc3dae5",
   "metadata": {},
   "source": [
    "## **Question 7**\n",
    "\n",
    "## Given two strings s and t, return true *if they are equal when both are typed into empty text editors*. '#' means a backspace character.\n",
    "\n",
    "## Note that after backspacing an empty text, the text will continue empty.\n",
    "\n",
    "## **Example 1:**\n",
    "\n",
    "## **Input:** s = \"ab#c\", t = \"ad#c\"\n",
    "\n",
    "## **Output:** true\n",
    "\n",
    "## **Explanation:**\n",
    "\n",
    "## Both s and t become \"ac\".\n",
    "\n"
   ]
  },
  {
   "cell_type": "code",
   "execution_count": 18,
   "id": "2a0ec54f",
   "metadata": {},
   "outputs": [],
   "source": [
    "def backspace_compare(s, t):\n",
    "    def process_string(string):\n",
    "        stack = []\n",
    "        for char in string:\n",
    "            if char != '#':\n",
    "                stack.append(char)\n",
    "            elif stack:\n",
    "                stack.pop()\n",
    "        return ''.join(stack)\n",
    "\n",
    "    return process_string(s) == process_string(t)\n"
   ]
  },
  {
   "cell_type": "code",
   "execution_count": 21,
   "id": "da578d7e",
   "metadata": {},
   "outputs": [
    {
     "data": {
      "text/plain": [
       "True"
      ]
     },
     "execution_count": 21,
     "metadata": {},
     "output_type": "execute_result"
    }
   ],
   "source": [
    "s = \"ab#c\"\n",
    "t = \"ad#c\"\n",
    "result = backspace_compare(s, t)\n",
    "result"
   ]
  },
  {
   "cell_type": "markdown",
   "id": "8419043c",
   "metadata": {},
   "source": [
    "## **Question 8**\n",
    "\n",
    "## You are given an array coordinates, coordinates[i] = [x, y], where [x, y] represents the coordinate of a point. Check if these points make a straight line in the XY plane.\n",
    "\n",
    "## **Example 1:**\n",
    "\n",
    "<img src=\"https://pwskills.notion.site/image/https%3A%2F%2Fs3-us-west-2.amazonaws.com%2Fsecure.notion-static.com%2F012b0a97-4e4b-49b6-bc95-0531fc712978%2FScreenshot_2023-05-29_010117.png?id=1f71c976-b182-4892-a3ca-400a0d911ea3&table=block&spaceId=6fae2e0f-dedc-48e9-bc59-af2654c78209&width=2000&userId=&cache=v2\">\n",
    "\n",
    "## **Input:** coordinates = [[1,2],[2,3],[3,4],[4,5],[5,6],[6,7]]\n",
    "\n",
    "## **Output:** true\n"
   ]
  },
  {
   "cell_type": "code",
   "execution_count": 22,
   "id": "4b4fd212",
   "metadata": {},
   "outputs": [],
   "source": [
    "def checkStraightLine(coordinates):\n",
    "    if len(coordinates) < 2:\n",
    "        return False\n",
    "\n",
    "    x0, y0 = coordinates[0]\n",
    "    x1, y1 = coordinates[1]\n",
    "\n",
    "    for i in range(2, len(coordinates)):\n",
    "        x, y = coordinates[i]\n",
    "        if (y1 - y0) * (x - x0) != (y - y0) * (x1 - x0):\n",
    "            return False\n",
    "\n",
    "    return True\n"
   ]
  },
  {
   "cell_type": "code",
   "execution_count": 24,
   "id": "1f972d91",
   "metadata": {},
   "outputs": [
    {
     "data": {
      "text/plain": [
       "True"
      ]
     },
     "execution_count": 24,
     "metadata": {},
     "output_type": "execute_result"
    }
   ],
   "source": [
    "coordinates = [[1,2],[2,3],[3,4],[4,5],[5,6],[6,7]]\n",
    "checkStraightLine(coordinates)\n"
   ]
  },
  {
   "cell_type": "code",
   "execution_count": null,
   "id": "f7a8957a",
   "metadata": {},
   "outputs": [],
   "source": []
  },
  {
   "cell_type": "code",
   "execution_count": null,
   "id": "b488f318",
   "metadata": {},
   "outputs": [],
   "source": []
  }
 ],
 "metadata": {
  "kernelspec": {
   "display_name": "Python 3 (ipykernel)",
   "language": "python",
   "name": "python3"
  },
  "language_info": {
   "codemirror_mode": {
    "name": "ipython",
    "version": 3
   },
   "file_extension": ".py",
   "mimetype": "text/x-python",
   "name": "python",
   "nbconvert_exporter": "python",
   "pygments_lexer": "ipython3",
   "version": "3.10.9"
  }
 },
 "nbformat": 4,
 "nbformat_minor": 5
}
