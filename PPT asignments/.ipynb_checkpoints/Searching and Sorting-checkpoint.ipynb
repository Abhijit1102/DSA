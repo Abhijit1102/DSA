{
 "cells": [
  {
   "cell_type": "markdown",
   "id": "e91b4890",
   "metadata": {},
   "source": [
    "Given a string s of lower and upper case English letters.\n",
    "\n",
    "A good string is a string which doesn't have two adjacent characters s[i] and s[i + 1] where:\n",
    "\n",
    "0 <= i <= s.length - 2\n",
    "s[i] is a lower-case letter and s[i + 1] is the same letter but in upper-case or vice-versa.\n",
    "To make the string good, you can choose two adjacent characters that make the string bad and remove them. You can keep doing this until the string becomes good.\n",
    "\n",
    "Return the string after making it good. The answer is guaranteed to be unique under the given constraints.\n",
    "\n",
    "Notice that an empty string is also good.\n",
    "\n",
    " \n",
    "\n",
    "Example 1:\n",
    "\n",
    "Input: s = \"leEeetcode\"\n",
    "Output: \"leetcode\"\n",
    "Explanation: In the first step, either you choose i = 1 or i = 2, both will result \"leEeetcode\" to be reduced to \"leetcode\".\n",
    "Example 2:\n",
    "\n",
    "Input: s = \"abBAcC\"\n",
    "Output: \"\"\n",
    "Explanation: We have many possible scenarios, and all lead to the same answer. For example:\n",
    "\"abBAcC\" --> \"aAcC\" --> \"cC\" --> \"\"\n",
    "\"abBAcC\" --> \"abBA\" --> \"aA\" --> \"\"\n",
    "Example 3:\n",
    "\n",
    "Input: s = \"s\"\n",
    "Output: \"s\"\n",
    " \n",
    "\n",
    "Constraints:\n",
    "\n",
    "1 <= s.length <= 100\n",
    "s contains only lower and upper case English letters."
   ]
  },
  {
   "cell_type": "code",
   "execution_count": 1,
   "id": "b85103c3",
   "metadata": {},
   "outputs": [
    {
     "name": "stdout",
     "output_type": "stream",
     "text": [
      "leetcode\n",
      "\n",
      "s\n"
     ]
    }
   ],
   "source": [
    "def makeGood(s):\n",
    "    stack = []\n",
    "    \n",
    "    for char in s:\n",
    "        if stack and abs(ord(char) - ord(stack[-1])) == 32:\n",
    "            stack.pop()  # Remove the last character from the stack\n",
    "        else:\n",
    "            stack.append(char)  # Add the character to the stack\n",
    "            \n",
    "    return ''.join(stack)\n",
    "\n",
    "# Test cases\n",
    "print(makeGood(\"leEeetcode\"))  # Output: \"leetcode\"\n",
    "print(makeGood(\"abBAcC\"))      # Output: \"\"\n",
    "print(makeGood(\"s\"))           # Output: \"s\"\n"
   ]
  },
  {
   "cell_type": "markdown",
   "id": "4af243d9",
   "metadata": {},
   "source": [
    "You are given a string s consisting of lowercase English letters. A duplicate removal consists of choosing two adjacent and equal letters and removing them.\n",
    "\n",
    "We repeatedly make duplicate removals on s until we no longer can.\n",
    "\n",
    "Return the final string after all such duplicate removals have been made. It can be proven that the answer is unique.\n",
    "\n",
    " \n",
    "\n",
    "Example 1:\n",
    "\n",
    "Input: s = \"abbaca\"\n",
    "Output: \"ca\"\n",
    "Explanation: \n",
    "For example, in \"abbaca\" we could remove \"bb\" since the letters are adjacent and equal, and this is the only possible move.  The result of this move is that the string is \"aaca\", of which only \"aa\" is possible, so the final string is \"ca\".\n",
    "Example 2:\n",
    "\n",
    "Input: s = \"azxxzy\"\n",
    "Output: \"ay\"\n",
    " \n",
    "\n",
    "Constraints:\n",
    "\n",
    "1 <= s.length <= 105\n",
    "s consists of lowercase English letters."
   ]
  },
  {
   "cell_type": "code",
   "execution_count": 2,
   "id": "ea33b81a",
   "metadata": {},
   "outputs": [
    {
     "name": "stdout",
     "output_type": "stream",
     "text": [
      "ca\n",
      "ay\n"
     ]
    }
   ],
   "source": [
    "def removeDuplicates(s):\n",
    "    stack = []\n",
    "    \n",
    "    for char in s:\n",
    "        if stack and char == stack[-1]:\n",
    "            stack.pop()  # Remove the last character from the stack\n",
    "        else:\n",
    "            stack.append(char)  # Add the character to the stack\n",
    "            \n",
    "    return ''.join(stack)\n",
    "\n",
    "# Test cases\n",
    "print(removeDuplicates(\"abbaca\"))  # Output: \"ca\"\n",
    "print(removeDuplicates(\"azxxzy\"))  # Output: \"ay\"\n"
   ]
  },
  {
   "cell_type": "markdown",
   "id": "dbfbc785",
   "metadata": {},
   "source": [
    "Design an algorithm that collects daily price quotes for some stock and returns the span of that stock's price for the current day.\n",
    "\n",
    "The span of the stock's price in one day is the maximum number of consecutive days (starting from that day and going backward) for which the stock price was less than or equal to the price of that day.\n",
    "\n",
    "For example, if the prices of the stock in the last four days is [7,2,1,2] and the price of the stock today is 2, then the span of today is 4 because starting from today, the price of the stock was less than or equal 2 for 4 consecutive days.\n",
    "Also, if the prices of the stock in the last four days is [7,34,1,2] and the price of the stock today is 8, then the span of today is 3 because starting from today, the price of the stock was less than or equal 8 for 3 consecutive days.\n",
    "Implement the StockSpanner class:\n",
    "\n",
    "StockSpanner() Initializes the object of the class.\n",
    "int next(int price) Returns the span of the stock's price given that today's price is price.\n",
    " \n",
    "\n",
    "Example 1:\n",
    "\n",
    "Input\n",
    "[\"StockSpanner\", \"next\", \"next\", \"next\", \"next\", \"next\", \"next\", \"next\"]\n",
    "[[], [100], [80], [60], [70], [60], [75], [85]]\n",
    "Output\n",
    "[null, 1, 1, 1, 2, 1, 4, 6]\n",
    "\n",
    "Explanation\n",
    "StockSpanner stockSpanner = new StockSpanner();\n",
    "stockSpanner.next(100); // return 1\n",
    "stockSpanner.next(80);  // return 1\n",
    "stockSpanner.next(60);  // return 1\n",
    "stockSpanner.next(70);  // return 2\n",
    "stockSpanner.next(60);  // return 1\n",
    "stockSpanner.next(75);  // return 4, because the last 4 prices (including today's price of 75) were less than or equal to today's price.\n",
    "stockSpanner.next(85);  // return 6\n",
    " \n",
    "\n",
    "Constraints:\n",
    "\n",
    "1 <= price <= 105\n",
    "At most 104 calls will be made to next."
   ]
  },
  {
   "cell_type": "code",
   "execution_count": 3,
   "id": "19256722",
   "metadata": {},
   "outputs": [
    {
     "name": "stdout",
     "output_type": "stream",
     "text": [
      "1\n",
      "1\n",
      "1\n",
      "2\n",
      "1\n",
      "4\n",
      "6\n"
     ]
    }
   ],
   "source": [
    "class StockSpanner:\n",
    "    def __init__(self):\n",
    "        self.prices = []  # To store prices\n",
    "        self.spans = []   # To store spans corresponding to each price\n",
    "\n",
    "    def next(self, price: int) -> int:\n",
    "        span = 1\n",
    "        while self.prices and self.prices[-1] <= price:\n",
    "            self.prices.pop()\n",
    "            span += self.spans.pop()\n",
    "        \n",
    "        self.prices.append(price)\n",
    "        self.spans.append(span)\n",
    "        return span\n",
    "\n",
    "# Test case\n",
    "stockSpanner = StockSpanner()\n",
    "print(stockSpanner.next(100))  # Output: 1\n",
    "print(stockSpanner.next(80))   # Output: 1\n",
    "print(stockSpanner.next(60))   # Output: 1\n",
    "print(stockSpanner.next(70))   # Output: 2\n",
    "print(stockSpanner.next(60))   # Output: 1\n",
    "print(stockSpanner.next(75))   # Output: 4\n",
    "print(stockSpanner.next(85))   # Output: 6\n"
   ]
  },
  {
   "cell_type": "markdown",
   "id": "2c4239e9",
   "metadata": {},
   "source": [
    "2073. Time Needed to Buy Tickets\n",
    "Easy\n",
    "775\n",
    "56\n",
    "Companies\n",
    "There are n people in a line queuing to buy tickets, where the 0th person is at the front of the line and the (n - 1)th person is at the back of the line.\n",
    "\n",
    "You are given a 0-indexed integer array tickets of length n where the number of tickets that the ith person would like to buy is tickets[i].\n",
    "\n",
    "Each person takes exactly 1 second to buy a ticket. A person can only buy 1 ticket at a time and has to go back to the end of the line (which happens instantaneously) in order to buy more tickets. If a person does not have any tickets left to buy, the person will leave the line.\n",
    "\n",
    "Return the time taken for the person at position k (0-indexed) to finish buying tickets.\n",
    "\n",
    " \n",
    "\n",
    "Example 1:\n",
    "\n",
    "Input: tickets = [2,3,2], k = 2\n",
    "Output: 6\n",
    "Explanation: \n",
    "- In the first pass, everyone in the line buys a ticket and the line becomes [1, 2, 1].\n",
    "- In the second pass, everyone in the line buys a ticket and the line becomes [0, 1, 0].\n",
    "The person at position 2 has successfully bought 2 tickets and it took 3 + 3 = 6 seconds.\n",
    "Example 2:\n",
    "\n",
    "Input: tickets = [5,1,1,1], k = 0\n",
    "Output: 8\n",
    "Explanation:\n",
    "- In the first pass, everyone in the line buys a ticket and the line becomes [4, 0, 0, 0].\n",
    "- In the next 4 passes, only the person in position 0 is buying tickets.\n",
    "The person at position 0 has successfully bought 5 tickets and it took 4 + 1 + 1 + 1 + 1 = 8 seconds.\n",
    " \n",
    "\n",
    "Constraints:\n",
    "\n",
    "n == tickets.length\n",
    "1 <= n <= 100\n",
    "1 <= tickets[i] <= 100\n",
    "0 <= k < n\n"
   ]
  },
  {
   "cell_type": "code",
   "execution_count": 5,
   "id": "3bbef97c",
   "metadata": {},
   "outputs": [
    {
     "name": "stdout",
     "output_type": "stream",
     "text": [
      "6\n",
      "8\n"
     ]
    }
   ],
   "source": [
    "def time_to_buy_tickets(tickets, k):\n",
    "    n = len(tickets)\n",
    "    time = 0\n",
    "    \n",
    "    while tickets[k] > 0:\n",
    "        for i in range(n):\n",
    "            if tickets[i] > 0:\n",
    "                tickets[i] -= 1\n",
    "                time += 1\n",
    "                if i == k and tickets[k] == 0:\n",
    "                    break\n",
    "                    \n",
    "    return time\n",
    "\n",
    "# Test cases\n",
    "print(time_to_buy_tickets([2, 3, 2], 2))  # Output: 6\n",
    "print(time_to_buy_tickets([5, 1, 1, 1], 0))  # Output: 8\n"
   ]
  },
  {
   "cell_type": "code",
   "execution_count": null,
   "id": "94e58ef1",
   "metadata": {},
   "outputs": [],
   "source": []
  },
  {
   "cell_type": "code",
   "execution_count": null,
   "id": "514eb5fc",
   "metadata": {},
   "outputs": [],
   "source": []
  },
  {
   "cell_type": "code",
   "execution_count": null,
   "id": "709115bd",
   "metadata": {},
   "outputs": [],
   "source": []
  }
 ],
 "metadata": {
  "kernelspec": {
   "display_name": "Python 3 (ipykernel)",
   "language": "python",
   "name": "python3"
  },
  "language_info": {
   "codemirror_mode": {
    "name": "ipython",
    "version": 3
   },
   "file_extension": ".py",
   "mimetype": "text/x-python",
   "name": "python",
   "nbconvert_exporter": "python",
   "pygments_lexer": "ipython3",
   "version": "3.10.9"
  }
 },
 "nbformat": 4,
 "nbformat_minor": 5
}
