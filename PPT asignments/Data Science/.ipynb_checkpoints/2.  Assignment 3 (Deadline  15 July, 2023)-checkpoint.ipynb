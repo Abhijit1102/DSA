{
 "cells": [
  {
   "cell_type": "markdown",
   "id": "f0f51433",
   "metadata": {},
   "source": [
    "### 1. Scenario: A company wants to analyze the sales performance of its products in different regions. They have collected the following data:\n",
    "  -  Region A: [10, 15, 12, 8, 14]\n",
    "  -  Region B: [18, 20, 16, 22, 25]\n",
    "  ##  Calculate the mean sales for each region.\n"
   ]
  },
  {
   "cell_type": "code",
   "execution_count": 12,
   "id": "4ab550d8",
   "metadata": {},
   "outputs": [
    {
     "name": "stdout",
     "output_type": "stream",
     "text": [
      "Mean sales for Region A: 11.8\n",
      "Mean sales for Region B: 20.2\n"
     ]
    }
   ],
   "source": [
    "def calculate_mean(sales):\n",
    "    total_sales = sum(sales)\n",
    "    num_sales = len(sales)\n",
    "    mean_sales = total_sales / num_sales\n",
    "    return mean_sales\n",
    "\n",
    "region_a_sales = [10, 15, 12, 8, 14]\n",
    "mean_a = calculate_mean(region_a_sales)\n",
    "\n",
    "region_b_sales = [18, 20, 16, 22, 25]\n",
    "mean_b = calculate_mean(region_b_sales)\n",
    "\n",
    "print(\"Mean sales for Region A:\", mean_a)\n",
    "print(\"Mean sales for Region B:\", mean_b)\n"
   ]
  },
  {
   "cell_type": "markdown",
   "id": "19d39766",
   "metadata": {},
   "source": [
    "## 2. Scenario: A survey is conducted to measure customer satisfaction on a scale of 1 to 5. The data collected is as follows:\n",
    " -  [4, 5, 2, 3, 5, 4, 3, 2, 4, 5]\n",
    "  ## Calculate the mode of the survey responses.\n"
   ]
  },
  {
   "cell_type": "code",
   "execution_count": 1,
   "id": "6a62d3f4",
   "metadata": {},
   "outputs": [],
   "source": [
    "def estimate_mode(arr):\n",
    "    frequency = {}\n",
    "    for num in arr:\n",
    "        if num in frequency:\n",
    "            frequency[num] += 1\n",
    "        else:\n",
    "            frequency[num] = 1\n",
    "\n",
    "    modal_class = max(frequency, key=frequency.get)\n",
    "    modal_index = arr.index(modal_class)\n",
    "    class_width = arr[1] - arr[0]  \n",
    "\n",
    "    if modal_index == 0:\n",
    "        l = arr[0]\n",
    "        f_0 = 0\n",
    "        f_1 = frequency[modal_class]\n",
    "        f_2 = frequency[arr[modal_index + 1]]\n",
    "    elif modal_index == len(arr) - 1:\n",
    "        l = arr[modal_index] - class_width\n",
    "        f_0 = frequency[arr[modal_index - 1]]\n",
    "        f_1 = frequency[modal_class]\n",
    "        f_2 = 0\n",
    "    else:\n",
    "        l = arr[modal_index] - class_width / 2\n",
    "        f_0 = frequency[arr[modal_index - 1]]\n",
    "        f_1 = frequency[modal_class]\n",
    "        f_2 = frequency[arr[modal_index + 1]]\n",
    "\n",
    "    mode = l + ((f_1 - f_0) / (2 * f_1 - f_0 - f_2)) * class_width\n",
    "\n",
    "    return mode\n"
   ]
  },
  {
   "cell_type": "code",
   "execution_count": 3,
   "id": "85fd410d",
   "metadata": {},
   "outputs": [],
   "source": [
    "arr = [4, 5, 2, 3, 5, 4, 3, 2, 4, 5]"
   ]
  },
  {
   "cell_type": "code",
   "execution_count": 27,
   "id": "7b4d8c54",
   "metadata": {},
   "outputs": [
    {
     "data": {
      "text/plain": [
       "5.0"
      ]
     },
     "execution_count": 27,
     "metadata": {},
     "output_type": "execute_result"
    }
   ],
   "source": [
    "estimate_mode(arr)"
   ]
  },
  {
   "cell_type": "markdown",
   "id": "4203be43",
   "metadata": {},
   "source": [
    "## 3. Scenario: A company wants to compare the salaries of two departments. The salary data for Department A and Department B are as follows:\n",
    "-    Department A: [5000, 6000, 5500, 7000]\n",
    "-    Department B: [4500, 5500, 5800, 6000, 5200]\n",
    "## Calculate the median salary for each department.\n"
   ]
  },
  {
   "cell_type": "code",
   "execution_count": 9,
   "id": "c069f719",
   "metadata": {},
   "outputs": [
    {
     "name": "stdout",
     "output_type": "stream",
     "text": [
      "Median salary for Department A: 5750.0\n",
      "Median salary for Department B: 5500\n"
     ]
    }
   ],
   "source": [
    "def calculate_median(salaries):\n",
    "    sorted_salaries = sorted(salaries)\n",
    "    n = len(sorted_salaries)\n",
    "    \n",
    "    if n % 2 == 0:\n",
    "        mid1 = sorted_salaries[n // 2 - 1]\n",
    "        mid2 = sorted_salaries[n // 2]\n",
    "        median = (mid1 + mid2) / 2\n",
    "    else:\n",
    "        median = sorted_salaries[n // 2]\n",
    "    \n",
    "    return median\n",
    "\n",
    "department_a_salaries = [5000, 6000, 5500, 7000]\n",
    "median_a = calculate_median(department_a_salaries)\n",
    "\n",
    "department_b_salaries = [4500, 5500, 5800, 6000, 5200]\n",
    "median_b = calculate_median(department_b_salaries)\n",
    "\n",
    "print(\"Median salary for Department A:\", median_a)\n",
    "print(\"Median salary for Department B:\", median_b)\n"
   ]
  },
  {
   "cell_type": "markdown",
   "id": "a7c97d11",
   "metadata": {},
   "source": [
    "## 4. Scenario: A data analyst wants to determine the variability in the daily stock prices of a company. The data collected is as follows:\n",
    "-    [25.5, 24.8, 26.1, 25.3, 24.9]\n",
    "##  Calculate the range of the stock prices.\n"
   ]
  },
  {
   "cell_type": "code",
   "execution_count": 13,
   "id": "42492841",
   "metadata": {},
   "outputs": [],
   "source": [
    "arr = [25.5, 24.8, 26.1, 25.3, 24.9]"
   ]
  },
  {
   "cell_type": "code",
   "execution_count": 25,
   "id": "d6e122e6",
   "metadata": {},
   "outputs": [],
   "source": [
    "def variability(arr):\n",
    "    n = len(arr)\n",
    "    mean = sum(arr) / n\n",
    "    var = sum((x - mean) ** 2 for x in arr) / n\n",
    "    return var\n",
    "\n",
    "def cal_range(data):\n",
    "    data_range = max(data) - min(data)\n",
    "    return data_range"
   ]
  },
  {
   "cell_type": "code",
   "execution_count": 26,
   "id": "eb14c561",
   "metadata": {},
   "outputs": [
    {
     "name": "stdout",
     "output_type": "stream",
     "text": [
      "Variablity of stocks :0.21760000000000054\n",
      "Range of stocks :1.3000000000000007\n"
     ]
    }
   ],
   "source": [
    "print(f\"Variablity of stocks :{variability(arr)}\")\n",
    "print(f\"Range of stocks :{cal_range(arr)}\")"
   ]
  },
  {
   "cell_type": "markdown",
   "id": "0f306d4e",
   "metadata": {},
   "source": [
    "## 5. Scenario: A study is conducted to compare the performance of two different teaching methods. The test scores of the students in each group are as follows:\n",
    "   - Group A: [85, 90, 92, 88, 91]\n",
    "   - Group B: [82, 88, 90, 86, 87]\n",
    "## Perform a t-test to determine if there is a significant difference in the mean scores between the two groups.\n"
   ]
  },
  {
   "cell_type": "code",
   "execution_count": 28,
   "id": "23325fad",
   "metadata": {},
   "outputs": [],
   "source": [
    "grp_a = [85, 90, 92, 88, 91]\n",
    "grp_b = [82, 88, 90, 86, 87]"
   ]
  },
  {
   "cell_type": "code",
   "execution_count": 35,
   "id": "a4e2c858",
   "metadata": {},
   "outputs": [],
   "source": [
    "import math\n",
    "\n",
    "def calculate_mean(data):\n",
    "    total = sum(data)\n",
    "    n = len(data)\n",
    "    mean = total / n\n",
    "    return mean\n",
    "\n",
    "def calculate_std(data):\n",
    "    mean = calculate_mean(data)\n",
    "    squared_diff_sum = sum((x - mean) ** 2 for x in data)\n",
    "    n = len(data)\n",
    "    std = math.sqrt(squared_diff_sum / n)\n",
    "    return std\n",
    "\n",
    "\n",
    "def t_test(grp_1, grp_2):\n",
    "    mean1 = calculate_mean(grp_1)\n",
    "    mean2 = calculate_mean(grp_2)\n",
    "    s1 = calculate_std(grp_1)\n",
    "    s2 = calculate_std(grp_2)\n",
    "    n1 = len(grp_1)\n",
    "    n2 = len(grp_2)\n",
    "    \n",
    "    t_stat = (mean1 - mean2) / math.sqrt((s1 ** 2 / n1) + (s2 ** 2 / n2))\n",
    "                                    \n",
    "    return t_stat\n"
   ]
  },
  {
   "cell_type": "code",
   "execution_count": 39,
   "id": "56e7856f",
   "metadata": {},
   "outputs": [
    {
     "name": "stdout",
     "output_type": "stream",
     "text": [
      "Two sample t stats for group A and group B : 1.6001893827313307\n"
     ]
    }
   ],
   "source": [
    "print(f\"Two sample t stats for group A and group B : {t_test(grp_a,grp_b)}\")"
   ]
  },
  {
   "cell_type": "markdown",
   "id": "22a10726",
   "metadata": {},
   "source": [
    "### The t-statistic measures the difference between the means of the two groups relative to the variability within the groups"
   ]
  },
  {
   "cell_type": "markdown",
   "id": "c4188e2d",
   "metadata": {},
   "source": [
    "## 6. Scenario: A company wants to analyze the relationship between advertising expenditure and sales. The data collected is as follows:\n",
    "  - Advertising Expenditure (in thousands): [10, 15, 12, 8, 14]\n",
    "  - Sales (in thousands): [25, 30, 28, 20, 26]\n",
    "  - Calculate the correlation coefficient between advertising expenditure and sales.\n"
   ]
  },
  {
   "cell_type": "code",
   "execution_count": 50,
   "id": "ea4e6304",
   "metadata": {},
   "outputs": [],
   "source": [
    "import math\n",
    "\n",
    "def cal_mean(data):\n",
    "    total = sum(data)\n",
    "    n = len(data)\n",
    "    mean = total / n\n",
    "    return mean\n",
    "\n",
    "def col_rel(x, y):\n",
    "    mean_x = cal_mean(x)\n",
    "    mean_y = cal_mean(y)\n",
    "\n",
    "    numerator = sum((a - mean_x) * (b - mean_y) for a, b in zip(x, y))\n",
    "    denominator = math.sqrt(sum((a - mean_x) ** 2 for a in x) * sum((b - mean_y) ** 2 for b in y))\n",
    "    correlation_coefficient = numerator / denominator\n",
    "    \n",
    "    return correlation_coefficient\n"
   ]
  },
  {
   "cell_type": "code",
   "execution_count": 52,
   "id": "b92ac2a0",
   "metadata": {},
   "outputs": [],
   "source": [
    "exp = [10, 15, 12, 8, 14]\n",
    "sale =[25, 30, 28, 20, 26]"
   ]
  },
  {
   "cell_type": "code",
   "execution_count": 53,
   "id": "7350e64c",
   "metadata": {},
   "outputs": [
    {
     "data": {
      "text/plain": [
       "0.8757511375750133"
      ]
     },
     "execution_count": 53,
     "metadata": {},
     "output_type": "execute_result"
    }
   ],
   "source": [
    "col_rel(exp, sale)"
   ]
  },
  {
   "cell_type": "markdown",
   "id": "5b01a040",
   "metadata": {},
   "source": [
    "## 7. Scenario: A survey is conducted to measure the heights of a group of people. The data collected is as follows:\n",
    "  -  [160, 170, 165, 155, 175, 180, 170]\n",
    "##   Calculate the standard deviation of the heights.\n"
   ]
  },
  {
   "cell_type": "code",
   "execution_count": 47,
   "id": "a5870e7a",
   "metadata": {},
   "outputs": [],
   "source": [
    "def cal_std(data):\n",
    "    mean = calculate_mean(data)\n",
    "    squared_diff_sum = sum((x - mean) ** 2 for x in data)\n",
    "    n = len(data)\n",
    "    std = math.sqrt(squared_diff_sum / n)\n",
    "    return std"
   ]
  },
  {
   "cell_type": "code",
   "execution_count": 48,
   "id": "0822427d",
   "metadata": {},
   "outputs": [],
   "source": [
    "arr = [160, 170, 165, 155, 175, 180, 170]"
   ]
  },
  {
   "cell_type": "code",
   "execution_count": 49,
   "id": "a3fa297e",
   "metadata": {},
   "outputs": [
    {
     "data": {
      "text/plain": [
       "7.953949089757174"
      ]
     },
     "execution_count": 49,
     "metadata": {},
     "output_type": "execute_result"
    }
   ],
   "source": [
    "cal_std(arr)"
   ]
  },
  {
   "cell_type": "markdown",
   "id": "79649ecf",
   "metadata": {},
   "source": [
    "## 8. Scenario: A company wants to analyze the relationship between employee tenure and job satisfaction. The data collected is as follows:\n",
    "- Employee Tenure (in years): [2, 3, 5, 4, 6, 2, 4]\n",
    "-   Job Satisfaction (on a scale of 1 to 10): [7, 8, 6, 9, 5, 7, 6]\n",
    " ##  Perform a linear regression analysis to predict job satisfaction based on employee tenure.\n",
    "\n",
    "\n"
   ]
  },
  {
   "cell_type": "code",
   "execution_count": 55,
   "id": "e47449a8",
   "metadata": {},
   "outputs": [],
   "source": [
    "def calculate_mean(data):\n",
    "    total = sum(data)\n",
    "    n = len(data)\n",
    "    mean = total / n\n",
    "    return mean\n",
    "\n",
    "def calculate_regression_coefficients(x, y):\n",
    "    mean_x = calculate_mean(x)\n",
    "    mean_y = calculate_mean(y)\n",
    "\n",
    "    numerator = sum((xi - mean_x) * (yi - mean_y) for xi, yi in zip(x, y))\n",
    "    denominator = sum((xi - mean_x) ** 2 for xi in x)\n",
    "\n",
    "    b1 = numerator / denominator\n",
    "    b0 = mean_y - b1 * mean_x\n",
    "\n",
    "    return b0, b1\n",
    "\n"
   ]
  },
  {
   "cell_type": "code",
   "execution_count": 56,
   "id": "1f7fe273",
   "metadata": {},
   "outputs": [
    {
     "name": "stdout",
     "output_type": "stream",
     "text": [
      "Regression Coefficients:\n",
      "Intercept (b0): 8.595744680851062\n",
      "Slope (b1): -0.4680851063829787\n"
     ]
    }
   ],
   "source": [
    "tenure = [2, 3, 5, 4, 6, 2, 4]\n",
    "satisfaction = [7, 8, 6, 9, 5, 7, 6]\n",
    "\n",
    "b0, b1 = calculate_regression_coefficients(tenure, satisfaction)\n",
    "\n",
    "print(\"Regression Coefficients:\")\n",
    "print(\"Intercept (b0):\", b0)\n",
    "print(\"Slope (b1):\", b1)"
   ]
  },
  {
   "cell_type": "markdown",
   "id": "5538bcc3",
   "metadata": {},
   "source": [
    "## 9. Scenario: A study is conducted to compare the effectiveness of two different medications. The recovery times of the patients in each group are as follows:\n",
    "- Medication A: [10, 12, 14, 11, 13]\n",
    "-  Medication B: [15, 17, 16, 14, 18]\n",
    "##   Perform an analysis of variance (ANOVA) to determine if there is a significant difference in the mean recovery times between the two medications.\n"
   ]
  },
  {
   "cell_type": "code",
   "execution_count": 59,
   "id": "952f0b25",
   "metadata": {},
   "outputs": [
    {
     "name": "stdout",
     "output_type": "stream",
     "text": [
      "F-statistic: 16.0\n",
      "p-value: 0.003949772803445326\n"
     ]
    }
   ],
   "source": [
    "from scipy.stats import f_oneway\n",
    "\n",
    "medication_A = [10, 12, 14, 11, 13]\n",
    "medication_B = [15, 17, 16, 14, 18]\n",
    "\n",
    "f_statistic, p_value = f_oneway(medication_A, medication_B)\n",
    "\n",
    "print(\"F-statistic:\", f_statistic)\n",
    "print(\"p-value:\", p_value)\n"
   ]
  },
  {
   "cell_type": "markdown",
   "id": "d41944cf",
   "metadata": {},
   "source": [
    "## 11. Scenario: A quality control department wants to test the weight consistency of a product. The weights of a sample of products are as follows:\n",
    "   - [10.2, 9.8, 10.0, 10.5, 10.3, 10.1]\n",
    "## Perform a hypothesis test to determine if the mean weight differs significantly from 10 grams.\n"
   ]
  },
  {
   "cell_type": "code",
   "execution_count": 72,
   "id": "23183059",
   "metadata": {},
   "outputs": [
    {
     "name": "stdout",
     "output_type": "stream",
     "text": [
      "Fail to reject the null hypothesis. The mean weight does not differ significantly from 10 grams.\n"
     ]
    }
   ],
   "source": [
    "import numpy as np\n",
    "from scipy import stats\n",
    "\n",
    "weights = np.array([10.2, 9.8, 10.0, 10.5, 10.3, 10.1])\n",
    "\n",
    "hypothesized_mean = 10.0\n",
    "\n",
    "t_statistic, p_value = stats.ttest_1samp(weights, hypothesized_mean)\n",
    "\n",
    "alpha = 0.05\n",
    "\n",
    "if p_value < alpha:\n",
    "    print(\"Reject the null hypothesis. The mean weight differs significantly from 10 grams.\")\n",
    "else:\n",
    "    print(\"Fail to reject the null hypothesis. The mean weight does not differ significantly from 10 grams.\")\n"
   ]
  },
  {
   "cell_type": "markdown",
   "id": "855c6b83",
   "metadata": {},
   "source": [
    "## 12. Scenario: A company wants to analyze the click-through rates of two different website designs. The number of clicks for each design is as follows:\n",
    "  -  Design A: [100, 120, 110, 90, 95]\n",
    "  -  Design B: [80, 85, 90, 95, 100]\n",
    "   ## Perform a chi-square test to determine if there is a significant difference in the click-through rates between the two designs.\n"
   ]
  },
  {
   "cell_type": "code",
   "execution_count": 6,
   "id": "449fc8aa",
   "metadata": {},
   "outputs": [
    {
     "name": "stdout",
     "output_type": "stream",
     "text": [
      "Reject the null hypothesis. There is a significant difference in click-through rates between the two designs.\n"
     ]
    }
   ],
   "source": [
    "design_a = [100, 120, 110, 90, 95]\n",
    "design_b = [80, 85, 90, 95, 100]\n",
    "\n",
    "total_clicks_a = sum(design_a)\n",
    "total_clicks_b = sum(design_b)\n",
    "\n",
    "total_clicks = total_clicks_a + total_clicks_b\n",
    "\n",
    "expected_frequency_a = (total_clicks_a / total_clicks) * (len(design_a) + len(design_b))\n",
    "expected_frequency_b = (total_clicks_b / total_clicks) * (len(design_a) + len(design_b))\n",
    "\n",
    "observed = [total_clicks_a, total_clicks_b]\n",
    "\n",
    "expected = [expected_frequency_a, expected_frequency_b]\n",
    "\n",
    "chi2_statistic = sum((observed[i] - expected[i]) ** 2 / expected[i] for i in range(len(observed)))\n",
    "\n",
    "alpha = 0.05\n",
    "\n",
    "df = len(observed) - 1\n",
    "\n",
    "critical_value = 9.48\n",
    "\n",
    "if chi2_statistic > critical_value:\n",
    "    print(\"Reject the null hypothesis. There is a significant difference in click-through rates between the two designs.\")\n",
    "else:\n",
    "    print(\"Fail to reject the null hypothesis. There is no significant difference in click-through rates between the two designs.\")\n"
   ]
  },
  {
   "cell_type": "markdown",
   "id": "9a8ced64",
   "metadata": {},
   "source": [
    "## 13. Scenario: A survey is conducted to measure customer satisfaction with a product on a scale of 1 to 10. The data collected is as follows:\n",
    "   - [7, 9, 6, 8, 10, 7, 8, 9, 7, 8]\n",
    "##   Calculate the 95% confidence interval for the population mean satisfaction score\n"
   ]
  },
  {
   "cell_type": "code",
   "execution_count": 8,
   "id": "8a65bf90",
   "metadata": {},
   "outputs": [
    {
     "name": "stdout",
     "output_type": "stream",
     "text": [
      "The 95% confidence interval for the population mean satisfaction score is: (7.157955976148765, 8.642044023851236)\n"
     ]
    }
   ],
   "source": [
    "data = [7, 9, 6, 8, 10, 7, 8, 9, 7, 8]\n",
    "\n",
    "sample_mean = sum(data) / len(data)\n",
    "\n",
    "sample_std = (sum((x - sample_mean) ** 2 for x in data) / (len(data) - 1)) ** 0.5\n",
    "\n",
    "z_value = 1.96  \n",
    "margin_of_error = z_value * (sample_std / (len(data) ** 0.5))\n",
    "\n",
    "confidence_interval = (sample_mean - margin_of_error, sample_mean + margin_of_error)\n",
    "\n",
    "print(\"The 95% confidence interval for the population mean satisfaction score is:\", confidence_interval)\n"
   ]
  },
  {
   "cell_type": "markdown",
   "id": "8dd1f2d8",
   "metadata": {},
   "source": [
    "## 14. Scenario: A company wants to analyze the effect of temperature on product performance. The data collected is as follows:\n",
    " -   Temperature (in degrees Celsius): [20, 22, 23, 19, 21]\n",
    " -   Performance (on a scale of 1 to 10): [8, 7, 9, 6, 8]\n",
    "##    Perform a simple linear regression to predict performance based on temperature.\n"
   ]
  },
  {
   "cell_type": "code",
   "execution_count": 10,
   "id": "0072467b",
   "metadata": {},
   "outputs": [
    {
     "name": "stdout",
     "output_type": "stream",
     "text": [
      "Regression equation: Performance = 0.50 * Temperature + -2.90\n",
      "\n",
      "R-squared: 0.4807692307692307\n",
      "p-value: 0.19417134561205843\n",
      "Standard error: 0.30000000000000004\n",
      "\n",
      "Predicted performance for temperature 25°C: 9.60\n"
     ]
    }
   ],
   "source": [
    "from scipy import stats\n",
    "\n",
    "temperature = [20, 22, 23, 19, 21]\n",
    "performance = [8, 7, 9, 6, 8]\n",
    "\n",
    "slope, intercept, r_value, p_value, std_err = stats.linregress(temperature, performance)\n",
    "\n",
    "given_temperature = 25\n",
    "predicted_performance = slope * given_temperature + intercept\n",
    "\n",
    "print(\"Regression equation: Performance = {:.2f} * Temperature + {:.2f}\".format(slope, intercept))\n",
    "print(\"\")\n",
    "\n",
    "print(\"R-squared:\", r_value ** 2)\n",
    "print(\"p-value:\", p_value)\n",
    "print(\"Standard error:\", std_err)\n",
    "print(\"\")\n",
    "\n",
    "print(\"Predicted performance for temperature {}°C: {:.2f}\".format(given_temperature, predicted_performance))\n"
   ]
  },
  {
   "cell_type": "markdown",
   "id": "a5afe08d",
   "metadata": {},
   "source": [
    "## 15. Scenario: A study is conducted to compare the preferences of two groups of participants. The preferences are measured on a Likert scale from 1 to 5. The data collected is as follows:\n",
    " -   Group A: [4, 3, 5, 2, 4]\n",
    " -   Group B: [3, 2, 4, 3, 3]\n",
    "##    Perform a Mann-Whitney U test to determine if there is a significant difference in the median preferences between the two groups.\n"
   ]
  },
  {
   "cell_type": "code",
   "execution_count": 12,
   "id": "b05284b0",
   "metadata": {},
   "outputs": [
    {
     "name": "stdout",
     "output_type": "stream",
     "text": [
      "Fail to reject the null hypothesis. There is no significant difference in the median preferences between the two groups.\n"
     ]
    }
   ],
   "source": [
    "from scipy.stats import mannwhitneyu\n",
    "\n",
    "group_a = [4, 3, 5, 2, 4]\n",
    "group_b = [3, 2, 4, 3, 3]\n",
    "\n",
    "statistic, p_value = mannwhitneyu(group_a, group_b, alternative='two-sided')\n",
    "\n",
    "alpha = 0.05\n",
    "\n",
    "if p_value < alpha:\n",
    "    print(\"Reject the null hypothesis. There is a significant difference in the median preferences between the two groups.\")\n",
    "else:\n",
    "    print(\"Fail to reject the null hypothesis. There is no significant difference in the median preferences between the two groups.\")\n"
   ]
  },
  {
   "cell_type": "markdown",
   "id": "86d47f70",
   "metadata": {},
   "source": [
    "## 16. Scenario: A company wants to analyze the distribution of customer ages. The data collected is as follows:\n",
    "  -  [25, 30, 35, 40, 45, 50, 55, 60, 65, 70]\n",
    "##    Calculate the interquartile range (IQR) of the ages.\n"
   ]
  },
  {
   "cell_type": "code",
   "execution_count": 14,
   "id": "d1daa08f",
   "metadata": {},
   "outputs": [
    {
     "name": "stdout",
     "output_type": "stream",
     "text": [
      "Interquartile Range (IQR): 22.5\n"
     ]
    }
   ],
   "source": [
    "ages = [25, 30, 35, 40, 45, 50, 55, 60, 65, 70]\n",
    "\n",
    "q1 = np.percentile(ages, 25)\n",
    "q3 = np.percentile(ages, 75)\n",
    "\n",
    "iqr = q3 - q1\n",
    "\n",
    "print(\"Interquartile Range (IQR):\", iqr)\n"
   ]
  },
  {
   "cell_type": "markdown",
   "id": "35dfca36",
   "metadata": {},
   "source": [
    "## 17. Scenario: A study is conducted to compare the performance of three different machine learning algorithms. The accuracy scores for each algorithm are as follows:\n",
    "   - Algorithm A: [0.85, 0.80, 0.82, 0.87, 0.83]\n",
    "   - Algorithm B: [0.78, 0.82, 0.84, 0.80, 0.79]\n",
    "   - Algorithm C: [0.90, 0.88, 0.89, 0.86, 0.87]\n",
    "##    Perform a Kruskal-Wallis test to determine if there is a significant difference in the median accuracy scores between the algorithms.\n"
   ]
  },
  {
   "cell_type": "code",
   "execution_count": 16,
   "id": "dda5d6b4",
   "metadata": {},
   "outputs": [
    {
     "name": "stdout",
     "output_type": "stream",
     "text": [
      "Reject the null hypothesis. There is a significant difference in the median accuracy scores between the algorithms.\n"
     ]
    }
   ],
   "source": [
    "from scipy.stats import kruskal\n",
    "\n",
    "algorithm_a = [0.85, 0.80, 0.82, 0.87, 0.83]\n",
    "algorithm_b = [0.78, 0.82, 0.84, 0.80, 0.79]\n",
    "algorithm_c = [0.90, 0.88, 0.89, 0.86, 0.87]\n",
    "\n",
    "statistic, p_value = kruskal(algorithm_a, algorithm_b, algorithm_c)\n",
    "\n",
    "alpha = 0.05\n",
    "\n",
    "if p_value < alpha:\n",
    "    print(\"Reject the null hypothesis. There is a significant difference in the median accuracy scores between the algorithms.\")\n",
    "else:\n",
    "    print(\"Fail to reject the null hypothesis. There is no significant difference in the median accuracy scores between the algorithms.\")\n"
   ]
  },
  {
   "cell_type": "markdown",
   "id": "4104e77e",
   "metadata": {},
   "source": [
    "## 18. Scenario: A company wants to analyze the effect of price on sales. The data collected is as follows:\n",
    "  -  Price (in dollars): [10, 15, 12, 8, 14]\n",
    "  -  Sales: [100, 80, 90, 110, 95]\n",
    "##    Perform a simple linear regression to predict sales based on price.\n"
   ]
  },
  {
   "cell_type": "code",
   "execution_count": 17,
   "id": "2a974505",
   "metadata": {},
   "outputs": [
    {
     "name": "stdout",
     "output_type": "stream",
     "text": [
      "Regression equation: Sales = -3.51 * Price + 136.37\n",
      "\n",
      "R-squared: 0.8064024390243901\n",
      "p-value: 0.03850178234753776\n",
      "Standard error: 0.9918303504036147\n",
      "\n",
      "Predicted sales for price $13.00: 90.79\n"
     ]
    }
   ],
   "source": [
    "price = [10, 15, 12, 8, 14]\n",
    "sales = [100, 80, 90, 110, 95]\n",
    "\n",
    "slope, intercept, r_value, p_value, std_err = stats.linregress(price, sales)\n",
    "\n",
    "given_price = 13\n",
    "predicted_sales = slope * given_price + intercept\n",
    "\n",
    "print(\"Regression equation: Sales = {:.2f} * Price + {:.2f}\".format(slope, intercept))\n",
    "print(\"\")\n",
    "\n",
    "print(\"R-squared:\", r_value ** 2)\n",
    "print(\"p-value:\", p_value)\n",
    "print(\"Standard error:\", std_err)\n",
    "print(\"\")\n",
    "\n",
    "print(\"Predicted sales for price ${:.2f}: {:.2f}\".format(given_price, predicted_sales))\n"
   ]
  },
  {
   "cell_type": "markdown",
   "id": "6ac0d89d",
   "metadata": {},
   "source": [
    "## 19. Scenario: A survey is conducted to measure the satisfaction levels of customers with a new product. The data collected is as follows:\n",
    "   - [7, 8, 9, 6, 8, 7, 9, 7, 8, 7]\n",
    "##    Calculate the standard error of the mean satisfaction score.\n"
   ]
  },
  {
   "cell_type": "code",
   "execution_count": 19,
   "id": "1461b17c",
   "metadata": {},
   "outputs": [
    {
     "name": "stdout",
     "output_type": "stream",
     "text": [
      "Standard Error of the Mean: 0.28982753492378877\n"
     ]
    }
   ],
   "source": [
    "import numpy as np\n",
    "\n",
    "satisfaction_scores = [7, 8, 9, 6, 8, 7, 9, 7, 8, 7]\n",
    "\n",
    "mean_score = np.mean(satisfaction_scores)\n",
    "\n",
    "std_dev = np.std(satisfaction_scores)\n",
    "\n",
    "n = len(satisfaction_scores)\n",
    "standard_error = std_dev / (n ** 0.5)\n",
    "\n",
    "print(\"Standard Error of the Mean:\", standard_error)\n"
   ]
  },
  {
   "cell_type": "markdown",
   "id": "fd19476b",
   "metadata": {},
   "source": [
    "## 20. Scenario: A company wants to analyze the relationship between advertising expenditure and sales. The data collected is as follows:\n",
    "-     Advertising Expenditure (in thousands): [10, 15, 12, 8, 14]\n",
    "-     Sales (in thousands): [25, 30, 28, 20, 26]\n",
    "##    Perform a multiple regression analysis to predict sales based on advertising expenditure\n"
   ]
  },
  {
   "cell_type": "code",
   "execution_count": 20,
   "id": "437f4a7b",
   "metadata": {},
   "outputs": [
    {
     "name": "stdout",
     "output_type": "stream",
     "text": [
      "                            OLS Regression Results                            \n",
      "==============================================================================\n",
      "Dep. Variable:                      y   R-squared:                       0.767\n",
      "Model:                            OLS   Adj. R-squared:                  0.689\n",
      "Method:                 Least Squares   F-statistic:                     9.872\n",
      "Date:                Fri, 14 Jul 2023   Prob (F-statistic):             0.0516\n",
      "Time:                        19:39:34   Log-Likelihood:                -9.5288\n",
      "No. Observations:                   5   AIC:                             23.06\n",
      "Df Residuals:                       3   BIC:                             22.28\n",
      "Df Model:                           1                                         \n",
      "Covariance Type:            nonrobust                                         \n",
      "==============================================================================\n",
      "                 coef    std err          t      P>|t|      [0.025      0.975]\n",
      "------------------------------------------------------------------------------\n",
      "const         12.2012      4.429      2.755      0.070      -1.893      26.296\n",
      "x1             1.1524      0.367      3.142      0.052      -0.015       2.320\n",
      "==============================================================================\n",
      "Omnibus:                          nan   Durbin-Watson:                   1.136\n",
      "Prob(Omnibus):                    nan   Jarque-Bera (JB):                0.546\n",
      "Skew:                          -0.267   Prob(JB):                        0.761\n",
      "Kurtosis:                       1.471   Cond. No.                         57.3\n",
      "==============================================================================\n",
      "\n",
      "Notes:\n",
      "[1] Standard Errors assume that the covariance matrix of the errors is correctly specified.\n"
     ]
    },
    {
     "name": "stderr",
     "output_type": "stream",
     "text": [
      "C:\\Python310\\lib\\site-packages\\statsmodels\\stats\\stattools.py:74: ValueWarning: omni_normtest is not valid with less than 8 observations; 5 samples were given.\n",
      "  warn(\"omni_normtest is not valid with less than 8 observations; %i \"\n"
     ]
    }
   ],
   "source": [
    "import statsmodels.api as sm\n",
    "\n",
    "advertising_expenditure = [10, 15, 12, 8, 14]\n",
    "sales = [25, 30, 28, 20, 26]\n",
    "\n",
    "X = sm.add_constant(advertising_expenditure)\n",
    "\n",
    "model = sm.OLS(sales, X)\n",
    "results = model.fit()\n",
    "\n",
    "print(results.summary())\n"
   ]
  },
  {
   "cell_type": "code",
   "execution_count": null,
   "id": "d963fe3b",
   "metadata": {},
   "outputs": [],
   "source": []
  },
  {
   "cell_type": "code",
   "execution_count": null,
   "id": "4e31151b",
   "metadata": {},
   "outputs": [],
   "source": []
  },
  {
   "cell_type": "code",
   "execution_count": null,
   "id": "dc7e465c",
   "metadata": {},
   "outputs": [],
   "source": []
  },
  {
   "cell_type": "code",
   "execution_count": null,
   "id": "05c988cc",
   "metadata": {},
   "outputs": [],
   "source": []
  },
  {
   "cell_type": "code",
   "execution_count": null,
   "id": "81d4ae49",
   "metadata": {},
   "outputs": [],
   "source": []
  },
  {
   "cell_type": "code",
   "execution_count": null,
   "id": "83832ad6",
   "metadata": {},
   "outputs": [],
   "source": []
  },
  {
   "cell_type": "code",
   "execution_count": null,
   "id": "b81289a6",
   "metadata": {},
   "outputs": [],
   "source": []
  }
 ],
 "metadata": {
  "kernelspec": {
   "display_name": "Python 3 (ipykernel)",
   "language": "python",
   "name": "python3"
  },
  "language_info": {
   "codemirror_mode": {
    "name": "ipython",
    "version": 3
   },
   "file_extension": ".py",
   "mimetype": "text/x-python",
   "name": "python",
   "nbconvert_exporter": "python",
   "pygments_lexer": "ipython3",
   "version": "3.10.9"
  }
 },
 "nbformat": 4,
 "nbformat_minor": 5
}
