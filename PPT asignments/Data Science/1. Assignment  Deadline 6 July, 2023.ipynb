{
 "cells": [
  {
   "cell_type": "markdown",
   "id": "342ccb4a",
   "metadata": {},
   "source": [
    "## 1. Write a Python program to reverse a string without using any built-in string reversal functions."
   ]
  },
  {
   "cell_type": "code",
   "execution_count": 1,
   "id": "15a331a3",
   "metadata": {},
   "outputs": [
    {
     "name": "stdout",
     "output_type": "stream",
     "text": [
      "Original string: Hello, World!\n",
      "Reversed string: !dlroW ,olleH\n"
     ]
    }
   ],
   "source": [
    "def reverse_string(string):\n",
    "    reversed_str = \"\"\n",
    "    for char in string:\n",
    "        reversed_str = char + reversed_str\n",
    "    return reversed_str\n",
    "\n",
    "my_string = \"Hello, World!\"\n",
    "reversed_string = reverse_string(my_string)\n",
    "print(\"Original string:\", my_string)\n",
    "print(\"Reversed string:\", reversed_string)"
   ]
  },
  {
   "cell_type": "markdown",
   "id": "6c6b8ce1",
   "metadata": {},
   "source": [
    "## 2. Implement a function to check if a given string is a palindrome."
   ]
  },
  {
   "cell_type": "code",
   "execution_count": 22,
   "id": "112b2fa6",
   "metadata": {},
   "outputs": [],
   "source": [
    "def is_palindrome(s):\n",
    "    sanitized_string = ''\n",
    "    for ch in s:\n",
    "        if ch.isalpha() or ch.isdigit():\n",
    "            sanitized_string += ch.lower()\n",
    "    return sanitized_string == sanitized_string[::-1]\n"
   ]
  },
  {
   "cell_type": "code",
   "execution_count": 23,
   "id": "d65bb224",
   "metadata": {},
   "outputs": [
    {
     "name": "stdout",
     "output_type": "stream",
     "text": [
      "True\n"
     ]
    }
   ],
   "source": [
    "user_input = \"A man, a plan, a canal, Panama!\"\n",
    "print(is_palindrome(user_input)) "
   ]
  },
  {
   "cell_type": "markdown",
   "id": "9caad624",
   "metadata": {},
   "source": [
    "## 3. Write a program to find the largest element in a given list."
   ]
  },
  {
   "cell_type": "code",
   "execution_count": 5,
   "id": "a3f93bae",
   "metadata": {},
   "outputs": [],
   "source": [
    "def find_largest_element(lst):\n",
    "    if len(lst) == 0:\n",
    "        return None  \n",
    "    else:\n",
    "        largest = lst[0] \n",
    "\n",
    "        for num in lst:\n",
    "            if num > largest:\n",
    "                largest = num  \n",
    "\n",
    "        return largest\n"
   ]
  },
  {
   "cell_type": "code",
   "execution_count": 7,
   "id": "40b2909c",
   "metadata": {},
   "outputs": [
    {
     "name": "stdout",
     "output_type": "stream",
     "text": [
      "The largest element in the list is: 90\n"
     ]
    }
   ],
   "source": [
    "numbers = [12, 45, 78, 34, 56, 90, 23]\n",
    "largest_number = find_largest_element(numbers)\n",
    "print(\"The largest element in the list is:\", largest_number)"
   ]
  },
  {
   "cell_type": "markdown",
   "id": "23f5390e",
   "metadata": {},
   "source": [
    "## 4. Implement a function to count the occurrence of each element in a list."
   ]
  },
  {
   "cell_type": "code",
   "execution_count": 24,
   "id": "2b80f026",
   "metadata": {},
   "outputs": [],
   "source": [
    "def count_elements(lst):\n",
    "    element_count = {}\n",
    "    for element in lst:\n",
    "        if element in element_count:\n",
    "            element_count[element] += 1\n",
    "        else:\n",
    "            element_count[element] = 1\n",
    "    return element_count\n"
   ]
  },
  {
   "cell_type": "code",
   "execution_count": 25,
   "id": "3762284d",
   "metadata": {},
   "outputs": [
    {
     "data": {
      "text/plain": [
       "{1: 3, 2: 2, 3: 1, 4: 2, 5: 1}"
      ]
     },
     "execution_count": 25,
     "metadata": {},
     "output_type": "execute_result"
    }
   ],
   "source": [
    "my_list = [1, 2, 3, 2, 1, 1, 4, 5, 4]\n",
    "counts = count_elements(my_list)\n",
    "counts"
   ]
  },
  {
   "cell_type": "markdown",
   "id": "ac3ad26f",
   "metadata": {},
   "source": [
    "## 5. Write a Python program to find the second largest number in a list."
   ]
  },
  {
   "cell_type": "code",
   "execution_count": 3,
   "id": "a25affbd",
   "metadata": {},
   "outputs": [],
   "source": [
    "def find_second_largest(numbers):\n",
    "    if len(numbers) < 2:\n",
    "        return \"List should contain at least two numbers.\"\n",
    "\n",
    "    largest = float('-inf') \n",
    "    second_largest = float('-inf')  \n",
    "\n",
    "    for num in numbers:\n",
    "        if num > largest:\n",
    "            second_largest = largest\n",
    "            largest = num\n",
    "        elif num > second_largest and num != largest:\n",
    "            second_largest = num\n",
    "\n",
    "    if second_largest == float('-inf'):\n",
    "        return \"There is no second largest number.\"\n",
    "    else:\n",
    "        return second_largest"
   ]
  },
  {
   "cell_type": "code",
   "execution_count": 5,
   "id": "c35817d3",
   "metadata": {},
   "outputs": [
    {
     "name": "stdout",
     "output_type": "stream",
     "text": [
      "Second largest number: 9\n"
     ]
    }
   ],
   "source": [
    "num_list = [10, 5, 7, 3, 9, 1, 8]\n",
    "second_largest_num = find_second_largest(num_list)\n",
    "print(\"Second largest number:\", second_largest_num)"
   ]
  },
  {
   "cell_type": "markdown",
   "id": "a904da9d",
   "metadata": {},
   "source": [
    "## 6. Implement a function to remove duplicate elements from a list."
   ]
  },
  {
   "cell_type": "code",
   "execution_count": 6,
   "id": "90cd00a2",
   "metadata": {},
   "outputs": [
    {
     "name": "stdout",
     "output_type": "stream",
     "text": [
      "Unique elements: [1, 2, 3, 4, 5, 6]\n"
     ]
    }
   ],
   "source": [
    "def remove_duplicates(input_list):\n",
    "    return list(set(input_list))\n",
    "\n",
    "\n",
    "my_list = [1, 2, 3, 4, 4, 5, 2, 6, 6]\n",
    "unique_list = remove_duplicates(my_list)\n",
    "print(\"Unique elements:\", unique_list)\n"
   ]
  },
  {
   "cell_type": "markdown",
   "id": "16f612c6",
   "metadata": {},
   "source": [
    "## 7. Write a program to calculate the factorial of a given number."
   ]
  },
  {
   "cell_type": "code",
   "execution_count": 1,
   "id": "06b21065",
   "metadata": {},
   "outputs": [],
   "source": [
    "def factorial(n):\n",
    "    if n == 0 or n == 1:\n",
    "        return 1\n",
    "    else:\n",
    "        return n * factorial(n - 1)\n"
   ]
  },
  {
   "cell_type": "code",
   "execution_count": 3,
   "id": "eb79d5d5",
   "metadata": {},
   "outputs": [
    {
     "data": {
      "text/plain": [
       "24"
      ]
     },
     "execution_count": 3,
     "metadata": {},
     "output_type": "execute_result"
    }
   ],
   "source": [
    "factorial(4)"
   ]
  },
  {
   "cell_type": "markdown",
   "id": "15ddb028",
   "metadata": {},
   "source": [
    "## 8. Implement a function to check if a given number is prime."
   ]
  },
  {
   "cell_type": "code",
   "execution_count": 49,
   "id": "983d59a8",
   "metadata": {},
   "outputs": [],
   "source": [
    "def is_prime(n):\n",
    "    if n <= 1:\n",
    "        print(n, \"is not prime.\")\n",
    "        return\n",
    "\n",
    "    for i in range(2, int(n**0.5) + 1):\n",
    "        if n % i == 0:\n",
    "            print(n, \"is not prime.\")\n",
    "            return\n",
    "\n",
    "    print(n, \"is prime.\")\n"
   ]
  },
  {
   "cell_type": "code",
   "execution_count": 50,
   "id": "900bc0fd",
   "metadata": {},
   "outputs": [
    {
     "name": "stdout",
     "output_type": "stream",
     "text": [
      "17 is prime.\n"
     ]
    }
   ],
   "source": [
    "is_prime(17)"
   ]
  },
  {
   "cell_type": "markdown",
   "id": "860fb582",
   "metadata": {},
   "source": [
    "## 9. Write a Python program to sort a list of integers in ascending order"
   ]
  },
  {
   "cell_type": "code",
   "execution_count": 64,
   "id": "8e8f5899",
   "metadata": {},
   "outputs": [],
   "source": [
    "def sort_list(array):\n",
    "    sorted_list = array[:] \n",
    "\n",
    "    r foi in range(len(sorted_list)):\n",
    "        for j in range(i + 1, len(sorted_list)):\n",
    "            if sorted_list[j] < sorted_list[i]:\n",
    "                sorted_list[i], sorted_list[j] = sorted_list[j], sorted_list[i]\n",
    "\n",
    "    return sorted_list\n"
   ]
  },
  {
   "cell_type": "code",
   "execution_count": 66,
   "id": "047491f3",
   "metadata": {},
   "outputs": [
    {
     "data": {
      "text/plain": [
       "[2, 3, 5, 5, 6]"
      ]
     },
     "execution_count": 66,
     "metadata": {},
     "output_type": "execute_result"
    }
   ],
   "source": [
    "sort_list([5,3,2,5,6])"
   ]
  },
  {
   "cell_type": "markdown",
   "id": "38f2aec8",
   "metadata": {},
   "source": [
    "## 10. Implement a function to find the sum of all numbers in a list."
   ]
  },
  {
   "cell_type": "code",
   "execution_count": 69,
   "id": "503045da",
   "metadata": {},
   "outputs": [],
   "source": [
    "def sum_list(array):\n",
    "    total = 0\n",
    "    for num in array:\n",
    "        total += num\n",
    "    return total\n"
   ]
  },
  {
   "cell_type": "code",
   "execution_count": 70,
   "id": "ab0e297e",
   "metadata": {},
   "outputs": [
    {
     "data": {
      "text/plain": [
       "20"
      ]
     },
     "execution_count": 70,
     "metadata": {},
     "output_type": "execute_result"
    }
   ],
   "source": [
    "sum_list([2,3,4,5,6])"
   ]
  },
  {
   "cell_type": "markdown",
   "id": "44c2bb51",
   "metadata": {},
   "source": [
    "# 11. Write a program to find the common elements between two lists."
   ]
  },
  {
   "cell_type": "code",
   "execution_count": 74,
   "id": "951590c7",
   "metadata": {},
   "outputs": [],
   "source": [
    "def com_elt(num1, num2):\n",
    "    com = []\n",
    "    for i in num1:\n",
    "        if i in num2:\n",
    "            com.append(i)\n",
    "    if com:\n",
    "        return com\n",
    "    else:\n",
    "        return \"No common elements\"\n"
   ]
  },
  {
   "cell_type": "code",
   "execution_count": 77,
   "id": "a74d4b31",
   "metadata": {},
   "outputs": [
    {
     "data": {
      "text/plain": [
       "[3, 4, 5, 6]"
      ]
     },
     "execution_count": 77,
     "metadata": {},
     "output_type": "execute_result"
    }
   ],
   "source": [
    "num1 = [3,4,5,6,7,8,9]\n",
    "num2 = [6,5,4,3,2,1]\n",
    "\n",
    "com_elt(num1, num2)"
   ]
  },
  {
   "cell_type": "markdown",
   "id": "2d2db632",
   "metadata": {},
   "source": [
    "## 12. Implement a function to check if a given string is an anagram of another string."
   ]
  },
  {
   "cell_type": "code",
   "execution_count": 79,
   "id": "3c850577",
   "metadata": {},
   "outputs": [],
   "source": [
    "def is_anagram(str1, str2):\n",
    "    if sorted(str1) == sorted(str2):\n",
    "        return \"The given strings are anagrams\"\n",
    "    else:\n",
    "        return \"The given strings are not anagrams\"\n"
   ]
  },
  {
   "cell_type": "code",
   "execution_count": 83,
   "id": "2b294bf0",
   "metadata": {},
   "outputs": [
    {
     "data": {
      "text/plain": [
       "'The given strings are anagrams'"
      ]
     },
     "execution_count": 83,
     "metadata": {},
     "output_type": "execute_result"
    }
   ],
   "source": [
    "str1 = \"lala\"\n",
    "str2 = 'alal'\n",
    "\n",
    "is_anagram(str1, str2)"
   ]
  },
  {
   "cell_type": "markdown",
   "id": "ea2226e6",
   "metadata": {},
   "source": [
    "## 13. Write a Python program to generate all permutations of a given string."
   ]
  },
  {
   "cell_type": "code",
   "execution_count": 3,
   "id": "bae3c1f4",
   "metadata": {},
   "outputs": [],
   "source": [
    "def generate_combinations(string):\n",
    "    combinations = []\n",
    "    generate_combinations_recursive(string, '', combinations)\n",
    "    for combination in combinations:\n",
    "        print(combination)\n",
    "\n",
    "def generate_combinations_recursive(string, current_combination, combinations):\n",
    "    if len(string) == 0:\n",
    "        combinations.append(current_combination)\n",
    "        return\n",
    "    for i in range(len(string)):\n",
    "        new_combination = current_combination + string[i]\n",
    "        new_string = string[:i] + string[i+1:]\n",
    "        generate_combinations_recursive(new_string, new_combination, combinations)"
   ]
  },
  {
   "cell_type": "code",
   "execution_count": 4,
   "id": "1aace0f2",
   "metadata": {},
   "outputs": [
    {
     "name": "stdout",
     "output_type": "stream",
     "text": [
      "abc\n",
      "acb\n",
      "bac\n",
      "bca\n",
      "cab\n",
      "cba\n"
     ]
    }
   ],
   "source": [
    "input_string = \"abc\"\n",
    "generate_combinations(input_string)"
   ]
  },
  {
   "cell_type": "markdown",
   "id": "534da1f7",
   "metadata": {},
   "source": [
    "## 14. Implement a function to calculate the Fibonacci sequence up to a given number of terms."
   ]
  },
  {
   "cell_type": "code",
   "execution_count": 6,
   "id": "70b8e136",
   "metadata": {},
   "outputs": [],
   "source": [
    "def fib(n):\n",
    "    if n == 0 or n == 1:\n",
    "        return 1\n",
    "    else:\n",
    "        return fib(n-1) + fib(n-2)\n"
   ]
  },
  {
   "cell_type": "code",
   "execution_count": 10,
   "id": "8138a68d",
   "metadata": {},
   "outputs": [
    {
     "data": {
      "text/plain": [
       "233"
      ]
     },
     "execution_count": 10,
     "metadata": {},
     "output_type": "execute_result"
    }
   ],
   "source": [
    "fib(12)"
   ]
  },
  {
   "cell_type": "markdown",
   "id": "c780cf7b",
   "metadata": {},
   "source": [
    "## 15. Write a program to find the median of a list of numbers."
   ]
  },
  {
   "cell_type": "code",
   "execution_count": 26,
   "id": "c90e18cc",
   "metadata": {},
   "outputs": [],
   "source": [
    "def my_median(array):\n",
    "    if len(array) % 2 == 1:\n",
    "        return array[len(array) // 2]\n",
    "    else:\n",
    "        mid1 = array[len(array) // 2]\n",
    "        mid2 = array[len(array) // 2 - 1]\n",
    "        return (mid1 + mid2) / 2\n"
   ]
  },
  {
   "cell_type": "code",
   "execution_count": 27,
   "id": "e193266a",
   "metadata": {},
   "outputs": [],
   "source": [
    "array = [1,2,3,6,7,8]"
   ]
  },
  {
   "cell_type": "code",
   "execution_count": 30,
   "id": "d7dd197c",
   "metadata": {},
   "outputs": [
    {
     "data": {
      "text/plain": [
       "4.5"
      ]
     },
     "execution_count": 30,
     "metadata": {},
     "output_type": "execute_result"
    }
   ],
   "source": [
    "my_median(array)"
   ]
  },
  {
   "cell_type": "markdown",
   "id": "ad69816e",
   "metadata": {},
   "source": [
    "## 16. Implement a function to check if a given list is sorted in non-decreasing order."
   ]
  },
  {
   "cell_type": "code",
   "execution_count": 31,
   "id": "ec9e357d",
   "metadata": {},
   "outputs": [],
   "source": [
    "def is_sorted(lst):\n",
    "    for i in range(len(lst) - 1):\n",
    "        if lst[i] > lst[i + 1]:\n",
    "            return False\n",
    "    return True\n"
   ]
  },
  {
   "cell_type": "code",
   "execution_count": 34,
   "id": "c5df7819",
   "metadata": {},
   "outputs": [],
   "source": [
    "array = [3,2,1]"
   ]
  },
  {
   "cell_type": "code",
   "execution_count": 35,
   "id": "fa93be67",
   "metadata": {},
   "outputs": [
    {
     "data": {
      "text/plain": [
       "False"
      ]
     },
     "execution_count": 35,
     "metadata": {},
     "output_type": "execute_result"
    }
   ],
   "source": [
    "is_sorted(array)"
   ]
  },
  {
   "cell_type": "markdown",
   "id": "c09776ec",
   "metadata": {},
   "source": [
    "## 17. Write a Python program to find the intersection of two lists."
   ]
  },
  {
   "cell_type": "code",
   "execution_count": 37,
   "id": "b1c7c0bf",
   "metadata": {},
   "outputs": [],
   "source": [
    "def fin_com(arr1, arr2):\n",
    "    com = []\n",
    "    for i in  arr1:\n",
    "        if i in arr2:\n",
    "            com.append(i)\n",
    "    if com:   \n",
    "        return com\n",
    "    else:\n",
    "        return \"No common elements\"\n",
    "    "
   ]
  },
  {
   "cell_type": "code",
   "execution_count": 38,
   "id": "a38d8ec9",
   "metadata": {},
   "outputs": [],
   "source": [
    "arr1 = [1,2,3,4]\n",
    "arr2 = [7,8,9,4,5,1]"
   ]
  },
  {
   "cell_type": "code",
   "execution_count": 39,
   "id": "a965dfd9",
   "metadata": {},
   "outputs": [
    {
     "data": {
      "text/plain": [
       "[1, 4]"
      ]
     },
     "execution_count": 39,
     "metadata": {},
     "output_type": "execute_result"
    }
   ],
   "source": [
    "fin_com(arr1, arr2)"
   ]
  },
  {
   "cell_type": "markdown",
   "id": "0a103f32",
   "metadata": {},
   "source": [
    "##  18. Implement a function to find the maximum subarray sum in a given list.\n"
   ]
  },
  {
   "cell_type": "code",
   "execution_count": 40,
   "id": "59fdbd72",
   "metadata": {},
   "outputs": [],
   "source": [
    "def max_subarray_sum(arr):\n",
    "    max_sum = float('-inf') \n",
    "    current_sum = 0\n",
    "\n",
    "    for num in arr:\n",
    "        current_sum = max(num, current_sum + num)\n",
    "        max_sum = max(max_sum, current_sum)\n",
    "\n",
    "    return max_sum\n"
   ]
  },
  {
   "cell_type": "code",
   "execution_count": 41,
   "id": "28e74a2e",
   "metadata": {},
   "outputs": [
    {
     "data": {
      "text/plain": [
       "10"
      ]
     },
     "execution_count": 41,
     "metadata": {},
     "output_type": "execute_result"
    }
   ],
   "source": [
    "max_subarray_sum(arr1)"
   ]
  },
  {
   "cell_type": "markdown",
   "id": "52787e49",
   "metadata": {},
   "source": [
    "## 19. Write a program to remove all vowels from a given string."
   ]
  },
  {
   "cell_type": "code",
   "execution_count": 51,
   "id": "3cd54f23",
   "metadata": {},
   "outputs": [],
   "source": [
    "def remove_vowel(string):\n",
    "    vowels = ['a', 'e', 'i', 'o', 'u']\n",
    "    modified_string = []\n",
    "    for char in string:\n",
    "        if char.lower() not in vowels:\n",
    "            modified_string.append(char)\n",
    "    return ''.join(modified_string)"
   ]
  },
  {
   "cell_type": "code",
   "execution_count": 52,
   "id": "8c6607a7",
   "metadata": {},
   "outputs": [],
   "source": [
    "string = \"Abhijit\""
   ]
  },
  {
   "cell_type": "code",
   "execution_count": 53,
   "id": "037144cf",
   "metadata": {},
   "outputs": [
    {
     "data": {
      "text/plain": [
       "'bhjt'"
      ]
     },
     "execution_count": 53,
     "metadata": {},
     "output_type": "execute_result"
    }
   ],
   "source": [
    "remove_vowel(string)"
   ]
  },
  {
   "cell_type": "markdown",
   "id": "daaf03c1",
   "metadata": {},
   "source": [
    "## 20. Implement a function to reverse the order of words in a given sentence."
   ]
  },
  {
   "cell_type": "code",
   "execution_count": 58,
   "id": "e63e0f23",
   "metadata": {},
   "outputs": [],
   "source": [
    "def reverse_string(string):\n",
    "    return string[::-1]"
   ]
  },
  {
   "cell_type": "code",
   "execution_count": 59,
   "id": "d778e114",
   "metadata": {},
   "outputs": [],
   "source": [
    "string = \"Abhijit\""
   ]
  },
  {
   "cell_type": "code",
   "execution_count": 60,
   "id": "09249fd4",
   "metadata": {},
   "outputs": [
    {
     "data": {
      "text/plain": [
       "'tijihbA'"
      ]
     },
     "execution_count": 60,
     "metadata": {},
     "output_type": "execute_result"
    }
   ],
   "source": [
    "reverse_string(string)"
   ]
  },
  {
   "cell_type": "markdown",
   "id": "f31cdb07",
   "metadata": {},
   "source": [
    "## 21. Write a Python program to check if two strings are anagrams of each other."
   ]
  },
  {
   "cell_type": "code",
   "execution_count": 62,
   "id": "b4c6ff25",
   "metadata": {},
   "outputs": [
    {
     "name": "stdout",
     "output_type": "stream",
     "text": [
      "Enter the first string: laal\n",
      "Enter the second string: alla\n",
      "The strings are anagrams.\n"
     ]
    }
   ],
   "source": [
    "def are_anagrams(str1, str2):\n",
    "    str1 = str1.lower().replace(\" \", \"\")\n",
    "    str2 = str2.lower().replace(\" \", \"\")\n",
    "    \n",
    "    if len(str1) != len(str2):\n",
    "        return False\n",
    "    \n",
    "    char_count1 = {}\n",
    "    char_count2 = {}\n",
    "    \n",
    "    for char in str1:\n",
    "        char_count1[char] = char_count1.get(char, 0) +1\n",
    "        \n",
    "    for char in str2:\n",
    "        char_count2[char] = char_count2.get(char, 0) + 1\n",
    "    \n",
    "    return char_count1 == char_count2\n",
    "\n",
    "string1 = input(\"Enter the first string: \")\n",
    "string2 = input(\"Enter the second string: \")\n",
    "\n",
    "if are_anagrams(string1, string2):\n",
    "    print(\"The strings are anagrams.\")\n",
    "else:\n",
    "    print(\"The strings are not anagrams.\")\n"
   ]
  },
  {
   "cell_type": "markdown",
   "id": "0bb051c6",
   "metadata": {},
   "source": [
    "## 22. Implement a function to find the first non-repeating character in a string."
   ]
  },
  {
   "cell_type": "code",
   "execution_count": 63,
   "id": "af736089",
   "metadata": {},
   "outputs": [],
   "source": [
    "def find_first_non_repeating_char(string):\n",
    "    char_count = {}\n",
    "\n",
    "    for char in string:\n",
    "        char_count[char] = char_count.get(char, 0) + 1\n",
    "\n",
    "    for char in string:\n",
    "        if char_count[char] == 1:\n",
    "            return char\n",
    "    return None\n"
   ]
  },
  {
   "cell_type": "code",
   "execution_count": 64,
   "id": "aa6c67b5",
   "metadata": {},
   "outputs": [
    {
     "data": {
      "text/plain": [
       "'A'"
      ]
     },
     "execution_count": 64,
     "metadata": {},
     "output_type": "execute_result"
    }
   ],
   "source": [
    "find_first_non_repeating_char(\"Abhijit\")"
   ]
  },
  {
   "cell_type": "markdown",
   "id": "f31bfeac",
   "metadata": {},
   "source": [
    "## 23. Write a program to find the prime factors of a given number."
   ]
  },
  {
   "cell_type": "code",
   "execution_count": 73,
   "id": "4c31472d",
   "metadata": {},
   "outputs": [],
   "source": [
    "def fiprime_factors(n):\n",
    "    factors = []\n",
    "    divisor = 2\n",
    "\n",
    "    while divisor <= n:\n",
    "        if n % divisor == 0:\n",
    "            factors.append(divisor)\n",
    "            n = n / divisor\n",
    "        else:\n",
    "            divisor += 1\n",
    "\n",
    "    return factors"
   ]
  },
  {
   "cell_type": "code",
   "execution_count": 75,
   "id": "6bd5ea35",
   "metadata": {},
   "outputs": [
    {
     "data": {
      "text/plain": [
       "[2, 2, 3, 3]"
      ]
     },
     "execution_count": 75,
     "metadata": {},
     "output_type": "execute_result"
    }
   ],
   "source": [
    "prime_factors(36)"
   ]
  },
  {
   "cell_type": "markdown",
   "id": "0af0a50f",
   "metadata": {},
   "source": [
    "## 24. Implement a function to check if a given number is a power of two."
   ]
  },
  {
   "cell_type": "code",
   "execution_count": 76,
   "id": "95269a3b",
   "metadata": {},
   "outputs": [],
   "source": [
    "def is_power_two(n):\n",
    "    if n <= 0:\n",
    "        return False\n",
    "    elif n & (n - 1) == 0:\n",
    "        return True\n",
    "    else:\n",
    "        return False\n"
   ]
  },
  {
   "cell_type": "code",
   "execution_count": 82,
   "id": "9f46fd57",
   "metadata": {},
   "outputs": [
    {
     "data": {
      "text/plain": [
       "False"
      ]
     },
     "execution_count": 82,
     "metadata": {},
     "output_type": "execute_result"
    }
   ],
   "source": [
    "is_power_two(36)"
   ]
  },
  {
   "cell_type": "markdown",
   "id": "5c3cffed",
   "metadata": {},
   "source": [
    "## 25. Write a Python program to merge two sorted lists into a single sorted list"
   ]
  },
  {
   "cell_type": "code",
   "execution_count": 88,
   "id": "4e8d695b",
   "metadata": {},
   "outputs": [],
   "source": [
    "def merge_list(arr1, arr2):\n",
    "    arr1.sort()\n",
    "    arr2.sort()  \n",
    "    \n",
    "    for i in arr2:  \n",
    "        if i not in arr1: \n",
    "            arr1.append(i) \n",
    "    \n",
    "    arr1.sort()  \n",
    "    return arr1\n"
   ]
  },
  {
   "cell_type": "code",
   "execution_count": 89,
   "id": "3749d11c",
   "metadata": {},
   "outputs": [],
   "source": [
    "arr1  = [1,9,87,5,6]\n",
    "arr2 = [1,2,3,4,5,7]"
   ]
  },
  {
   "cell_type": "code",
   "execution_count": 90,
   "id": "0259d513",
   "metadata": {},
   "outputs": [
    {
     "data": {
      "text/plain": [
       "[1, 2, 3, 4, 5, 6, 7, 9, 87]"
      ]
     },
     "execution_count": 90,
     "metadata": {},
     "output_type": "execute_result"
    }
   ],
   "source": [
    "merge_list(arr1, arr2)"
   ]
  },
  {
   "cell_type": "markdown",
   "id": "9538edcd",
   "metadata": {},
   "source": [
    "## 26. Implement a function to find the mode of a list of numbers."
   ]
  },
  {
   "cell_type": "code",
   "execution_count": 91,
   "id": "b10047ab",
   "metadata": {},
   "outputs": [],
   "source": [
    "def calculate_mode(lst):\n",
    "    frequency = {} \n",
    "    max_count = 0  \n",
    "\n",
    "    for num in lst:\n",
    "        if num in frequency:\n",
    "            frequency[num] += 1\n",
    "        else:\n",
    "            frequency[num] = 1\n",
    "\n",
    "        if frequency[num] > max_count:\n",
    "            max_count = frequency[num]\n",
    "\n",
    "    mode = [num for num, count in frequency.items() if count == max_count]\n",
    "\n",
    "    return mode\n"
   ]
  },
  {
   "cell_type": "code",
   "execution_count": 96,
   "id": "10bacc84",
   "metadata": {},
   "outputs": [],
   "source": [
    "arr1 = [1, 2, 1, 3, 4, 5, 6, 7, 9, 87]"
   ]
  },
  {
   "cell_type": "code",
   "execution_count": 97,
   "id": "99f89f0f",
   "metadata": {},
   "outputs": [
    {
     "data": {
      "text/plain": [
       "[1]"
      ]
     },
     "execution_count": 97,
     "metadata": {},
     "output_type": "execute_result"
    }
   ],
   "source": [
    "calculate_mode(arr1)"
   ]
  },
  {
   "cell_type": "markdown",
   "id": "149ed8dc",
   "metadata": {},
   "source": [
    "## 27. Write a program to find the greatest common divisor (GCD) of two number."
   ]
  },
  {
   "cell_type": "code",
   "execution_count": 100,
   "id": "e91d2f98",
   "metadata": {},
   "outputs": [],
   "source": [
    "def greatest_common_divisor(num1, num2):\n",
    "    while num2 != 0:\n",
    "        temp = num2\n",
    "        num2 = num1 % num2\n",
    "        num1 = temp\n",
    "\n",
    "    gcd = num1\n",
    "    return gcd\n"
   ]
  },
  {
   "cell_type": "code",
   "execution_count": 101,
   "id": "796af515",
   "metadata": {},
   "outputs": [
    {
     "data": {
      "text/plain": [
       "12"
      ]
     },
     "execution_count": 101,
     "metadata": {},
     "output_type": "execute_result"
    }
   ],
   "source": [
    "num1 = 24\n",
    "num2 = 36\n",
    "result = greatest_common_divisor(num1, num2)\n",
    "result"
   ]
  },
  {
   "cell_type": "markdown",
   "id": "300ea2bb",
   "metadata": {},
   "source": [
    "## 28. Implement a function to calculate the square root of a given number"
   ]
  },
  {
   "cell_type": "code",
   "execution_count": 110,
   "id": "ff2519ed",
   "metadata": {},
   "outputs": [],
   "source": [
    "def cal_sqrt(num):\n",
    "    if num == 0:\n",
    "        return 0\n",
    "\n",
    "    guess = num\n",
    "    prev_guess = 0\n",
    "\n",
    "    while abs(guess - prev_guess) >= 0.0001:\n",
    "        prev_guess = guess\n",
    "        guess = (guess + num / guess) / 2\n",
    "\n",
    "    return int(guess)\n"
   ]
  },
  {
   "cell_type": "code",
   "execution_count": 115,
   "id": "604ae7af",
   "metadata": {},
   "outputs": [
    {
     "data": {
      "text/plain": [
       "6"
      ]
     },
     "execution_count": 115,
     "metadata": {},
     "output_type": "execute_result"
    }
   ],
   "source": [
    "cal_sqrt(36)"
   ]
  },
  {
   "cell_type": "markdown",
   "id": "a9db9978",
   "metadata": {},
   "source": [
    "## 29. Write a Python program to check if a given string is a valid palindrome ignoring non-alphanumeric characters."
   ]
  },
  {
   "cell_type": "code",
   "execution_count": 116,
   "id": "e9382540",
   "metadata": {},
   "outputs": [],
   "source": [
    "def is_valid_palindrome(string):\n",
    "    string = string.lower()\n",
    "    \n",
    "    alphanumeric = 'abcdefghijklmnopqrstuvwxyz0123456789'\n",
    "\n",
    "    start = 0\n",
    "    end = len(string) - 1\n",
    "    \n",
    "    while start < end:\n",
    "        while start < end and string[start] not in alphanumeric:\n",
    "            start += 1\n",
    "        \n",
    "        while start < end and string[end] not in alphanumeric:\n",
    "            end -= 1\n",
    "    \n",
    "        if string[start] != string[end]:\n",
    "            return False\n",
    "        start += 1\n",
    "        end -= 1\n",
    "    \n",
    "    return True\n"
   ]
  },
  {
   "cell_type": "code",
   "execution_count": 117,
   "id": "8244460c",
   "metadata": {},
   "outputs": [
    {
     "data": {
      "text/plain": [
       "True"
      ]
     },
     "execution_count": 117,
     "metadata": {},
     "output_type": "execute_result"
    }
   ],
   "source": [
    "is_valid_palindrome(\"Abhi@ihbA\")"
   ]
  },
  {
   "cell_type": "code",
   "execution_count": 118,
   "id": "2174181d",
   "metadata": {},
   "outputs": [
    {
     "data": {
      "text/plain": [
       "False"
      ]
     },
     "execution_count": 118,
     "metadata": {},
     "output_type": "execute_result"
    }
   ],
   "source": [
    "is_valid_palindrome(\"Abhi@ala\")"
   ]
  },
  {
   "cell_type": "markdown",
   "id": "5fc7f9d0",
   "metadata": {},
   "source": [
    "## 30. Implement a function to find the minimum element in a rotated sorted list."
   ]
  },
  {
   "cell_type": "code",
   "execution_count": 119,
   "id": "93e04d24",
   "metadata": {},
   "outputs": [],
   "source": [
    "def find_minimum(rotated_list):\n",
    "    start = 0\n",
    "    end = len(rotated_list) - 1\n",
    "\n",
    "    while start < end:\n",
    "        mid = start + (end - start) // 2\n",
    "\n",
    "        if rotated_list[mid] > rotated_list[end]:\n",
    "            start = mid + 1\n",
    "        else:\n",
    "            end = mid\n",
    "\n",
    "    return rotated_list[start]\n"
   ]
  },
  {
   "cell_type": "code",
   "execution_count": 121,
   "id": "9f09fe59",
   "metadata": {},
   "outputs": [
    {
     "name": "stdout",
     "output_type": "stream",
     "text": [
      "0\n"
     ]
    }
   ],
   "source": [
    "rotated_list = [4, 5, 6, 7, 0, 1, 2]\n",
    "result = find_minimum(rotated_list)\n",
    "print(result)  "
   ]
  },
  {
   "cell_type": "markdown",
   "id": "d9c9f3a8",
   "metadata": {},
   "source": [
    "## 31. Write a program to find the sum of all even numbers in a list."
   ]
  },
  {
   "cell_type": "code",
   "execution_count": 146,
   "id": "2d860e65",
   "metadata": {},
   "outputs": [],
   "source": [
    "def sum_even(list):\n",
    "    total = 0\n",
    "    for i in list:\n",
    "        if i%2 == 0:\n",
    "            total +=i\n",
    "    return total      "
   ]
  },
  {
   "cell_type": "code",
   "execution_count": 147,
   "id": "ba4db1c9",
   "metadata": {},
   "outputs": [
    {
     "data": {
      "text/plain": [
       "[1, 2, 1, 3, 4, 5, 6, 7, 9, 87]"
      ]
     },
     "execution_count": 147,
     "metadata": {},
     "output_type": "execute_result"
    }
   ],
   "source": [
    "arr1"
   ]
  },
  {
   "cell_type": "code",
   "execution_count": 148,
   "id": "3ce2345d",
   "metadata": {},
   "outputs": [
    {
     "data": {
      "text/plain": [
       "12"
      ]
     },
     "execution_count": 148,
     "metadata": {},
     "output_type": "execute_result"
    }
   ],
   "source": [
    "sum_even(arr1)"
   ]
  },
  {
   "cell_type": "markdown",
   "id": "f8b36fdd",
   "metadata": {},
   "source": [
    "## 32. Implement a function to calculate the power of a number using recursion."
   ]
  },
  {
   "cell_type": "code",
   "execution_count": 149,
   "id": "8e29a395",
   "metadata": {},
   "outputs": [],
   "source": [
    "def power(base, exponent):\n",
    "    if exponent == 0:\n",
    "        return 1\n",
    "    elif exponent > 0:\n",
    "        return base * power(base, exponent - 1)\n",
    "    else:\n",
    "        return 1 / base * power(base, exponent + 1)\n"
   ]
  },
  {
   "cell_type": "code",
   "execution_count": 151,
   "id": "9ef74ed4",
   "metadata": {},
   "outputs": [
    {
     "data": {
      "text/plain": [
       "64"
      ]
     },
     "execution_count": 151,
     "metadata": {},
     "output_type": "execute_result"
    }
   ],
   "source": [
    "base = 4\n",
    "exponent = 3\n",
    "result = power(base, exponent)\n",
    "result"
   ]
  },
  {
   "cell_type": "markdown",
   "id": "d2dfc077",
   "metadata": {},
   "source": [
    "## 33. Write a Python program to remove duplicates from a list while preserving the order."
   ]
  },
  {
   "cell_type": "code",
   "execution_count": 153,
   "id": "62027052",
   "metadata": {},
   "outputs": [],
   "source": [
    "arr = [2,4,5,7,2,4,5,8,9]"
   ]
  },
  {
   "cell_type": "code",
   "execution_count": 157,
   "id": "6f926068",
   "metadata": {},
   "outputs": [],
   "source": [
    "def remove_duplicates(arr):\n",
    "    arr = set(arr)\n",
    "    arr = list(arr)\n",
    "    return arr"
   ]
  },
  {
   "cell_type": "code",
   "execution_count": 159,
   "id": "43338f6e",
   "metadata": {},
   "outputs": [
    {
     "data": {
      "text/plain": [
       "[2, 4, 5, 7, 8, 9]"
      ]
     },
     "execution_count": 159,
     "metadata": {},
     "output_type": "execute_result"
    }
   ],
   "source": [
    "remove_duplicates(arr)"
   ]
  },
  {
   "cell_type": "markdown",
   "id": "b0b19263",
   "metadata": {},
   "source": [
    "## 34. Implement a function to find the longest common prefix among a list of strings."
   ]
  },
  {
   "cell_type": "code",
   "execution_count": 160,
   "id": "c200b7cc",
   "metadata": {},
   "outputs": [],
   "source": [
    "def longest_common_prefix(strs):\n",
    "    if not strs:\n",
    "        return \"\"\n",
    "\n",
    "    min_len = min(len(s) for s in strs)\n",
    "\n",
    "    common_prefix = \"\"\n",
    "\n",
    "    for i in range(min_len):\n",
    "        if all(s[i] == strs[0][i] for s in strs):\n",
    "            common_prefix += strs[0][i]\n",
    "        else:\n",
    "            break\n",
    "\n",
    "    return common_prefix\n"
   ]
  },
  {
   "cell_type": "code",
   "execution_count": 162,
   "id": "d725d7af",
   "metadata": {},
   "outputs": [
    {
     "data": {
      "text/plain": [
       "'fl'"
      ]
     },
     "execution_count": 162,
     "metadata": {},
     "output_type": "execute_result"
    }
   ],
   "source": [
    "strs = [\"flower\", \"flow\", \"flight\"]\n",
    "result = longest_common_prefix(strs)\n",
    "result"
   ]
  },
  {
   "cell_type": "markdown",
   "id": "de87321b",
   "metadata": {},
   "source": [
    "## 35. Write a program to check if a given number is a perfect square."
   ]
  },
  {
   "cell_type": "code",
   "execution_count": 163,
   "id": "bc1c3b34",
   "metadata": {},
   "outputs": [],
   "source": [
    "def is_perfect_square(num):\n",
    "    if num < 0:\n",
    "        return False\n",
    "\n",
    "    if num == 0 or num == 1:\n",
    "        return True\n",
    "\n",
    "    guess = num // 2\n",
    "\n",
    "    while guess * guess > num:\n",
    "        guess = (guess + num // guess) // 2\n",
    "\n",
    "    return guess * guess == num\n"
   ]
  },
  {
   "cell_type": "code",
   "execution_count": 164,
   "id": "172c458b",
   "metadata": {},
   "outputs": [
    {
     "data": {
      "text/plain": [
       "False"
      ]
     },
     "execution_count": 164,
     "metadata": {},
     "output_type": "execute_result"
    }
   ],
   "source": [
    "is_perfect_square(2)"
   ]
  },
  {
   "cell_type": "code",
   "execution_count": 167,
   "id": "dc889a99",
   "metadata": {},
   "outputs": [
    {
     "data": {
      "text/plain": [
       "True"
      ]
     },
     "execution_count": 167,
     "metadata": {},
     "output_type": "execute_result"
    }
   ],
   "source": [
    "is_perfect_square(4)"
   ]
  },
  {
   "cell_type": "markdown",
   "id": "3bf3e1bb",
   "metadata": {},
   "source": [
    "## 36. Implement a function to calculate the product of all elements in a list."
   ]
  },
  {
   "cell_type": "code",
   "execution_count": 168,
   "id": "003db350",
   "metadata": {},
   "outputs": [],
   "source": [
    "def pro_list(arr):\n",
    "    prd = 1\n",
    "    for i in arr:\n",
    "        prd *= i\n",
    "    return prd    "
   ]
  },
  {
   "cell_type": "code",
   "execution_count": 169,
   "id": "9bdfc31f",
   "metadata": {},
   "outputs": [
    {
     "data": {
      "text/plain": [
       "120"
      ]
     },
     "execution_count": 169,
     "metadata": {},
     "output_type": "execute_result"
    }
   ],
   "source": [
    "pro_list([1,2,3,4,5])"
   ]
  },
  {
   "cell_type": "markdown",
   "id": "7c041492",
   "metadata": {},
   "source": [
    "## 37. Write a Python program to reverse the order of words in a sentence while preserving the word order."
   ]
  },
  {
   "cell_type": "code",
   "execution_count": 170,
   "id": "d5b8c724",
   "metadata": {},
   "outputs": [],
   "source": [
    "def reverse_sentence(sentence):\n",
    "    \n",
    "    words = sentence.split()\n",
    "    reversed_words = words[::-1]\n",
    "    reversed_sentence = ' '.join(reversed_words)\n",
    "\n",
    "    return reversed_sentence\n"
   ]
  },
  {
   "cell_type": "code",
   "execution_count": 171,
   "id": "6030c0c3",
   "metadata": {},
   "outputs": [
    {
     "data": {
      "text/plain": [
       "'today? you are how Hello,'"
      ]
     },
     "execution_count": 171,
     "metadata": {},
     "output_type": "execute_result"
    }
   ],
   "source": [
    "sentence = \"Hello, how are you today?\"\n",
    "result = reverse_sentence(sentence)\n",
    "result"
   ]
  },
  {
   "cell_type": "markdown",
   "id": "24b9df92",
   "metadata": {},
   "source": [
    "## 38. Implement a function to find the missing number in a given list of consecutive numbers"
   ]
  },
  {
   "cell_type": "code",
   "execution_count": 172,
   "id": "8aaa345e",
   "metadata": {},
   "outputs": [],
   "source": [
    "def find_missing_number(nums):\n",
    "    n = len(nums) + 1 \n",
    "    expected_sum = n * (n + 1) // 2  \n",
    "    actual_sum = sum(nums)  \n",
    "\n",
    "    missing_number = expected_sum - actual_sum\n",
    "    return missing_number\n"
   ]
  },
  {
   "cell_type": "code",
   "execution_count": 174,
   "id": "a99ae8ae",
   "metadata": {},
   "outputs": [
    {
     "name": "stdout",
     "output_type": "stream",
     "text": [
      "4\n"
     ]
    }
   ],
   "source": [
    "nums = [1, 2, 3, 5, 6, 7, 8]\n",
    "result = find_missing_number(nums)\n",
    "print(result)"
   ]
  },
  {
   "cell_type": "markdown",
   "id": "5dd58528",
   "metadata": {},
   "source": [
    "## 39. Write a program to find the sum of digits of a given number."
   ]
  },
  {
   "cell_type": "code",
   "execution_count": 175,
   "id": "fa103aaa",
   "metadata": {},
   "outputs": [],
   "source": [
    "def sum_of_digits(number):\n",
    "    num_str = str(number)\n",
    "    digit_sum = 0\n",
    "    for digit in num_str:\n",
    "        digit_sum += int(digit)\n",
    "\n",
    "    return digit_sum\n"
   ]
  },
  {
   "cell_type": "code",
   "execution_count": 176,
   "id": "1914f4f9",
   "metadata": {},
   "outputs": [
    {
     "data": {
      "text/plain": [
       "15"
      ]
     },
     "execution_count": 176,
     "metadata": {},
     "output_type": "execute_result"
    }
   ],
   "source": [
    "number = 12345\n",
    "result = sum_of_digits(number)\n",
    "result\n"
   ]
  },
  {
   "cell_type": "markdown",
   "id": "1af1fa4e",
   "metadata": {},
   "source": [
    "## 40. Implement a function to check if a given string is a valid palindrome considering case sensitivity.\n"
   ]
  },
  {
   "cell_type": "code",
   "execution_count": 177,
   "id": "52f5fe69",
   "metadata": {},
   "outputs": [],
   "source": [
    "def is_valid_palindrome(string):\n",
    "    reversed_string = string[::-1]  \n",
    "\n",
    "    return string == reversed_string"
   ]
  },
  {
   "cell_type": "code",
   "execution_count": 179,
   "id": "8626e835",
   "metadata": {},
   "outputs": [
    {
     "name": "stdout",
     "output_type": "stream",
     "text": [
      "False\n"
     ]
    }
   ],
   "source": [
    "string = \"Madam\"\n",
    "result = is_valid_palindrome(string)\n",
    "print(result)  "
   ]
  },
  {
   "cell_type": "markdown",
   "id": "71dc7512",
   "metadata": {},
   "source": [
    "## 41. Write a Python program to find the smallest missing positive integer in a list."
   ]
  },
  {
   "cell_type": "code",
   "execution_count": 180,
   "id": "6a5aac4c",
   "metadata": {},
   "outputs": [],
   "source": [
    "def find_smallest_missing_positive(nums):\n",
    "    n = len(nums)\n",
    "    i = 0\n",
    "    for j in range(n):\n",
    "        if nums[j] > 0:\n",
    "            nums[i], nums[j] = nums[j], nums[i]\n",
    "            i += 1\n",
    "\n",
    "    for j in range(i):\n",
    "        num = abs(nums[j])\n",
    "        if num <= i:\n",
    "            nums[num-1] = -abs(nums[num-1])\n",
    "\n",
    "    for j in range(i):\n",
    "        if nums[j] > 0:\n",
    "            return j + 1\n",
    "\n",
    "    return i + 1\n"
   ]
  },
  {
   "cell_type": "code",
   "execution_count": 181,
   "id": "c4148fd6",
   "metadata": {},
   "outputs": [
    {
     "data": {
      "text/plain": [
       "2"
      ]
     },
     "execution_count": 181,
     "metadata": {},
     "output_type": "execute_result"
    }
   ],
   "source": [
    "nums = [3, 4, -1, 1]\n",
    "result = find_smallest_missing_positive(nums)\n",
    "result"
   ]
  },
  {
   "cell_type": "markdown",
   "id": "cfe32f3a",
   "metadata": {},
   "source": [
    "## 42. Implement a function to find the longest palindrome substring in a given string."
   ]
  },
  {
   "cell_type": "code",
   "execution_count": 182,
   "id": "eba35579",
   "metadata": {},
   "outputs": [],
   "source": [
    "def longest_palindrome(s):\n",
    "    n = len(s)\n",
    "    longest_palindrome = \"\"\n",
    "    dp = [[False] * n for _ in range(n)]\n",
    "\n",
    "    for i in range(n):\n",
    "        dp[i][i] = True\n",
    "        longest_palindrome = s[i]\n",
    "\n",
    "    for length in range(2, n + 1):\n",
    "        for i in range(n - length + 1):\n",
    "            j = i + length - 1\n",
    "            if s[i] == s[j]:\n",
    "                if length == 2 or dp[i + 1][j - 1]:\n",
    "                    dp[i][j] = True\n",
    "                    if length > len(longest_palindrome):\n",
    "                        longest_palindrome = s[i : j + 1]\n",
    "\n",
    "    return longest_palindrome\n"
   ]
  },
  {
   "cell_type": "code",
   "execution_count": 183,
   "id": "27dd5f6a",
   "metadata": {},
   "outputs": [
    {
     "data": {
      "text/plain": [
       "'bab'"
      ]
     },
     "execution_count": 183,
     "metadata": {},
     "output_type": "execute_result"
    }
   ],
   "source": [
    "string = \"babad\"\n",
    "result = longest_palindrome(string)\n",
    "result\n"
   ]
  },
  {
   "cell_type": "markdown",
   "id": "fef1c5a5",
   "metadata": {},
   "source": [
    "## 43. Write a program to find the number of occurrences of a given element in a list."
   ]
  },
  {
   "cell_type": "code",
   "execution_count": 184,
   "id": "af227f0f",
   "metadata": {},
   "outputs": [],
   "source": [
    "def count_occurrences(lst, element):\n",
    "    count = 0\n",
    "\n",
    "    for item in lst:\n",
    "        if item == element:\n",
    "            count += 1\n",
    "\n",
    "    return count\n"
   ]
  },
  {
   "cell_type": "code",
   "execution_count": 185,
   "id": "d5d01443",
   "metadata": {},
   "outputs": [
    {
     "data": {
      "text/plain": [
       "3"
      ]
     },
     "execution_count": 185,
     "metadata": {},
     "output_type": "execute_result"
    }
   ],
   "source": [
    "lst = [1, 2, 3, 2, 4, 2, 5]\n",
    "element = 2\n",
    "result = count_occurrences(lst, element)\n",
    "result"
   ]
  },
  {
   "cell_type": "markdown",
   "id": "54dcee29",
   "metadata": {},
   "source": [
    "## 44. Implement a function to check if a given number is a perfect number."
   ]
  },
  {
   "cell_type": "code",
   "execution_count": 186,
   "id": "705b4501",
   "metadata": {},
   "outputs": [],
   "source": [
    "def is_perfect_number(number):\n",
    "    if number <= 0:\n",
    "        return False\n",
    "\n",
    "    divisors_sum = sum(divisor for divisor in range(1, number) if number % divisor == 0)\n",
    "\n",
    "    return divisors_sum == number\n"
   ]
  },
  {
   "cell_type": "code",
   "execution_count": 188,
   "id": "b04f3b88",
   "metadata": {},
   "outputs": [
    {
     "data": {
      "text/plain": [
       "True"
      ]
     },
     "execution_count": 188,
     "metadata": {},
     "output_type": "execute_result"
    }
   ],
   "source": [
    "number = 28\n",
    "result = is_perfect_number(number)\n",
    "result"
   ]
  },
  {
   "cell_type": "markdown",
   "id": "15fcc0e1",
   "metadata": {},
   "source": [
    "## 45. Write a Python program to remove all duplicates from a string."
   ]
  },
  {
   "cell_type": "code",
   "execution_count": 189,
   "id": "4cec8fe2",
   "metadata": {},
   "outputs": [],
   "source": [
    "def remove_duplicates(string):\n",
    "    unique_chars = \"\"\n",
    "    seen_chars = set()\n",
    "\n",
    "    for char in string:\n",
    "        if char not in seen_chars:\n",
    "            unique_chars += char\n",
    "            seen_chars.add(char)\n",
    "\n",
    "    return unique_chars\n"
   ]
  },
  {
   "cell_type": "code",
   "execution_count": 190,
   "id": "ab083cf4",
   "metadata": {},
   "outputs": [
    {
     "data": {
      "text/plain": [
       "'helo'"
      ]
     },
     "execution_count": 190,
     "metadata": {},
     "output_type": "execute_result"
    }
   ],
   "source": [
    "string = \"hello\"\n",
    "result = remove_duplicates(string)\n",
    "result"
   ]
  },
  {
   "cell_type": "markdown",
   "id": "907428bf",
   "metadata": {},
   "source": [
    "## 46. Implement a function to find the first missing positive"
   ]
  },
  {
   "cell_type": "code",
   "execution_count": 192,
   "id": "641e7dee",
   "metadata": {},
   "outputs": [],
   "source": [
    "def find_first_missing_positive(nums):\n",
    "    n = len(nums)\n",
    "    i = 0\n",
    "\n",
    "    for j in range(n):\n",
    "        if nums[j] > 0:\n",
    "            nums[i], nums[j] = nums[j], nums[i]\n",
    "            i += 1\n",
    "\n",
    "    for j in range(i):\n",
    "        num = abs(nums[j])\n",
    "        if num <= i:\n",
    "            nums[num - 1] = -abs(nums[num - 1])\n",
    "\n",
    "    for j in range(i):\n",
    "        if nums[j] > 0:\n",
    "            return j + 1\n",
    "\n",
    "    return i + 1\n"
   ]
  },
  {
   "cell_type": "code",
   "execution_count": 193,
   "id": "dfb85672",
   "metadata": {},
   "outputs": [
    {
     "data": {
      "text/plain": [
       "2"
      ]
     },
     "execution_count": 193,
     "metadata": {},
     "output_type": "execute_result"
    }
   ],
   "source": [
    "nums = [3, 4, -1, 1]\n",
    "result = find_first_missing_positive(nums)\n",
    "result"
   ]
  },
  {
   "cell_type": "code",
   "execution_count": null,
   "id": "d9aff5b4",
   "metadata": {},
   "outputs": [],
   "source": []
  },
  {
   "cell_type": "code",
   "execution_count": null,
   "id": "ba5941de",
   "metadata": {},
   "outputs": [],
   "source": []
  },
  {
   "cell_type": "code",
   "execution_count": null,
   "id": "2a5dc4dc",
   "metadata": {},
   "outputs": [],
   "source": []
  },
  {
   "cell_type": "code",
   "execution_count": null,
   "id": "09ca7a11",
   "metadata": {},
   "outputs": [],
   "source": []
  },
  {
   "cell_type": "code",
   "execution_count": null,
   "id": "31504f2a",
   "metadata": {},
   "outputs": [],
   "source": []
  }
 ],
 "metadata": {
  "kernelspec": {
   "display_name": "Python 3 (ipykernel)",
   "language": "python",
   "name": "python3"
  },
  "language_info": {
   "codemirror_mode": {
    "name": "ipython",
    "version": 3
   },
   "file_extension": ".py",
   "mimetype": "text/x-python",
   "name": "python",
   "nbconvert_exporter": "python",
   "pygments_lexer": "ipython3",
   "version": "3.10.9"
  }
 },
 "nbformat": 4,
 "nbformat_minor": 5
}
