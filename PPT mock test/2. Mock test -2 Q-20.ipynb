{
 "cells": [
  {
   "cell_type": "markdown",
   "id": "334a29e1",
   "metadata": {},
   "source": [
    "## 20. Write a function called ‘perform_hypothesis_test’ that takes two lists of numbers as input, representing two samples. The function should perform a two-sample t-test and return the p-value. Use the ‘scipy.stats’ module in Python to calculate the t-test and p-value.\n",
    "\n"
   ]
  },
  {
   "cell_type": "raw",
   "id": "be02db31",
   "metadata": {},
   "source": [
    "Example:\n",
    "\n",
    "from scipy import stats\n",
    "\n",
    "def perform_hypothesis_test(sample1, sample2):\n",
    "    t_statistic, p_value = stats.ttest_ind(sample1, sample2)\n",
    "    return p_value\n",
    "\n",
    "sample1 = [5, 10, 15, 20, 25]\n",
    "sample2 = [10, 20, 30, 40, 50]\n",
    "p_value = perform_hypothesis_test(sample1, sample2)\n",
    "print(\"P-value:\", p_value)\n",
    "\n",
    "Output:\n",
    "P-value: 0.1064706396450037"
   ]
  },
  {
   "cell_type": "markdown",
   "id": "5dbc4874",
   "metadata": {},
   "source": [
    "## Solution"
   ]
  },
  {
   "cell_type": "code",
   "execution_count": 1,
   "id": "b817247c",
   "metadata": {},
   "outputs": [],
   "source": [
    "import math\n",
    "\n",
    "class TwoSampleTTest:\n",
    "    def __init__(self, sample1, sample2):\n",
    "        self.sample1 = sample1\n",
    "        self.sample2 = sample2\n",
    "        self.mean1 = self.calculate_mean(sample1)\n",
    "        self.mean2 = self.calculate_mean(sample2)\n",
    "        self.variance1 = self.calculate_variance(sample1, self.mean1)\n",
    "        self.variance2 = self.calculate_variance(sample2, self.mean2)\n",
    "        self.n1 = len(sample1)\n",
    "        self.n2 = len(sample2)\n",
    "        self.pooled_variance = self.calculate_pooled_variance()\n",
    "        self.t_statistic = self.calculate_t_statistic()\n",
    "        self.degrees_of_freedom = self.n1 + self.n2 - 2\n",
    "        self.p_value = self.calculate_p_value()\n",
    "\n",
    "    def calculate_mean(self, sample):\n",
    "        total = sum(sample)\n",
    "        count = len(sample)\n",
    "        mean = total / count\n",
    "        return mean\n",
    "\n",
    "    def calculate_variance(self, sample, mean):\n",
    "        variance = sum((x - mean) ** 2 for x in sample) / len(sample)\n",
    "        return variance\n",
    "\n",
    "    def calculate_pooled_variance(self):\n",
    "        pooled_variance = ((self.n1 - 1) * self.variance1 + (self.n2 - 1) * self.variance2) / (self.n1 + self.n2 - 2)\n",
    "        return pooled_variance\n",
    "\n",
    "    def calculate_t_statistic(self):\n",
    "        t_statistic = (self.mean1 - self.mean2) / math.sqrt(self.pooled_variance * ((1 / self.n1) + (1 / self.n2)))\n",
    "        return t_statistic\n",
    "\n",
    "    def calculate_p_value(self):\n",
    "        p_value = (1 - self.t_cdf(abs(self.t_statistic), self.degrees_of_freedom)) * 2\n",
    "        return p_value\n",
    "\n",
    "    def t_cdf(self, x, df):\n",
    "        t = self.t(x, df)\n",
    "        return 0.5 * (1 + math.erf(t / math.sqrt(2)))\n",
    "\n",
    "    def t(self, x, df):\n",
    "        return x / math.sqrt(df)\n",
    "\n"
   ]
  },
  {
   "cell_type": "code",
   "execution_count": 2,
   "id": "99fc98c7",
   "metadata": {},
   "outputs": [
    {
     "name": "stdout",
     "output_type": "stream",
     "text": [
      "P-value: 0.4532547047537365\n"
     ]
    }
   ],
   "source": [
    "sample1 = [5, 10, 15, 20, 25]\n",
    "sample2 = [10, 20, 30, 40, 50]\n",
    "t_test = TwoSampleTTest(sample1, sample2)\n",
    "print(\"P-value:\", t_test.p_value)"
   ]
  },
  {
   "cell_type": "code",
   "execution_count": null,
   "id": "32fabd33",
   "metadata": {},
   "outputs": [],
   "source": []
  }
 ],
 "metadata": {
  "kernelspec": {
   "display_name": "Python 3 (ipykernel)",
   "language": "python",
   "name": "python3"
  },
  "language_info": {
   "codemirror_mode": {
    "name": "ipython",
    "version": 3
   },
   "file_extension": ".py",
   "mimetype": "text/x-python",
   "name": "python",
   "nbconvert_exporter": "python",
   "pygments_lexer": "ipython3",
   "version": "3.10.9"
  }
 },
 "nbformat": 4,
 "nbformat_minor": 5
}
