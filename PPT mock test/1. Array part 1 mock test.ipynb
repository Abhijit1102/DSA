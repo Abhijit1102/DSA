{
 "cells": [
  {
   "cell_type": "markdown",
   "id": "c514fc5f",
   "metadata": {},
   "source": [
    "## Move Zeroes\n",
    "## Given an integer array nums, move all 0's to the end of it while maintaining the relative order of the non-zero elements.\n",
    "\n",
    "## Note that you must do this in-place without making a copy of the array.\n",
    "\n",
    "## Example 1:\n",
    "- Input: nums = [0,1,0,3,12]\n",
    "- Output: [1,3,12,0,0]\n",
    "\n",
    "## Example 2:\n",
    "- Input: nums = [0]\n",
    "- Output: [0]\n",
    "\n",
    "## Constraints:\n",
    "- a. 1 <= nums.length <= 10^4\n",
    "- b. -2^31 <= nums[i] <= 2^31 - 1"
   ]
  },
  {
   "cell_type": "code",
   "execution_count": 2,
   "id": "32c1605c",
   "metadata": {},
   "outputs": [],
   "source": [
    "def moveZeroes(nums):\n",
    "    left = right = 0\n",
    "\n",
    "    while right < len(nums):\n",
    "        if nums[right] != 0:\n",
    "            nums[left], nums[right] = nums[right], nums[left]\n",
    "            left += 1\n",
    "        right += 1\n",
    "\n",
    "    while left < len(nums):\n",
    "        nums[left] = 0\n",
    "        left += 1\n",
    "\n",
    "    return nums\n"
   ]
  },
  {
   "cell_type": "code",
   "execution_count": 3,
   "id": "8f8a3c51",
   "metadata": {},
   "outputs": [
    {
     "name": "stdout",
     "output_type": "stream",
     "text": [
      "[1, 3, 12, 0, 0]\n"
     ]
    }
   ],
   "source": [
    "nums = [0, 1, 0, 3, 12]\n",
    "print(moveZeroes(nums))\n"
   ]
  },
  {
   "cell_type": "markdown",
   "id": "16542b40",
   "metadata": {},
   "source": [
    "## First Unique Character in a String\n",
    "\n",
    "## Given a string s, find the first non-repeating character in it and return its index. If it does not exist, return -1.\n",
    "\n",
    "## Example 1:\n",
    "- Input: s = \"leetcode\"\n",
    "- Output: 0\n",
    "\n",
    "## Example 2:\n",
    "- Input: s = \"loveleetcode\"\n",
    "- Output: 2\n",
    "\n",
    "## Example 3:\n",
    "- Input: s = \"aabb\"\n",
    "- Output: -1\n",
    "\n",
    "## Constraints:\n",
    "- a. 1 <= s.length <= 10^5\n",
    "- b. s consists of only lowercase English letters."
   ]
  },
  {
   "cell_type": "code",
   "execution_count": 4,
   "id": "97f689e6",
   "metadata": {},
   "outputs": [],
   "source": [
    "def firstUniqChar(s):\n",
    "    char_count = {}\n",
    "\n",
    "    # Count occurrences of each character\n",
    "    for char in s:\n",
    "        char_count[char] = char_count.get(char, 0) + 1\n",
    "\n",
    "    # Find first non-repeating character\n",
    "    for i, char in enumerate(s):\n",
    "        if char_count[char] == 1:\n",
    "            return i\n",
    "\n",
    "    return -1\n"
   ]
  },
  {
   "cell_type": "code",
   "execution_count": 5,
   "id": "2ff8d4cf",
   "metadata": {},
   "outputs": [
    {
     "name": "stdout",
     "output_type": "stream",
     "text": [
      "0\n"
     ]
    }
   ],
   "source": [
    "s = \"leetcode\"\n",
    "print(firstUniqChar(s))"
   ]
  },
  {
   "cell_type": "code",
   "execution_count": 6,
   "id": "ff6a6136",
   "metadata": {},
   "outputs": [
    {
     "name": "stdout",
     "output_type": "stream",
     "text": [
      "2\n"
     ]
    }
   ],
   "source": [
    "s = \"loveleetcode\"\n",
    "print(firstUniqChar(s))\n"
   ]
  },
  {
   "cell_type": "code",
   "execution_count": 7,
   "id": "5b9c8eb5",
   "metadata": {},
   "outputs": [
    {
     "name": "stdout",
     "output_type": "stream",
     "text": [
      "-1\n"
     ]
    }
   ],
   "source": [
    "s = \"aabb\"\n",
    "print(firstUniqChar(s))\n"
   ]
  },
  {
   "cell_type": "code",
   "execution_count": null,
   "id": "1636ee81",
   "metadata": {},
   "outputs": [],
   "source": []
  },
  {
   "cell_type": "code",
   "execution_count": null,
   "id": "6914ef1c",
   "metadata": {},
   "outputs": [],
   "source": []
  }
 ],
 "metadata": {
  "kernelspec": {
   "display_name": "Python 3 (ipykernel)",
   "language": "python",
   "name": "python3"
  },
  "language_info": {
   "codemirror_mode": {
    "name": "ipython",
    "version": 3
   },
   "file_extension": ".py",
   "mimetype": "text/x-python",
   "name": "python",
   "nbconvert_exporter": "python",
   "pygments_lexer": "ipython3",
   "version": "3.10.9"
  }
 },
 "nbformat": 4,
 "nbformat_minor": 5
}
