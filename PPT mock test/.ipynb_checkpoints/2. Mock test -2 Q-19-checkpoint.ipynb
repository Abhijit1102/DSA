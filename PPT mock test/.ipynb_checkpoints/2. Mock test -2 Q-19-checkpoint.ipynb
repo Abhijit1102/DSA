{
 "cells": [
  {
   "cell_type": "markdown",
   "id": "5604b279",
   "metadata": {},
   "source": [
    "## 19. Write a function called ‘calculate_mean’ that takes a list of numbers as input and returns the mean (average) of the numbers. The function should calculate the mean using the sum of the numbers divided by the total count.\n",
    "\n",
    "## Example:\n",
    "\n"
   ]
  },
  {
   "cell_type": "raw",
   "id": "f80a6fe1",
   "metadata": {},
   "source": [
    "def calculate_mean(numbers):\n",
    "    total = sum(numbers)\n",
    "    count = len(numbers)\n",
    "    mean = total / count\n",
    "    return mean\n",
    "\n",
    "data = [10, 15, 20, 25, 30]\n",
    "mean_value = calculate_mean(data)\n",
    "print(\"Mean:\", mean_value)\n",
    "\n",
    "Output:\n",
    "Mean: 20.0"
   ]
  },
  {
   "cell_type": "code",
   "execution_count": 2,
   "id": "fdf08f1c",
   "metadata": {},
   "outputs": [
    {
     "name": "stdout",
     "output_type": "stream",
     "text": [
      "Mean: 20.0\n"
     ]
    }
   ],
   "source": [
    "class MeanCalculator:\n",
    "    def __init__(self, numbers):\n",
    "        self.numbers = numbers\n",
    "\n",
    "    def calculate_mean(self):\n",
    "        total = sum(self.numbers)\n",
    "        count = len(self.numbers)\n",
    "        mean = total / count\n",
    "        return mean\n",
    "\n",
    "\n",
    "data = [10, 15, 20, 25, 30]\n",
    "mean_calculator = MeanCalculator(data)\n",
    "mean_value = mean_calculator.calculate_mean()\n",
    "print(\"Mean:\", mean_value)\n"
   ]
  },
  {
   "cell_type": "code",
   "execution_count": null,
   "id": "e06c8398",
   "metadata": {},
   "outputs": [],
   "source": []
  }
 ],
 "metadata": {
  "kernelspec": {
   "display_name": "Python 3 (ipykernel)",
   "language": "python",
   "name": "python3"
  },
  "language_info": {
   "codemirror_mode": {
    "name": "ipython",
    "version": 3
   },
   "file_extension": ".py",
   "mimetype": "text/x-python",
   "name": "python",
   "nbconvert_exporter": "python",
   "pygments_lexer": "ipython3",
   "version": "3.10.9"
  }
 },
 "nbformat": 4,
 "nbformat_minor": 5
}
