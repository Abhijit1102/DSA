{
 "cells": [
  {
   "cell_type": "markdown",
   "id": "5a5da584",
   "metadata": {},
   "source": [
    "## 17. Write a function that takes a list of numbers as input and returns a new list containing only the even numbers from the input list. Use list comprehension to solve this problem.\n",
    "\n",
    "## Example:\n",
    "\n",
    "- Input: [1, 2, 3, 4, 5, 6, 7, 8, 9, 10]\n",
    "\n",
    "- Output: [2, 4, 6, 8, 10] :10 points\n"
   ]
  },
  {
   "cell_type": "code",
   "execution_count": 5,
   "id": "a2d16d8c",
   "metadata": {},
   "outputs": [],
   "source": [
    "class EvenNumberFilter:\n",
    "    def __init__(self, input_list):\n",
    "        self.input_list = input_list\n",
    "        self.even_numbers = []\n",
    "\n",
    "    def filter_even_numbers(self):\n",
    "        for num in self.input_list:\n",
    "            if num % 2 == 0:\n",
    "                self.even_numbers.append(num)\n",
    "\n",
    "    def get_even_numbers(self):\n",
    "        return self.even_numbers\n"
   ]
  },
  {
   "cell_type": "code",
   "execution_count": 7,
   "id": "7e9a05ca",
   "metadata": {},
   "outputs": [
    {
     "name": "stdout",
     "output_type": "stream",
     "text": [
      "[2, 4, 6, 8, 10]\n"
     ]
    }
   ],
   "source": [
    "input_list = [1, 2, 3, 4, 5, 6, 7, 8, 9, 10]\n",
    "\n",
    "obj = EvenNumberFilter(input_list)\n",
    "\n",
    "obj.filter_even_numbers()\n",
    "\n",
    "output_list = obj.get_even_numbers()\n",
    "print(output_list)"
   ]
  },
  {
   "cell_type": "code",
   "execution_count": null,
   "id": "a893abc7",
   "metadata": {},
   "outputs": [],
   "source": []
  }
 ],
 "metadata": {
  "kernelspec": {
   "display_name": "Python 3 (ipykernel)",
   "language": "python",
   "name": "python3"
  },
  "language_info": {
   "codemirror_mode": {
    "name": "ipython",
    "version": 3
   },
   "file_extension": ".py",
   "mimetype": "text/x-python",
   "name": "python",
   "nbconvert_exporter": "python",
   "pygments_lexer": "ipython3",
   "version": "3.10.9"
  }
 },
 "nbformat": 4,
 "nbformat_minor": 5
}
