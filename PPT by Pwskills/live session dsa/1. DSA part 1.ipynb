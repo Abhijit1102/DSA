{
 "cells": [
  {
   "cell_type": "markdown",
   "id": "9afc40f9",
   "metadata": {},
   "source": [
    "## Impact of Data Science"
   ]
  },
  {
   "cell_type": "markdown",
   "id": "daebeaa8",
   "metadata": {},
   "source": [
    "- 1. `Decision Making`\n",
    "- 2. `Optimise the business`\n",
    "- 3. `Predictive Analysis`\n",
    "  - w.r.t `Research` `Healthcare` `Finance` `Socio problem`"
   ]
  },
  {
   "cell_type": "markdown",
   "id": "74ef379c",
   "metadata": {},
   "source": [
    "## AI vs DS vs Ml vs Dl"
   ]
  },
  {
   "cell_type": "code",
   "execution_count": null,
   "id": "5e36834b",
   "metadata": {},
   "outputs": [],
   "source": []
  },
  {
   "cell_type": "markdown",
   "id": "c2bfa47d",
   "metadata": {},
   "source": [
    "## Generic Architecture of DS project\n"
   ]
  },
  {
   "cell_type": "code",
   "execution_count": null,
   "id": "606d9987",
   "metadata": {},
   "outputs": [],
   "source": []
  },
  {
   "cell_type": "code",
   "execution_count": null,
   "id": "0a60f264",
   "metadata": {},
   "outputs": [],
   "source": []
  },
  {
   "cell_type": "code",
   "execution_count": null,
   "id": "89fb5761",
   "metadata": {},
   "outputs": [],
   "source": []
  },
  {
   "cell_type": "code",
   "execution_count": null,
   "id": "69501a52",
   "metadata": {},
   "outputs": [],
   "source": []
  },
  {
   "cell_type": "code",
   "execution_count": null,
   "id": "9e5e9afb",
   "metadata": {},
   "outputs": [],
   "source": []
  },
  {
   "cell_type": "code",
   "execution_count": null,
   "id": "a0ddf0d8",
   "metadata": {},
   "outputs": [],
   "source": []
  },
  {
   "cell_type": "code",
   "execution_count": null,
   "id": "3b7c5092",
   "metadata": {},
   "outputs": [],
   "source": []
  },
  {
   "cell_type": "code",
   "execution_count": null,
   "id": "22b517b9",
   "metadata": {},
   "outputs": [],
   "source": []
  }
 ],
 "metadata": {
  "kernelspec": {
   "display_name": "Python 3 (ipykernel)",
   "language": "python",
   "name": "python3"
  },
  "language_info": {
   "codemirror_mode": {
    "name": "ipython",
    "version": 3
   },
   "file_extension": ".py",
   "mimetype": "text/x-python",
   "name": "python",
   "nbconvert_exporter": "python",
   "pygments_lexer": "ipython3",
   "version": "3.10.9"
  }
 },
 "nbformat": 4,
 "nbformat_minor": 5
}
