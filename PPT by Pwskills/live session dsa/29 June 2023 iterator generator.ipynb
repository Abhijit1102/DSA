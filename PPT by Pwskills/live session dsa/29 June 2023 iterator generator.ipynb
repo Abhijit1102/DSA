{
 "cells": [
  {
   "cell_type": "code",
   "execution_count": 3,
   "id": "62b7894c",
   "metadata": {},
   "outputs": [],
   "source": [
    "a = 1"
   ]
  },
  {
   "cell_type": "code",
   "execution_count": 5,
   "id": "b9aedcc9",
   "metadata": {},
   "outputs": [
    {
     "ename": "TypeError",
     "evalue": "'int' object is not iterable",
     "output_type": "error",
     "traceback": [
      "\u001b[1;31m---------------------------------------------------------------------------\u001b[0m",
      "\u001b[1;31mTypeError\u001b[0m                                 Traceback (most recent call last)",
      "\u001b[1;32m~\\AppData\\Local\\Temp\\ipykernel_3120\\3114545233.py\u001b[0m in \u001b[0;36m<cell line: 1>\u001b[1;34m()\u001b[0m\n\u001b[1;32m----> 1\u001b[1;33m \u001b[1;32mfor\u001b[0m \u001b[0mi\u001b[0m \u001b[1;32min\u001b[0m \u001b[0ma\u001b[0m\u001b[1;33m:\u001b[0m\u001b[1;33m\u001b[0m\u001b[1;33m\u001b[0m\u001b[0m\n\u001b[0m\u001b[0;32m      2\u001b[0m     \u001b[0mprint\u001b[0m\u001b[1;33m(\u001b[0m\u001b[0mi\u001b[0m\u001b[1;33m)\u001b[0m\u001b[1;33m\u001b[0m\u001b[1;33m\u001b[0m\u001b[0m\n",
      "\u001b[1;31mTypeError\u001b[0m: 'int' object is not iterable"
     ]
    }
   ],
   "source": [
    "for i in a:\n",
    "    print(i)"
   ]
  },
  {
   "cell_type": "code",
   "execution_count": 15,
   "id": "5b9d3dd7",
   "metadata": {},
   "outputs": [
    {
     "data": {
      "text/plain": [
       "['__abs__',\n",
       " '__add__',\n",
       " '__and__',\n",
       " '__bool__',\n",
       " '__ceil__',\n",
       " '__class__',\n",
       " '__delattr__',\n",
       " '__dir__',\n",
       " '__divmod__',\n",
       " '__doc__',\n",
       " '__eq__',\n",
       " '__float__',\n",
       " '__floor__',\n",
       " '__floordiv__',\n",
       " '__format__',\n",
       " '__ge__',\n",
       " '__getattribute__',\n",
       " '__getnewargs__',\n",
       " '__gt__',\n",
       " '__hash__',\n",
       " '__index__',\n",
       " '__init__',\n",
       " '__init_subclass__',\n",
       " '__int__',\n",
       " '__invert__',\n",
       " '__le__',\n",
       " '__lshift__',\n",
       " '__lt__',\n",
       " '__mod__',\n",
       " '__mul__',\n",
       " '__ne__',\n",
       " '__neg__',\n",
       " '__new__',\n",
       " '__or__',\n",
       " '__pos__',\n",
       " '__pow__',\n",
       " '__radd__',\n",
       " '__rand__',\n",
       " '__rdivmod__',\n",
       " '__reduce__',\n",
       " '__reduce_ex__',\n",
       " '__repr__',\n",
       " '__rfloordiv__',\n",
       " '__rlshift__',\n",
       " '__rmod__',\n",
       " '__rmul__',\n",
       " '__ror__',\n",
       " '__round__',\n",
       " '__rpow__',\n",
       " '__rrshift__',\n",
       " '__rshift__',\n",
       " '__rsub__',\n",
       " '__rtruediv__',\n",
       " '__rxor__',\n",
       " '__setattr__',\n",
       " '__sizeof__',\n",
       " '__str__',\n",
       " '__sub__',\n",
       " '__subclasshook__',\n",
       " '__truediv__',\n",
       " '__trunc__',\n",
       " '__xor__',\n",
       " 'as_integer_ratio',\n",
       " 'bit_count',\n",
       " 'bit_length',\n",
       " 'conjugate',\n",
       " 'denominator',\n",
       " 'from_bytes',\n",
       " 'imag',\n",
       " 'numerator',\n",
       " 'real',\n",
       " 'to_bytes']"
      ]
     },
     "execution_count": 15,
     "metadata": {},
     "output_type": "execute_result"
    }
   ],
   "source": [
    "dir(a)"
   ]
  },
  {
   "cell_type": "code",
   "execution_count": 11,
   "id": "09533d0c",
   "metadata": {},
   "outputs": [],
   "source": [
    "mylist = [1,2,3,4]"
   ]
  },
  {
   "cell_type": "code",
   "execution_count": 10,
   "id": "09acd6be",
   "metadata": {},
   "outputs": [
    {
     "name": "stdout",
     "output_type": "stream",
     "text": [
      "1\n",
      "2\n",
      "3\n",
      "4\n"
     ]
    }
   ],
   "source": [
    "for i in list:\n",
    "    print(i)"
   ]
  },
  {
   "cell_type": "code",
   "execution_count": null,
   "id": "d1f5f592",
   "metadata": {},
   "outputs": [],
   "source": [
    "# mylist-->iterable-->itrator-->iteration\n",
    "# mylist-->iteranle-->iter()"
   ]
  },
  {
   "cell_type": "code",
   "execution_count": 13,
   "id": "c2c4b9d9",
   "metadata": {},
   "outputs": [],
   "source": [
    "mylist = [1,2,3,4,5,6,7,8,9]"
   ]
  },
  {
   "cell_type": "code",
   "execution_count": 14,
   "id": "3dd61609",
   "metadata": {},
   "outputs": [
    {
     "data": {
      "text/plain": [
       "[1, 2, 3, 4, 5, 6, 7, 8, 9]"
      ]
     },
     "execution_count": 14,
     "metadata": {},
     "output_type": "execute_result"
    }
   ],
   "source": [
    "mylist"
   ]
  },
  {
   "cell_type": "code",
   "execution_count": 16,
   "id": "c110226f",
   "metadata": {},
   "outputs": [
    {
     "data": {
      "text/plain": [
       "<list_iterator at 0x1c66e824610>"
      ]
     },
     "execution_count": 16,
     "metadata": {},
     "output_type": "execute_result"
    }
   ],
   "source": [
    "iter(mylist)"
   ]
  },
  {
   "cell_type": "code",
   "execution_count": 17,
   "id": "90088b6e",
   "metadata": {},
   "outputs": [
    {
     "data": {
      "text/plain": [
       "['__class__',\n",
       " '__delattr__',\n",
       " '__dir__',\n",
       " '__doc__',\n",
       " '__eq__',\n",
       " '__format__',\n",
       " '__ge__',\n",
       " '__getattribute__',\n",
       " '__gt__',\n",
       " '__hash__',\n",
       " '__init__',\n",
       " '__init_subclass__',\n",
       " '__iter__',\n",
       " '__le__',\n",
       " '__length_hint__',\n",
       " '__lt__',\n",
       " '__ne__',\n",
       " '__new__',\n",
       " '__next__',\n",
       " '__reduce__',\n",
       " '__reduce_ex__',\n",
       " '__repr__',\n",
       " '__setattr__',\n",
       " '__setstate__',\n",
       " '__sizeof__',\n",
       " '__str__',\n",
       " '__subclasshook__']"
      ]
     },
     "execution_count": 17,
     "metadata": {},
     "output_type": "execute_result"
    }
   ],
   "source": [
    "dir(iter(mylist))"
   ]
  },
  {
   "cell_type": "code",
   "execution_count": 18,
   "id": "3f160be9",
   "metadata": {},
   "outputs": [],
   "source": [
    "obj = iter(mylist)"
   ]
  },
  {
   "cell_type": "code",
   "execution_count": 19,
   "id": "c8b4513e",
   "metadata": {},
   "outputs": [
    {
     "data": {
      "text/plain": [
       "1"
      ]
     },
     "execution_count": 19,
     "metadata": {},
     "output_type": "execute_result"
    }
   ],
   "source": [
    "next(obj)"
   ]
  },
  {
   "cell_type": "code",
   "execution_count": 20,
   "id": "2aefd2b9",
   "metadata": {},
   "outputs": [
    {
     "data": {
      "text/plain": [
       "2"
      ]
     },
     "execution_count": 20,
     "metadata": {},
     "output_type": "execute_result"
    }
   ],
   "source": [
    "next(obj)"
   ]
  },
  {
   "cell_type": "code",
   "execution_count": 26,
   "id": "a4a60e4e",
   "metadata": {},
   "outputs": [],
   "source": [
    "def my_for_loop(iterable):\n",
    "    iterator = iter(iterable)\n",
    "    while True:\n",
    "        try:\n",
    "            print(next(iterator))\n",
    "        except StopIteration:\n",
    "            break"
   ]
  },
  {
   "cell_type": "code",
   "execution_count": 30,
   "id": "6e24f89c",
   "metadata": {},
   "outputs": [],
   "source": [
    "my_list = [i for i in range(1,1000)]"
   ]
  },
  {
   "cell_type": "code",
   "execution_count": 36,
   "id": "fddf9b7d",
   "metadata": {},
   "outputs": [
    {
     "data": {
      "text/plain": [
       "8856"
      ]
     },
     "execution_count": 36,
     "metadata": {},
     "output_type": "execute_result"
    }
   ],
   "source": [
    "import sys\n",
    "sys.getsizeof(my_list)"
   ]
  },
  {
   "cell_type": "code",
   "execution_count": 41,
   "id": "978cb5ad",
   "metadata": {},
   "outputs": [],
   "source": [
    "## Range is example of iterater and next\n",
    "x = range(1,1001)"
   ]
  },
  {
   "cell_type": "code",
   "execution_count": null,
   "id": "f4b1f0e4",
   "metadata": {},
   "outputs": [],
   "source": [
    "## Define range function "
   ]
  },
  {
   "cell_type": "code",
   "execution_count": 115,
   "id": "827154fa",
   "metadata": {},
   "outputs": [],
   "source": [
    "def my_range(initiale, final):\n",
    "    while initiale == final:\n",
    "        initiate=+1\n",
    "        \n",
    "        print(initiale)\n",
    "    "
   ]
  },
  {
   "cell_type": "code",
   "execution_count": 114,
   "id": "511e951c",
   "metadata": {},
   "outputs": [],
   "source": [
    "my_range(1,3)"
   ]
  },
  {
   "cell_type": "code",
   "execution_count": 52,
   "id": "047251c6",
   "metadata": {},
   "outputs": [],
   "source": [
    "def gen_demo(n):\n",
    "    return n**2"
   ]
  },
  {
   "cell_type": "code",
   "execution_count": 53,
   "id": "03269a2e",
   "metadata": {},
   "outputs": [
    {
     "data": {
      "text/plain": [
       "100"
      ]
     },
     "execution_count": 53,
     "metadata": {},
     "output_type": "execute_result"
    }
   ],
   "source": [
    "gen_demo(10)"
   ]
  },
  {
   "cell_type": "code",
   "execution_count": 54,
   "id": "ac9c2116",
   "metadata": {},
   "outputs": [],
   "source": [
    "def gen_demo(n):\n",
    "    yield n**2"
   ]
  },
  {
   "cell_type": "code",
   "execution_count": 63,
   "id": "1989beca",
   "metadata": {},
   "outputs": [
    {
     "data": {
      "text/plain": [
       "100"
      ]
     },
     "execution_count": 63,
     "metadata": {},
     "output_type": "execute_result"
    }
   ],
   "source": [
    "next(gen_demo(10))"
   ]
  },
  {
   "cell_type": "code",
   "execution_count": 73,
   "id": "4cd4bcc7",
   "metadata": {},
   "outputs": [],
   "source": [
    "def fin_num(nums):\n",
    "    x,y=0,1\n",
    "    for _ in range(nums):\n",
    "        x,y=y,x+y\n",
    "        yield x"
   ]
  },
  {
   "cell_type": "code",
   "execution_count": 89,
   "id": "a017740e",
   "metadata": {},
   "outputs": [],
   "source": [
    "obj = fin_num(100)"
   ]
  },
  {
   "cell_type": "code",
   "execution_count": 103,
   "id": "2dc0c5a4",
   "metadata": {},
   "outputs": [
    {
     "data": {
      "text/plain": [
       "377"
      ]
     },
     "execution_count": 103,
     "metadata": {},
     "output_type": "execute_result"
    }
   ],
   "source": [
    "next(obj)"
   ]
  },
  {
   "cell_type": "code",
   "execution_count": 116,
   "id": "0d225ef5",
   "metadata": {},
   "outputs": [],
   "source": [
    "## Generator it a way define generator, it wil preserve the state"
   ]
  },
  {
   "cell_type": "code",
   "execution_count": null,
   "id": "08aa1706",
   "metadata": {},
   "outputs": [],
   "source": [
    "class Square:\n",
    "    def __init__(self, lenght):\n",
    "        self.lenght = lenght\n",
    "        self.current = 0\n",
    "        \n",
    "    def __iter__(self):\n",
    "        return self\n",
    "    \n",
    "    def __next__(self):\n",
    "        if self.\n",
    "    "
   ]
  },
  {
   "cell_type": "code",
   "execution_count": null,
   "id": "381b01ef",
   "metadata": {},
   "outputs": [],
   "source": [
    "##"
   ]
  },
  {
   "cell_type": "code",
   "execution_count": 127,
   "id": "54578393",
   "metadata": {},
   "outputs": [],
   "source": [
    "class rectangle:\n",
    "    def __init__(self):\n",
    "        self.l=10\n",
    "        self.b=20\n",
    "\n",
    "class cuboid(rectangle):\n",
    "    def __init__(self):\n",
    "        rectangle.__init__(self)\n",
    "        self.h=30\n",
    "    def volume(self):\n",
    "        print(f\"The volume of Cuboid is {self.l*self.b*self.h}\")"
   ]
  },
  {
   "cell_type": "code",
   "execution_count": 128,
   "id": "3e7a52e1",
   "metadata": {},
   "outputs": [],
   "source": [
    "obj=cuboid()"
   ]
  },
  {
   "cell_type": "code",
   "execution_count": 131,
   "id": "addf8c55",
   "metadata": {},
   "outputs": [
    {
     "data": {
      "text/plain": [
       "(10, 20, 30)"
      ]
     },
     "execution_count": 131,
     "metadata": {},
     "output_type": "execute_result"
    }
   ],
   "source": [
    "obj.l, obj.b, obj.h"
   ]
  },
  {
   "cell_type": "code",
   "execution_count": 138,
   "id": "31ae80ad",
   "metadata": {},
   "outputs": [],
   "source": [
    "class rectangle:\n",
    "    def __init__(self):\n",
    "        self.l=10\n",
    "        self.b=20\n",
    "\n",
    "class cuboid(rectangle):\n",
    "    def __init__(self):\n",
    "        super().__init__();\n",
    "        self.h=30\n",
    "    def volume(self):\n",
    "        print(f\"The volume of Cuboid is {self.l*self.b*self.h}\")"
   ]
  },
  {
   "cell_type": "code",
   "execution_count": 139,
   "id": "f422939d",
   "metadata": {},
   "outputs": [
    {
     "data": {
      "text/plain": [
       "(10, 20, 30)"
      ]
     },
     "execution_count": 139,
     "metadata": {},
     "output_type": "execute_result"
    }
   ],
   "source": [
    "obj=cuboid()\n",
    "obj.l, obj.b, obj.h"
   ]
  },
  {
   "cell_type": "markdown",
   "id": "e643b2e2",
   "metadata": {},
   "source": [
    "We don't have to pass self while calling anyb method using super()\n",
    "\n",
    "In Mupltiple hertabce we used it to acess every parent class at lower class which will  be created"
   ]
  },
  {
   "cell_type": "markdown",
   "id": "e4d5e9a7",
   "metadata": {},
   "source": [
    "## Dunder method"
   ]
  },
  {
   "cell_type": "code",
   "execution_count": 143,
   "id": "04d6cec7",
   "metadata": {},
   "outputs": [],
   "source": [
    "class Employee:\n",
    "    def __init__(self): \n",
    "         print(\"I called init\")\n",
    "    def __new__(self):\n",
    "        print(\"I called new\")"
   ]
  },
  {
   "cell_type": "code",
   "execution_count": 144,
   "id": "1fea5f32",
   "metadata": {},
   "outputs": [
    {
     "name": "stdout",
     "output_type": "stream",
     "text": [
      "I called new\n"
     ]
    }
   ],
   "source": [
    "obj= Employee()"
   ]
  },
  {
   "cell_type": "code",
   "execution_count": 146,
   "id": "a952b2ca",
   "metadata": {},
   "outputs": [
    {
     "data": {
      "text/plain": [
       "['__bool__',\n",
       " '__class__',\n",
       " '__delattr__',\n",
       " '__dir__',\n",
       " '__doc__',\n",
       " '__eq__',\n",
       " '__format__',\n",
       " '__ge__',\n",
       " '__getattribute__',\n",
       " '__gt__',\n",
       " '__hash__',\n",
       " '__init__',\n",
       " '__init_subclass__',\n",
       " '__le__',\n",
       " '__lt__',\n",
       " '__ne__',\n",
       " '__new__',\n",
       " '__reduce__',\n",
       " '__reduce_ex__',\n",
       " '__repr__',\n",
       " '__setattr__',\n",
       " '__sizeof__',\n",
       " '__str__',\n",
       " '__subclasshook__']"
      ]
     },
     "execution_count": 146,
     "metadata": {},
     "output_type": "execute_result"
    }
   ],
   "source": [
    "dir(obj)"
   ]
  },
  {
   "cell_type": "code",
   "execution_count": 147,
   "id": "fb58cae5",
   "metadata": {},
   "outputs": [],
   "source": [
    "## Obj is parent class \n",
    "## When you are going to create any class \n",
    "## it automatically inherited by object any class"
   ]
  },
  {
   "cell_type": "code",
   "execution_count": 155,
   "id": "95ec108c",
   "metadata": {},
   "outputs": [],
   "source": [
    "class Employee:\n",
    "    def __init__(self): \n",
    "         print(\"I called init\")\n",
    "    def mymethod(self):\n",
    "        print(\"I called mymethod\")\n",
    "    def __repr__(self):\n",
    "        print(\"I called repr\")    \n",
    "    def __str__(self):\n",
    "        print(\"I called str\")        "
   ]
  },
  {
   "cell_type": "code",
   "execution_count": 156,
   "id": "321088af",
   "metadata": {},
   "outputs": [
    {
     "name": "stdout",
     "output_type": "stream",
     "text": [
      "I called init\n"
     ]
    }
   ],
   "source": [
    "obj= Employee()"
   ]
  },
  {
   "cell_type": "code",
   "execution_count": 162,
   "id": "e3a5ea4a",
   "metadata": {},
   "outputs": [
    {
     "name": "stdout",
     "output_type": "stream",
     "text": [
      "I called str\n"
     ]
    },
    {
     "ename": "TypeError",
     "evalue": "__str__ returned non-string (type NoneType)",
     "output_type": "error",
     "traceback": [
      "\u001b[1;31m---------------------------------------------------------------------------\u001b[0m",
      "\u001b[1;31mTypeError\u001b[0m                                 Traceback (most recent call last)",
      "\u001b[1;32m~\\AppData\\Local\\Temp\\ipykernel_3120\\137606113.py\u001b[0m in \u001b[0;36m<cell line: 1>\u001b[1;34m()\u001b[0m\n\u001b[1;32m----> 1\u001b[1;33m \u001b[0mstr\u001b[0m\u001b[1;33m(\u001b[0m\u001b[0mobj\u001b[0m\u001b[1;33m)\u001b[0m\u001b[1;33m\u001b[0m\u001b[1;33m\u001b[0m\u001b[0m\n\u001b[0m",
      "\u001b[1;31mTypeError\u001b[0m: __str__ returned non-string (type NoneType)"
     ]
    }
   ],
   "source": [
    "str(obj)"
   ]
  },
  {
   "cell_type": "code",
   "execution_count": 164,
   "id": "56b3757e",
   "metadata": {},
   "outputs": [
    {
     "data": {
      "text/plain": [
       "['__add__',\n",
       " '__class__',\n",
       " '__class_getitem__',\n",
       " '__contains__',\n",
       " '__delattr__',\n",
       " '__delitem__',\n",
       " '__dir__',\n",
       " '__doc__',\n",
       " '__eq__',\n",
       " '__format__',\n",
       " '__ge__',\n",
       " '__getattribute__',\n",
       " '__getitem__',\n",
       " '__gt__',\n",
       " '__hash__',\n",
       " '__iadd__',\n",
       " '__imul__',\n",
       " '__init__',\n",
       " '__init_subclass__',\n",
       " '__iter__',\n",
       " '__le__',\n",
       " '__len__',\n",
       " '__lt__',\n",
       " '__mul__',\n",
       " '__ne__',\n",
       " '__new__',\n",
       " '__reduce__',\n",
       " '__reduce_ex__',\n",
       " '__repr__',\n",
       " '__reversed__',\n",
       " '__rmul__',\n",
       " '__setattr__',\n",
       " '__setitem__',\n",
       " '__sizeof__',\n",
       " '__str__',\n",
       " '__subclasshook__',\n",
       " 'append',\n",
       " 'clear',\n",
       " 'copy',\n",
       " 'count',\n",
       " 'extend',\n",
       " 'index',\n",
       " 'insert',\n",
       " 'pop',\n",
       " 'remove',\n",
       " 'reverse',\n",
       " 'sort']"
      ]
     },
     "execution_count": 164,
     "metadata": {},
     "output_type": "execute_result"
    }
   ],
   "source": [
    "dir(my_list)"
   ]
  },
  {
   "cell_type": "code",
   "execution_count": 165,
   "id": "0a2d0a48",
   "metadata": {},
   "outputs": [
    {
     "data": {
      "text/plain": [
       "1"
      ]
     },
     "execution_count": 165,
     "metadata": {},
     "output_type": "execute_result"
    }
   ],
   "source": [
    "abs(a)"
   ]
  },
  {
   "cell_type": "markdown",
   "id": "35ea716b",
   "metadata": {},
   "source": [
    "## Decorator"
   ]
  },
  {
   "cell_type": "code",
   "execution_count": 169,
   "id": "3517eb35",
   "metadata": {},
   "outputs": [],
   "source": [
    "def test(text):\n",
    "    return text.upper()"
   ]
  },
  {
   "cell_type": "code",
   "execution_count": null,
   "id": "53de99b8",
   "metadata": {},
   "outputs": [],
   "source": []
  },
  {
   "cell_type": "code",
   "execution_count": null,
   "id": "1e7038d3",
   "metadata": {},
   "outputs": [],
   "source": []
  },
  {
   "cell_type": "code",
   "execution_count": null,
   "id": "610dd735",
   "metadata": {},
   "outputs": [],
   "source": []
  },
  {
   "cell_type": "code",
   "execution_count": null,
   "id": "451c0bc4",
   "metadata": {},
   "outputs": [],
   "source": []
  },
  {
   "cell_type": "code",
   "execution_count": null,
   "id": "bcf17f9d",
   "metadata": {},
   "outputs": [],
   "source": []
  },
  {
   "cell_type": "code",
   "execution_count": null,
   "id": "bceb5d44",
   "metadata": {},
   "outputs": [],
   "source": []
  }
 ],
 "metadata": {
  "kernelspec": {
   "display_name": "Python 3 (ipykernel)",
   "language": "python",
   "name": "python3"
  },
  "language_info": {
   "codemirror_mode": {
    "name": "ipython",
    "version": 3
   },
   "file_extension": ".py",
   "mimetype": "text/x-python",
   "name": "python",
   "nbconvert_exporter": "python",
   "pygments_lexer": "ipython3",
   "version": "3.10.9"
  }
 },
 "nbformat": 4,
 "nbformat_minor": 5
}
