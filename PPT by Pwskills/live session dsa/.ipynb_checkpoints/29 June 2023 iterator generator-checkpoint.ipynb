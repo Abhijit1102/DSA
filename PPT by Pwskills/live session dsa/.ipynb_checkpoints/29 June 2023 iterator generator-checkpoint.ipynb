{
 "cells": [
  {
   "cell_type": "code",
   "execution_count": 3,
   "id": "1183e6f0",
   "metadata": {},
   "outputs": [],
   "source": [
    "a = 1"
   ]
  },
  {
   "cell_type": "code",
   "execution_count": 5,
   "id": "e5b5d85c",
   "metadata": {},
   "outputs": [
    {
     "ename": "TypeError",
     "evalue": "'int' object is not iterable",
     "output_type": "error",
     "traceback": [
      "\u001b[1;31m---------------------------------------------------------------------------\u001b[0m",
      "\u001b[1;31mTypeError\u001b[0m                                 Traceback (most recent call last)",
      "\u001b[1;32m~\\AppData\\Local\\Temp\\ipykernel_3120\\3114545233.py\u001b[0m in \u001b[0;36m<cell line: 1>\u001b[1;34m()\u001b[0m\n\u001b[1;32m----> 1\u001b[1;33m \u001b[1;32mfor\u001b[0m \u001b[0mi\u001b[0m \u001b[1;32min\u001b[0m \u001b[0ma\u001b[0m\u001b[1;33m:\u001b[0m\u001b[1;33m\u001b[0m\u001b[1;33m\u001b[0m\u001b[0m\n\u001b[0m\u001b[0;32m      2\u001b[0m     \u001b[0mprint\u001b[0m\u001b[1;33m(\u001b[0m\u001b[0mi\u001b[0m\u001b[1;33m)\u001b[0m\u001b[1;33m\u001b[0m\u001b[1;33m\u001b[0m\u001b[0m\n",
      "\u001b[1;31mTypeError\u001b[0m: 'int' object is not iterable"
     ]
    }
   ],
   "source": [
    "for i in a:\n",
    "    print(i)"
   ]
  },
  {
   "cell_type": "code",
   "execution_count": 15,
   "id": "8a90cb64",
   "metadata": {},
   "outputs": [
    {
     "data": {
      "text/plain": [
       "['__abs__',\n",
       " '__add__',\n",
       " '__and__',\n",
       " '__bool__',\n",
       " '__ceil__',\n",
       " '__class__',\n",
       " '__delattr__',\n",
       " '__dir__',\n",
       " '__divmod__',\n",
       " '__doc__',\n",
       " '__eq__',\n",
       " '__float__',\n",
       " '__floor__',\n",
       " '__floordiv__',\n",
       " '__format__',\n",
       " '__ge__',\n",
       " '__getattribute__',\n",
       " '__getnewargs__',\n",
       " '__gt__',\n",
       " '__hash__',\n",
       " '__index__',\n",
       " '__init__',\n",
       " '__init_subclass__',\n",
       " '__int__',\n",
       " '__invert__',\n",
       " '__le__',\n",
       " '__lshift__',\n",
       " '__lt__',\n",
       " '__mod__',\n",
       " '__mul__',\n",
       " '__ne__',\n",
       " '__neg__',\n",
       " '__new__',\n",
       " '__or__',\n",
       " '__pos__',\n",
       " '__pow__',\n",
       " '__radd__',\n",
       " '__rand__',\n",
       " '__rdivmod__',\n",
       " '__reduce__',\n",
       " '__reduce_ex__',\n",
       " '__repr__',\n",
       " '__rfloordiv__',\n",
       " '__rlshift__',\n",
       " '__rmod__',\n",
       " '__rmul__',\n",
       " '__ror__',\n",
       " '__round__',\n",
       " '__rpow__',\n",
       " '__rrshift__',\n",
       " '__rshift__',\n",
       " '__rsub__',\n",
       " '__rtruediv__',\n",
       " '__rxor__',\n",
       " '__setattr__',\n",
       " '__sizeof__',\n",
       " '__str__',\n",
       " '__sub__',\n",
       " '__subclasshook__',\n",
       " '__truediv__',\n",
       " '__trunc__',\n",
       " '__xor__',\n",
       " 'as_integer_ratio',\n",
       " 'bit_count',\n",
       " 'bit_length',\n",
       " 'conjugate',\n",
       " 'denominator',\n",
       " 'from_bytes',\n",
       " 'imag',\n",
       " 'numerator',\n",
       " 'real',\n",
       " 'to_bytes']"
      ]
     },
     "execution_count": 15,
     "metadata": {},
     "output_type": "execute_result"
    }
   ],
   "source": [
    "dir(a)"
   ]
  },
  {
   "cell_type": "code",
   "execution_count": 11,
   "id": "08e5a954",
   "metadata": {},
   "outputs": [],
   "source": [
    "mylist = [1,2,3,4]"
   ]
  },
  {
   "cell_type": "code",
   "execution_count": 10,
   "id": "df3917a7",
   "metadata": {},
   "outputs": [
    {
     "name": "stdout",
     "output_type": "stream",
     "text": [
      "1\n",
      "2\n",
      "3\n",
      "4\n"
     ]
    }
   ],
   "source": [
    "for i in list:\n",
    "    print(i)"
   ]
  },
  {
   "cell_type": "code",
   "execution_count": null,
   "id": "72671c06",
   "metadata": {},
   "outputs": [],
   "source": [
    "# mylist-->iterable-->itrator-->iteration\n",
    "# mylist-->iteranle-->iter()"
   ]
  },
  {
   "cell_type": "code",
   "execution_count": 13,
   "id": "9bcf9833",
   "metadata": {},
   "outputs": [],
   "source": [
    "mylist = [1,2,3,4,5,6,7,8,9]"
   ]
  },
  {
   "cell_type": "code",
   "execution_count": 14,
   "id": "24569eaa",
   "metadata": {},
   "outputs": [
    {
     "data": {
      "text/plain": [
       "[1, 2, 3, 4, 5, 6, 7, 8, 9]"
      ]
     },
     "execution_count": 14,
     "metadata": {},
     "output_type": "execute_result"
    }
   ],
   "source": [
    "mylist"
   ]
  },
  {
   "cell_type": "code",
   "execution_count": 16,
   "id": "f45a55e8",
   "metadata": {},
   "outputs": [
    {
     "data": {
      "text/plain": [
       "<list_iterator at 0x1c66e824610>"
      ]
     },
     "execution_count": 16,
     "metadata": {},
     "output_type": "execute_result"
    }
   ],
   "source": [
    "iter(mylist)"
   ]
  },
  {
   "cell_type": "code",
   "execution_count": 17,
   "id": "2c7c6fb1",
   "metadata": {},
   "outputs": [
    {
     "data": {
      "text/plain": [
       "['__class__',\n",
       " '__delattr__',\n",
       " '__dir__',\n",
       " '__doc__',\n",
       " '__eq__',\n",
       " '__format__',\n",
       " '__ge__',\n",
       " '__getattribute__',\n",
       " '__gt__',\n",
       " '__hash__',\n",
       " '__init__',\n",
       " '__init_subclass__',\n",
       " '__iter__',\n",
       " '__le__',\n",
       " '__length_hint__',\n",
       " '__lt__',\n",
       " '__ne__',\n",
       " '__new__',\n",
       " '__next__',\n",
       " '__reduce__',\n",
       " '__reduce_ex__',\n",
       " '__repr__',\n",
       " '__setattr__',\n",
       " '__setstate__',\n",
       " '__sizeof__',\n",
       " '__str__',\n",
       " '__subclasshook__']"
      ]
     },
     "execution_count": 17,
     "metadata": {},
     "output_type": "execute_result"
    }
   ],
   "source": [
    "dir(iter(mylist))"
   ]
  },
  {
   "cell_type": "code",
   "execution_count": 18,
   "id": "624bbc45",
   "metadata": {},
   "outputs": [],
   "source": [
    "obj = iter(mylist)"
   ]
  },
  {
   "cell_type": "code",
   "execution_count": 19,
   "id": "0bd97ac1",
   "metadata": {},
   "outputs": [
    {
     "data": {
      "text/plain": [
       "1"
      ]
     },
     "execution_count": 19,
     "metadata": {},
     "output_type": "execute_result"
    }
   ],
   "source": [
    "next(obj)"
   ]
  },
  {
   "cell_type": "code",
   "execution_count": 20,
   "id": "16b0a9ea",
   "metadata": {},
   "outputs": [
    {
     "data": {
      "text/plain": [
       "2"
      ]
     },
     "execution_count": 20,
     "metadata": {},
     "output_type": "execute_result"
    }
   ],
   "source": [
    "next(obj)"
   ]
  },
  {
   "cell_type": "code",
   "execution_count": 26,
   "id": "28abaed7",
   "metadata": {},
   "outputs": [],
   "source": [
    "def my_for_loop(iterable):\n",
    "    iterator = iter(iterable)\n",
    "    while True:\n",
    "        try:\n",
    "            print(next(iterator))\n",
    "        except StopIteration:\n",
    "            break"
   ]
  },
  {
   "cell_type": "code",
   "execution_count": 30,
   "id": "e7023a1f",
   "metadata": {},
   "outputs": [],
   "source": [
    "my_list = [i for i in range(1,1000)]"
   ]
  },
  {
   "cell_type": "code",
   "execution_count": 36,
   "id": "3ebcda37",
   "metadata": {},
   "outputs": [
    {
     "data": {
      "text/plain": [
       "8856"
      ]
     },
     "execution_count": 36,
     "metadata": {},
     "output_type": "execute_result"
    }
   ],
   "source": [
    "import sys\n",
    "sys.getsizeof(my_list)"
   ]
  },
  {
   "cell_type": "code",
   "execution_count": 41,
   "id": "eed8a278",
   "metadata": {},
   "outputs": [],
   "source": [
    "## Range is example of iterater and next\n",
    "x = range(1,1001)"
   ]
  },
  {
   "cell_type": "code",
   "execution_count": null,
   "id": "524ed7f3",
   "metadata": {},
   "outputs": [],
   "source": [
    "## Define range function "
   ]
  },
  {
   "cell_type": "code",
   "execution_count": 115,
   "id": "84f7c136",
   "metadata": {},
   "outputs": [],
   "source": [
    "def my_range(initiale, final):\n",
    "    while initiale == final:\n",
    "        initiate=+1\n",
    "        \n",
    "        print(initiale)\n",
    "    "
   ]
  },
  {
   "cell_type": "code",
   "execution_count": 114,
   "id": "e32e573b",
   "metadata": {},
   "outputs": [],
   "source": [
    "my_range(1,3)"
   ]
  },
  {
   "cell_type": "code",
   "execution_count": 52,
   "id": "85bd649c",
   "metadata": {},
   "outputs": [],
   "source": [
    "def gen_demo(n):\n",
    "    return n**2"
   ]
  },
  {
   "cell_type": "code",
   "execution_count": 53,
   "id": "e2a36b5b",
   "metadata": {},
   "outputs": [
    {
     "data": {
      "text/plain": [
       "100"
      ]
     },
     "execution_count": 53,
     "metadata": {},
     "output_type": "execute_result"
    }
   ],
   "source": [
    "gen_demo(10)"
   ]
  },
  {
   "cell_type": "code",
   "execution_count": 54,
   "id": "a57c0afc",
   "metadata": {},
   "outputs": [],
   "source": [
    "def gen_demo(n):\n",
    "    yield n**2"
   ]
  },
  {
   "cell_type": "code",
   "execution_count": 63,
   "id": "486f70fa",
   "metadata": {},
   "outputs": [
    {
     "data": {
      "text/plain": [
       "100"
      ]
     },
     "execution_count": 63,
     "metadata": {},
     "output_type": "execute_result"
    }
   ],
   "source": [
    "next(gen_demo(10))"
   ]
  },
  {
   "cell_type": "code",
   "execution_count": 73,
   "id": "15424443",
   "metadata": {},
   "outputs": [],
   "source": [
    "def fin_num(nums):\n",
    "    x,y=0,1\n",
    "    for _ in range(nums):\n",
    "        x,y=y,x+y\n",
    "        yield x"
   ]
  },
  {
   "cell_type": "code",
   "execution_count": 89,
   "id": "d2f317a8",
   "metadata": {},
   "outputs": [],
   "source": [
    "obj = fin_num(100)"
   ]
  },
  {
   "cell_type": "code",
   "execution_count": 103,
   "id": "bd0b9848",
   "metadata": {},
   "outputs": [
    {
     "data": {
      "text/plain": [
       "377"
      ]
     },
     "execution_count": 103,
     "metadata": {},
     "output_type": "execute_result"
    }
   ],
   "source": [
    "next(obj)"
   ]
  },
  {
   "cell_type": "code",
   "execution_count": 116,
   "id": "ddd4e21e",
   "metadata": {},
   "outputs": [],
   "source": [
    "## Generator it a way define generator, it wil preserve the state"
   ]
  },
  {
   "cell_type": "code",
   "execution_count": null,
   "id": "d8c3b8a5",
   "metadata": {},
   "outputs": [],
   "source": [
    "class Square:\n",
    "    def __init__(self, lenght):\n",
    "        self.lenght = lenght\n",
    "        self.current = 0\n",
    "        \n",
    "    def __iter__(self):\n",
    "        return self\n",
    "    \n",
    "    def __next__(self):\n",
    "        if self.\n",
    "    "
   ]
  },
  {
   "cell_type": "code",
   "execution_count": null,
   "id": "4217797e",
   "metadata": {},
   "outputs": [],
   "source": [
    "##"
   ]
  },
  {
   "cell_type": "code",
   "execution_count": 127,
   "id": "acd6d6c8",
   "metadata": {},
   "outputs": [],
   "source": [
    "class rectangle:\n",
    "    def __init__(self):\n",
    "        self.l=10\n",
    "        self.b=20\n",
    "\n",
    "class cuboid(rectangle):\n",
    "    def __init__(self):\n",
    "        rectangle.__init__(self)\n",
    "        self.h=30\n",
    "    def volume(self):\n",
    "        print(f\"The volume of Cuboid is {self.l*self.b*self.h}\")"
   ]
  },
  {
   "cell_type": "code",
   "execution_count": 128,
   "id": "b39608ae",
   "metadata": {},
   "outputs": [],
   "source": [
    "obj=cuboid()"
   ]
  },
  {
   "cell_type": "code",
   "execution_count": 131,
   "id": "9a1b649d",
   "metadata": {},
   "outputs": [
    {
     "data": {
      "text/plain": [
       "(10, 20, 30)"
      ]
     },
     "execution_count": 131,
     "metadata": {},
     "output_type": "execute_result"
    }
   ],
   "source": [
    "obj.l, obj.b, obj.h"
   ]
  },
  {
   "cell_type": "code",
   "execution_count": 138,
   "id": "6cc0c247",
   "metadata": {},
   "outputs": [],
   "source": [
    "class rectangle:\n",
    "    def __init__(self):\n",
    "        self.l=10\n",
    "        self.b=20\n",
    "\n",
    "class cuboid(rectangle):\n",
    "    def __init__(self):\n",
    "        super().__init__();\n",
    "        self.h=30\n",
    "    def volume(self):\n",
    "        print(f\"The volume of Cuboid is {self.l*self.b*self.h}\")"
   ]
  },
  {
   "cell_type": "code",
   "execution_count": 139,
   "id": "ae78262a",
   "metadata": {},
   "outputs": [
    {
     "data": {
      "text/plain": [
       "(10, 20, 30)"
      ]
     },
     "execution_count": 139,
     "metadata": {},
     "output_type": "execute_result"
    }
   ],
   "source": [
    "obj=cuboid()\n",
    "obj.l, obj.b, obj.h"
   ]
  },
  {
   "cell_type": "markdown",
   "id": "9a0cc682",
   "metadata": {},
   "source": [
    "We don't have to pass self while calling anyb method using super()\n",
    "\n",
    "In Mupltiple hertabce we used it to acess every parent class at lower class which will  be created"
   ]
  },
  {
   "cell_type": "markdown",
   "id": "3d593f2e",
   "metadata": {},
   "source": [
    "## Dunder method"
   ]
  },
  {
   "cell_type": "code",
   "execution_count": null,
   "id": "f1a6b956",
   "metadata": {},
   "outputs": [],
   "source": [
    "class Enployee:\n",
    "    def __init__(self): \n",
    "    \n",
    "    def"
   ]
  },
  {
   "cell_type": "code",
   "execution_count": null,
   "id": "f461ad75",
   "metadata": {},
   "outputs": [],
   "source": []
  },
  {
   "cell_type": "code",
   "execution_count": null,
   "id": "804cf00f",
   "metadata": {},
   "outputs": [],
   "source": []
  },
  {
   "cell_type": "code",
   "execution_count": null,
   "id": "e2c81798",
   "metadata": {},
   "outputs": [],
   "source": []
  },
  {
   "cell_type": "code",
   "execution_count": null,
   "id": "4a915e0b",
   "metadata": {},
   "outputs": [],
   "source": []
  },
  {
   "cell_type": "code",
   "execution_count": null,
   "id": "a0b39de0",
   "metadata": {},
   "outputs": [],
   "source": []
  }
 ],
 "metadata": {
  "kernelspec": {
   "display_name": "Python 3 (ipykernel)",
   "language": "python",
   "name": "python3"
  },
  "language_info": {
   "codemirror_mode": {
    "name": "ipython",
    "version": 3
   },
   "file_extension": ".py",
   "mimetype": "text/x-python",
   "name": "python",
   "nbconvert_exporter": "python",
   "pygments_lexer": "ipython3",
   "version": "3.10.9"
  }
 },
 "nbformat": 4,
 "nbformat_minor": 5
}
