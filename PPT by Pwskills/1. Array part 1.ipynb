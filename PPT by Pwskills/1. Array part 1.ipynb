{
 "cells": [
  {
   "cell_type": "markdown",
   "id": "e9b6f4f4",
   "metadata": {},
   "source": [
    "# Array "
   ]
  },
  {
   "cell_type": "markdown",
   "id": "18bc0ad4",
   "metadata": {},
   "source": [
    "The size of array is defined as j - i + 1 "
   ]
  },
  {
   "cell_type": "markdown",
   "id": "b9e8872b",
   "metadata": {},
   "source": [
    "## Q1 Best time to buy and Sale Stock"
   ]
  },
  {
   "cell_type": "code",
   "execution_count": 1,
   "id": "344b28c8",
   "metadata": {},
   "outputs": [],
   "source": [
    "input = [7,1,5,3,6,4]"
   ]
  },
  {
   "cell_type": "code",
   "execution_count": 1,
   "id": "5ead51ce",
   "metadata": {},
   "outputs": [
    {
     "ename": "SyntaxError",
     "evalue": "invalid syntax (2292416806.py, line 2)",
     "output_type": "error",
     "traceback": [
      "\u001b[1;36m  File \u001b[1;32m\"C:\\Users\\Lenovo\\AppData\\Local\\Temp\\ipykernel_5388\\2292416806.py\"\u001b[1;36m, line \u001b[1;32m2\u001b[0m\n\u001b[1;33m    for j =i+1, j<n; j++:\u001b[0m\n\u001b[1;37m          ^\u001b[0m\n\u001b[1;31mSyntaxError\u001b[0m\u001b[1;31m:\u001b[0m invalid syntax\n"
     ]
    }
   ],
   "source": [
    "for (int i=1; i<n;i++):\n",
    "    profit= max(profit, arr[i] -min)"
   ]
  },
  {
   "cell_type": "code",
   "execution_count": null,
   "id": "196c2231",
   "metadata": {},
   "outputs": [],
   "source": []
  },
  {
   "cell_type": "code",
   "execution_count": null,
   "id": "4a775afb",
   "metadata": {},
   "outputs": [],
   "source": []
  },
  {
   "cell_type": "code",
   "execution_count": null,
   "id": "4dc37733",
   "metadata": {},
   "outputs": [],
   "source": []
  },
  {
   "cell_type": "code",
   "execution_count": null,
   "id": "60576f33",
   "metadata": {},
   "outputs": [],
   "source": []
  },
  {
   "cell_type": "code",
   "execution_count": null,
   "id": "16bc0886",
   "metadata": {},
   "outputs": [],
   "source": []
  }
 ],
 "metadata": {
  "kernelspec": {
   "display_name": "Python 3 (ipykernel)",
   "language": "python",
   "name": "python3"
  },
  "language_info": {
   "codemirror_mode": {
    "name": "ipython",
    "version": 3
   },
   "file_extension": ".py",
   "mimetype": "text/x-python",
   "name": "python",
   "nbconvert_exporter": "python",
   "pygments_lexer": "ipython3",
   "version": "3.10.9"
  }
 },
 "nbformat": 4,
 "nbformat_minor": 5
}
