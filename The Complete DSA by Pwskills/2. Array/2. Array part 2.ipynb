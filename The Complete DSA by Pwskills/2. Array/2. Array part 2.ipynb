{
 "cells": [
  {
   "cell_type": "markdown",
   "id": "60113a21",
   "metadata": {},
   "source": [
    "## Binary Search in Array"
   ]
  },
  {
   "cell_type": "code",
   "execution_count": 47,
   "id": "5c40364b",
   "metadata": {},
   "outputs": [
    {
     "data": {
      "text/plain": [
       "3"
      ]
     },
     "execution_count": 47,
     "metadata": {},
     "output_type": "execute_result"
    }
   ],
   "source": [
    "def binary_search(arr, elt):\n",
    "    low = 0\n",
    "    high = len(arr) - 1\n",
    "\n",
    "    while low <= high:\n",
    "        mid = (low + high) // 2\n",
    "        guess = arr[mid]\n",
    "\n",
    "        if guess == elt:\n",
    "            return mid\n",
    "        elif guess < elt:\n",
    "            low = mid + 1\n",
    "        else:\n",
    "            high = mid - 1\n",
    "\n",
    "    return -1\n",
    "\n",
    "# Example usage:\n",
    "arr = [1, 3, 5, 7, 9, 11, 13]\n",
    "elt = 7\n",
    "\n",
    "result = binary_search(arr, elt)\n",
    "result"
   ]
  },
  {
   "cell_type": "markdown",
   "id": "5713f373",
   "metadata": {},
   "source": [
    "## Recusion in Binary Search"
   ]
  },
  {
   "cell_type": "code",
   "execution_count": 44,
   "id": "591b3da6",
   "metadata": {},
   "outputs": [
    {
     "data": {
      "text/plain": [
       "3"
      ]
     },
     "execution_count": 44,
     "metadata": {},
     "output_type": "execute_result"
    }
   ],
   "source": [
    "def binary_search(arr, target):\n",
    "    def search(low, high):\n",
    "        if low > high:\n",
    "            return -1\n",
    "\n",
    "        mid = (low + high) // 2\n",
    "        guess = arr[mid]\n",
    "\n",
    "        if guess == target:\n",
    "            return mid\n",
    "        elif guess < target:\n",
    "            return search(mid + 1, high)\n",
    "        else:\n",
    "            return search(low, mid - 1)\n",
    "\n",
    "    return search(0, len(arr) - 1)\n",
    "\n",
    "binary_search(arr, elt)\n"
   ]
  },
  {
   "cell_type": "markdown",
   "id": "3b6bcdca",
   "metadata": {},
   "source": [
    "## Recurence Relationship ( binary Search)"
   ]
  },
  {
   "cell_type": "markdown",
   "id": "1d91ef7e",
   "metadata": {},
   "source": [
    "$$T(n) = { 1 : n=1 }\n",
    "            -- T(n/2)+C : n>1$$"
   ]
  },
  {
   "cell_type": "markdown",
   "id": "d39ab9b4",
   "metadata": {},
   "source": [
    "The time complexity, denoted as T(n), of binary search is O(log n), where n represents the number of elements in the sorted array being searched.\n",
    "\n",
    "In each iteration of the binary search algorithm, the search range is divided in half. This means that with every comparison, the size of the remaining search range is halved. As a result, the number of iterations required to find the target element grows logarithmically with the size of the input.\n",
    "\n",
    "Since binary search eliminates half of the remaining search range at each step, the maximum number of iterations needed to find the target element is proportional to the logarithm (base 2) of the size of the array. Hence, the time complexity of binary search is logarithmic, or O(log n).\n",
    "\n",
    "This logarithmic time complexity makes binary search highly efficient for large arrays. For example, even for an array with 1,000,000 elements, binary search would require at most 20 comparisons to find the target element.\n"
   ]
  },
  {
   "cell_type": "markdown",
   "id": "e6dcd35f",
   "metadata": {},
   "source": [
    "## Implementation of Binary Search"
   ]
  },
  {
   "cell_type": "code",
   "execution_count": null,
   "id": "0b0e7084",
   "metadata": {},
   "outputs": [],
   "source": [
    "def binarySearch(arr,i,j,x):\n",
    "    while i <= j:\n",
    "        mid =i +(j-i)//2\n",
    "        if arr[mid] == x:\n",
    "            return mid\n",
    "        elif arr[mid] < x:\n",
    "            return binarySearch(arr, mid+1, j, x)\n",
    "        else:\n",
    "            return binarySearch(arr, mid-1,j, x)\n",
    "    else: \n",
    "        return -1\n",
    "    \n",
    "arr = [2,5,10,14,18,22,27,35,40,59]\n",
    "x = 10\n",
    "i = 0\n",
    "j = len(arr) -1\n",
    "result = binarySearch(arr,i,j,x)\n",
    "print(\"Searching index position\", result)"
   ]
  },
  {
   "cell_type": "code",
   "execution_count": null,
   "id": "217e5a49",
   "metadata": {},
   "outputs": [],
   "source": []
  },
  {
   "cell_type": "code",
   "execution_count": null,
   "id": "ffad2530",
   "metadata": {},
   "outputs": [],
   "source": []
  },
  {
   "cell_type": "code",
   "execution_count": null,
   "id": "1655fe17",
   "metadata": {},
   "outputs": [],
   "source": []
  },
  {
   "cell_type": "code",
   "execution_count": null,
   "id": "6707d118",
   "metadata": {},
   "outputs": [],
   "source": []
  },
  {
   "cell_type": "code",
   "execution_count": null,
   "id": "6d4dca30",
   "metadata": {},
   "outputs": [],
   "source": []
  },
  {
   "cell_type": "code",
   "execution_count": null,
   "id": "29eb7fad",
   "metadata": {},
   "outputs": [],
   "source": []
  }
 ],
 "metadata": {
  "kernelspec": {
   "display_name": "Python 3 (ipykernel)",
   "language": "python",
   "name": "python3"
  },
  "language_info": {
   "codemirror_mode": {
    "name": "ipython",
    "version": 3
   },
   "file_extension": ".py",
   "mimetype": "text/x-python",
   "name": "python",
   "nbconvert_exporter": "python",
   "pygments_lexer": "ipython3",
   "version": "3.10.9"
  }
 },
 "nbformat": 4,
 "nbformat_minor": 5
}
