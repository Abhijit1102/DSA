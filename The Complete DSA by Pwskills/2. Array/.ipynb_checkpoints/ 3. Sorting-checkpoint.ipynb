{
 "cells": [
  {
   "cell_type": "markdown",
   "id": "224aef18",
   "metadata": {},
   "source": [
    "## Inplace and Outplace  Sirting algorithm"
   ]
  },
  {
   "cell_type": "markdown",
   "id": "8ba54c5d",
   "metadata": {},
   "source": [
    "## Inplace : no using any extra space to sort\n",
    "## Outplace : using extra space to sort , hence faster e.g : Merge sort,\n"
   ]
  },
  {
   "cell_type": "markdown",
   "id": "a3b28066",
   "metadata": {},
   "source": [
    "# Bubble sort "
   ]
  },
  {
   "cell_type": "raw",
   "id": "16cb490c",
   "metadata": {},
   "source": [
    "arr = [7, 20, 50, 30,90, 5, 15]\n",
    "n = 7 \n",
    "- pair-wise if odd avoid last as max\n",
    "- swap each pair \n",
    "- repeat the prosess by srinking interval\n",
    "- lastly all are sorted\n",
    "\n",
    "- Worst case Scenario O(n^2)\n",
    "\n",
    "- Swap - best case -> 0\n",
    "       - worst case -> n-1 swap\n",
    "\n",
    "## Bubble Sort : Comparism + swap\n",
    "               : O(n^2) + O(n^2)"
   ]
  },
  {
   "cell_type": "markdown",
   "id": "fd6a70b2",
   "metadata": {},
   "source": [
    "### Implementation"
   ]
  },
  {
   "cell_type": "code",
   "execution_count": 38,
   "id": "f318fc7f",
   "metadata": {},
   "outputs": [],
   "source": [
    "arr = [70 ,20, 50, 30, 90, 5, 15]"
   ]
  },
  {
   "cell_type": "code",
   "execution_count": 39,
   "id": "9d59e879",
   "metadata": {},
   "outputs": [
    {
     "data": {
      "text/plain": [
       "[5, 15, 20, 30, 50, 70, 90]"
      ]
     },
     "execution_count": 39,
     "metadata": {},
     "output_type": "execute_result"
    }
   ],
   "source": [
    "def bubblesort(arr):\n",
    "    n = len(arr)\n",
    "    for i in range(n):\n",
    "        for j in range(n-i-1):\n",
    "            if arr[j] > arr[j+1]:\n",
    "                arr[j], arr[j+1] = arr[j+1],arr[j]\n",
    "     \n",
    "    return arr\n",
    "        \n",
    "    \n",
    "    \n",
    "bubblesort(arr)"
   ]
  },
  {
   "cell_type": "markdown",
   "id": "31d2ef89",
   "metadata": {},
   "source": [
    "## Selection Sort"
   ]
  },
  {
   "cell_type": "raw",
   "id": "2c1bc71f",
   "metadata": {},
   "source": [
    "arr = [50, 38, 45, 79, 19, 27, 29]\n",
    "- min_index =  0,\n",
    "- then update index of mini & swap index\n",
    "- come to next_index and repeat\n",
    "\n",
    "## In this index  algo it will swap if comdition statisfy i.e one swap\n",
    "## In bubble sort index swapping happen in all step\n",
    "\n",
    "## Bubble Sort : Comparism + swap\n",
    "               : O(n) + O(n^2) :  O(n^2)"
   ]
  },
  {
   "cell_type": "code",
   "execution_count": 35,
   "id": "6089d0ad",
   "metadata": {},
   "outputs": [],
   "source": [
    "arr = [50, 38, 45, 79, 19, 27, 29]"
   ]
  },
  {
   "cell_type": "code",
   "execution_count": 37,
   "id": "1fe93432",
   "metadata": {},
   "outputs": [
    {
     "data": {
      "text/plain": [
       "[19, 27, 29, 38, 45, 50, 79]"
      ]
     },
     "execution_count": 37,
     "metadata": {},
     "output_type": "execute_result"
    }
   ],
   "source": [
    "def selection_sort(arr):\n",
    "    n =len(arr)\n",
    "    for i in range(n):\n",
    "        min_idx = i\n",
    "        for j in range(i+1, n):\n",
    "            if arr[j] <arr[min_idx]:\n",
    "                min_idx=j\n",
    "                \n",
    "        arr[i], arr[min_idx] = arr[min_idx], arr[i] \n",
    "   \n",
    "    return arr\n",
    "        \n",
    "selection_sort(arr)        "
   ]
  },
  {
   "cell_type": "markdown",
   "id": "7436b469",
   "metadata": {},
   "source": [
    "## Insertion Sort"
   ]
  },
  {
   "cell_type": "code",
   "execution_count": 41,
   "id": "63919037",
   "metadata": {},
   "outputs": [],
   "source": [
    "arr= [75, 90, 100, 85, 50, 100, 110, 7]"
   ]
  },
  {
   "cell_type": "raw",
   "id": "8440146e",
   "metadata": {},
   "source": [
    "# - [75, 95]\n",
    "# - [75, 95, 100]\n",
    "# - [75, 90, 95, 100, 85]\n",
    "# - [75, [90, 95, 85]..]\n",
    "# - [75, 85, 90, 100..]\n",
    "## Repeated the processed\n",
    "\n",
    "- Swap - best case -> O(n)\n",
    "       - worst case -> O(n)\n",
    "\n",
    "##  insersion  : comparism + swap\n",
    "               : O(n^2) + O(n^2)\n"
   ]
  },
  {
   "cell_type": "code",
   "execution_count": 51,
   "id": "c7623840",
   "metadata": {},
   "outputs": [],
   "source": [
    "arr= [75, 90, 100, 85, 50, 100, 110, 7]"
   ]
  },
  {
   "cell_type": "code",
   "execution_count": 53,
   "id": "034959f7",
   "metadata": {},
   "outputs": [
    {
     "name": "stdout",
     "output_type": "stream",
     "text": [
      "[7, 50, 75, 85, 90, 100, 100, 110]\n"
     ]
    }
   ],
   "source": [
    "def insertion_sort(arr):\n",
    "    for i in range(1, len(arr)):\n",
    "        key = arr[i]\n",
    "        j = i - 1\n",
    "        \n",
    "        while j >= 0 and key < arr[j]:\n",
    "            arr[j+1] = arr[j]\n",
    "            j = j-1\n",
    "              \n",
    "        arr[j+1] = key    \n",
    "\n",
    "    return arr \n",
    "\n",
    "arr= [75, 90, 100, 85, 50, 100, 110, 7]\n",
    "result=insertion_sort(arr)\n",
    "print(result)"
   ]
  },
  {
   "cell_type": "markdown",
   "id": "9de097ce",
   "metadata": {},
   "source": [
    "<iframe width=\"800\" height=\"500\" frameborder=\"0\" src=\"https://pythontutor.com/iframe-embed.html#code=def%20selection_sort%28arr%29%3A%0A%20%20%20%20n%20%3Dlen%28arr%29%0A%20%20%20%20for%20i%20in%20range%28n%29%3A%0A%20%20%20%20%20%20%20%20min_idx%20%3D%20i%0A%20%20%20%20%20%20%20%20for%20j%20in%20range%28i%2B1,%20n%29%3A%0A%20%20%20%20%20%20%20%20%20%20%20%20if%20arr%5Bj%5D%20%3Carr%5Bmin_idx%5D%3A%0A%20%20%20%20%20%20%20%20%20%20%20%20%20%20%20%20min_idx%3Dj%0A%20%20%20%20%20%20%20%20%20%20%20%20%20%20%20%20%0A%20%20%20%20%20%20%20%20arr%5Bi%5D,%20arr%5Bmin_idx%5D%20%3D%20arr%5Bmin_idx%5D,%20arr%5Bi%5D%20%0A%20%20%20%0A%20%20%20%20return%20arr%0A%0Aarr%20%3D%20%5B50,%2038,%2045,%2079,%2019,%2027,%2029%5D%20%20%20%20%20%20%20%20%0Aselection_sort%28arr%29&codeDivHeight=400&codeDivWidth=350&cumulative=false&curInstr=87&heapPrimitives=nevernest&origin=opt-frontend.js&py=3&rawInputLstJSON=%5B%5D&textReferences=false\"> </iframe>"
   ]
  },
  {
   "cell_type": "code",
   "execution_count": null,
   "id": "bf8f3655",
   "metadata": {},
   "outputs": [],
   "source": []
  },
  {
   "cell_type": "code",
   "execution_count": null,
   "id": "f48230e2",
   "metadata": {},
   "outputs": [],
   "source": []
  }
 ],
 "metadata": {
  "kernelspec": {
   "display_name": "Python 3 (ipykernel)",
   "language": "python",
   "name": "python3"
  },
  "language_info": {
   "codemirror_mode": {
    "name": "ipython",
    "version": 3
   },
   "file_extension": ".py",
   "mimetype": "text/x-python",
   "name": "python",
   "nbconvert_exporter": "python",
   "pygments_lexer": "ipython3",
   "version": "3.10.9"
  }
 },
 "nbformat": 4,
 "nbformat_minor": 5
}
