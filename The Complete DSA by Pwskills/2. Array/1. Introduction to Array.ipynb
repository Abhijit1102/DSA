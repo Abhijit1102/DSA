{
 "cells": [
  {
   "cell_type": "markdown",
   "id": "59b42234",
   "metadata": {},
   "source": [
    "## Data Structure is Divided into two parts: \n",
    "- 1. Linear D.S. :Stack, Queue etc.\n",
    "- 2. Non-linear Data Structrure : Tree, Graphs etc."
   ]
  },
  {
   "cell_type": "markdown",
   "id": "ca42c9e4",
   "metadata": {},
   "source": [
    "## Data structures can be broadly divided into four main categories:\n",
    "\n",
    "1. `Primitive Data Structures`: These are the basic or fundamental data structures provided by a programming language. Examples include integers, floating-point numbers, characters, booleans, and pointers. These data types are typically built-in and are used to construct more complex data structures.\n",
    "\n",
    "2. `Linear Data Structures`: In linear data structures, the data elements are organized sequentially or linearly. Each element has a unique predecessor and successor, except for the first and last elements. Some common linear data structures include arrays, linked lists, stacks, and queues.\n",
    "\n",
    "3. `Non-linear Data Structures`: Unlike linear data structures, non-linear data structures do not follow a sequential or linear arrangement. The elements in these structures can be connected in multiple ways, forming a hierarchical or arbitrary relationship. Examples of non-linear data structures include trees, graphs, heaps, and hash tables.\n",
    "\n",
    "4. `File Data Structures`: File data structures are used for organizing and storing data on secondary storage devices like hard drives. These structures are designed to optimize the storage and retrieval of data from files. Examples of file data structures include B-trees, indexes, and file allocation methods such as linked allocation or indexed allocation.\n",
    "\n",
    "It's worth noting that these categories are not mutually exclusive, and data structures can often fall into multiple categories. Additionally, there are many variations and specialized data structures within each category that cater to specific requirements and optimizations"
   ]
  },
  {
   "cell_type": "markdown",
   "id": "5e38e81e",
   "metadata": {},
   "source": [
    "## Array \n",
    "\n",
    "An `array` is a fundamental data structure that stores a fixed-size sequence of elements of the same data type. It provides a way to represent and organize a collection of items in a contiguous block of memory. Each element in the array is identified by its index or position, starting from 0 for the first element.\n",
    "\n",
    "`Arrays` can be one-dimensional or multi-dimensional, depending on the number of indices required to access an element. In a one-dimensional array, elements are arranged in a linear sequence. In a multi-dimensional array, elements are organized in a tabular form with rows and columns.\n",
    "\n",
    "### The key characteristics of arrays include:\n",
    "\n",
    "1. `Fixed Size`: The size of an array is predetermined and remains constant throughout its lifetime. Once created, the size cannot be dynamically changed.\n",
    "\n",
    "2. `Homogeneous Elements`: An array can store elements of the same data type. For instance, an integer array can only store integers, a character array can only store characters, and so on.\n",
    "\n",
    "3. `Random Access`: Elements in an array can be accessed directly by their index, allowing for constant-time access. This means that given an index, accessing the corresponding element in the array takes the same amount of time, regardless of the array's size.\n",
    "\n",
    "Arrays are widely used in programming to store and manipulate collections of data efficiently. They provide a simple and effective way to manage and access elements, making them an essential tool in algorithm design and implementation."
   ]
  },
  {
   "cell_type": "markdown",
   "id": "87d41ef8",
   "metadata": {},
   "source": [
    "## Array"
   ]
  },
  {
   "cell_type": "markdown",
   "id": "1f6b2322",
   "metadata": {},
   "source": [
    "Arrays can be classified into different types based on various characteristics. Here are a few common types of arrays:\n",
    "\n",
    "1. `One-Dimensional Array`: Also known as a linear array, it is the simplest form of an array. It consists of a single row or sequence of elements. Each element can be accessed using a single index. For example, an array of integers [1, 2, 3, 4, 5] is a one-dimensional array.\n",
    "\n",
    "2. `Two-Dimensional Array`: A two-dimensional array represents data in a tabular form with rows and columns. It is often used to represent matrices or grids. Elements in a two-dimensional array are accessed using two indices, one for the row and another for the column. For example, a 2D array representing a 3x3 matrix could be [[1, 2, 3], [4, 5, 6], [7, 8, 9]].\n",
    "\n",
    "3. `Dynamic Array`: A dynamic array, also known as a resizable array or ArrayList, is an array-like data structure with a flexible size. It allows for dynamic resizing, meaning the array can grow or shrink as needed during runtime. Dynamic arrays are typically implemented using a combination of arrays and dynamic memory allocation.\n",
    "\n",
    "4. `Static Array`: A static array refers to an array with a fixed size determined at compile-time. The size of a static array is typically specified when it is declared and cannot be changed during runtime. The memory for a static array is allocated at the time of declaration and is automatically managed by the system.\n",
    "\n",
    "5. `Jagged Array`: A jagged array is an array of arrays, where each sub-array can have a different length. It is also known as a ragged array. This allows for irregular or uneven data structures. For example, a jagged array could be [[1, 2], [3, 4, 5], [6, 7, 8, 9]].\n",
    "\n",
    "6. `Sparse Array`: A sparse array is an array where most of the elements have the default or empty value. It is optimized to efficiently store and access data with a significant number of default values. Sparse arrays are often used in situations where memory efficiency is crucial.\n",
    "\n",
    "7. `Circular Array`: A circular array is an array that is treated as circular, meaning the last element is considered to be connected with the first element. It allows for efficient rotation or shifting operations without physically moving the elements.\n",
    "\n",
    "These are just a few examples of array types. There are other variations and specialized array structures based on specific requirements and optimizations"
   ]
  },
  {
   "cell_type": "markdown",
   "id": "152e8b7f",
   "metadata": {},
   "source": [
    "### Explain working priciple of Dynanic Array"
   ]
  },
  {
   "cell_type": "markdown",
   "id": "db5cdd03",
   "metadata": {},
   "source": [
    "The working principle of a dynamic array involves dynamically allocating memory to accommodate a resizable array. Unlike static arrays, the size of a dynamic array can be adjusted during runtime to accommodate varying numbers of elements.\n",
    "\n",
    "Here is a simplified explanation of the working principle of a dynamic array:\n",
    "\n",
    "1. `Initialization`: Initially, a dynamic array is created with an initial capacity or size. This initial capacity can be chosen based on the anticipated number of elements or a default value.\n",
    "\n",
    "2. `Memory Allocation`: The dynamic array starts with an allocated block of memory to hold the elements. The size of this initial memory block matches the initial capacity of the array.\n",
    "\n",
    "3. `Insertion of Elements`: Elements can be added to the dynamic array as needed. If the array reaches its capacity while inserting a new element, it triggers a resizing operation.\n",
    "\n",
    "4. `Resizing`: When the dynamic array needs more space to accommodate additional elements, it performs a resizing operation. This operation involves allocating a new, larger block of memory and copying the existing elements into the new memory block.\n",
    "\n",
    "5. `Copying Elements`: During the resizing process, the existing elements are copied from the old memory block to the new one. This ensures that the order and integrity of the elements are maintained.\n",
    "\n",
    "6. `Deallocation`: After copying the elements to the new memory block, the old memory block is deallocated to free up the memory previously occupied by the dynamic array.\n",
    "\n",
    "7. `Updated Capacity`: The capacity of the dynamic array is updated to reflect the new size and memory allocation.\n",
    "\n",
    "By dynamically resizing the array as needed, the dynamic array can accommodate a varying number of elements without wasting memory. This flexibility comes at the cost of occasional resizing operations, which can have a performance impact. However, the dynamic array allows for efficient insertion and deletion of elements compared to fixed-size static arrays.\n",
    "\n",
    "It's important to note that the implementation details of dynamic arrays can vary depending on the programming language or data structure library being used. Common implementations include using pointers, memory reallocation functions, and tracking the capacity and size of the dynamic array."
   ]
  },
  {
   "cell_type": "markdown",
   "id": "c8089526",
   "metadata": {},
   "source": [
    "## Implementation Data Structure"
   ]
  },
  {
   "cell_type": "code",
   "execution_count": 5,
   "id": "206f181a",
   "metadata": {},
   "outputs": [],
   "source": [
    "arr = [2, 1, 8, 9, 12, 15, 11, 19]"
   ]
  },
  {
   "cell_type": "code",
   "execution_count": 6,
   "id": "a2201ba5",
   "metadata": {},
   "outputs": [
    {
     "data": {
      "text/plain": [
       "11"
      ]
     },
     "execution_count": 6,
     "metadata": {},
     "output_type": "execute_result"
    }
   ],
   "source": [
    "## Random Acess\n",
    "arr[6]"
   ]
  },
  {
   "cell_type": "code",
   "execution_count": 10,
   "id": "9f38acf7",
   "metadata": {},
   "outputs": [
    {
     "name": "stdout",
     "output_type": "stream",
     "text": [
      "Searching Element is present at the index -1\n"
     ]
    }
   ],
   "source": [
    "## Search 15 return index possition.\n",
    "## Suppose the searching elements is not present in an arrary, return -1\n",
    "def linearSearch(arr, x):\n",
    "    for i in range(len(arr)):\n",
    "        if arr[i] == x:\n",
    "            return i\n",
    "    \n",
    "    return -1\n",
    "\n",
    "\n",
    "\n",
    "## Driver Code\n",
    "arr = [2, 1, 8, 9, 12, 15, 11, 19]\n",
    "x = 0\n",
    "## Function Calling\n",
    "result = linearSearch(arr, x)\n",
    "print(\"Searching Element is present at the index\", result)"
   ]
  },
  {
   "cell_type": "code",
   "execution_count": 11,
   "id": "584a4742",
   "metadata": {},
   "outputs": [],
   "source": [
    "## Insert an elements 5 at index 2\n",
    "## List.insert(index, elements)\n",
    "arr.insert(2, 5)"
   ]
  },
  {
   "cell_type": "code",
   "execution_count": 13,
   "id": "bd684f6e",
   "metadata": {},
   "outputs": [
    {
     "data": {
      "text/plain": [
       "[2, 1, 5, 8, 9, 12, 15, 11, 19]"
      ]
     },
     "execution_count": 13,
     "metadata": {},
     "output_type": "execute_result"
    }
   ],
   "source": [
    "arr"
   ]
  },
  {
   "cell_type": "code",
   "execution_count": 14,
   "id": "e070ff9b",
   "metadata": {},
   "outputs": [],
   "source": [
    "arr.remove(5)"
   ]
  },
  {
   "cell_type": "code",
   "execution_count": 15,
   "id": "562b73e2",
   "metadata": {},
   "outputs": [
    {
     "data": {
      "text/plain": [
       "[2, 1, 8, 9, 12, 15, 11, 19]"
      ]
     },
     "execution_count": 15,
     "metadata": {},
     "output_type": "execute_result"
    }
   ],
   "source": [
    "arr"
   ]
  },
  {
   "cell_type": "code",
   "execution_count": 16,
   "id": "e2ee66dd",
   "metadata": {},
   "outputs": [
    {
     "data": {
      "text/plain": [
       "1"
      ]
     },
     "execution_count": 16,
     "metadata": {},
     "output_type": "execute_result"
    }
   ],
   "source": [
    "arr.count(2)"
   ]
  },
  {
   "cell_type": "code",
   "execution_count": 18,
   "id": "12f01a65",
   "metadata": {},
   "outputs": [
    {
     "data": {
      "text/plain": [
       "1"
      ]
     },
     "execution_count": 18,
     "metadata": {},
     "output_type": "execute_result"
    }
   ],
   "source": [
    "arr.pop(1)"
   ]
  },
  {
   "cell_type": "code",
   "execution_count": 19,
   "id": "5b7abf63",
   "metadata": {},
   "outputs": [
    {
     "data": {
      "text/plain": [
       "[2, 8, 9, 12, 15, 11, 19]"
      ]
     },
     "execution_count": 19,
     "metadata": {},
     "output_type": "execute_result"
    }
   ],
   "source": [
    "arr"
   ]
  },
  {
   "cell_type": "code",
   "execution_count": 22,
   "id": "16528342",
   "metadata": {},
   "outputs": [
    {
     "data": {
      "text/plain": [
       "[2, 8, 9, 11, 12, 15, 19]"
      ]
     },
     "execution_count": 22,
     "metadata": {},
     "output_type": "execute_result"
    }
   ],
   "source": [
    "## Sorting of Array\n",
    "arr.sort()\n",
    "arr"
   ]
  },
  {
   "cell_type": "code",
   "execution_count": 24,
   "id": "e2ed43a8",
   "metadata": {},
   "outputs": [
    {
     "data": {
      "text/plain": [
       "2"
      ]
     },
     "execution_count": 24,
     "metadata": {},
     "output_type": "execute_result"
    }
   ],
   "source": [
    "arr.index(9)"
   ]
  },
  {
   "cell_type": "code",
   "execution_count": 26,
   "id": "5e0d6501",
   "metadata": {},
   "outputs": [],
   "source": [
    "arr.reverse()"
   ]
  },
  {
   "cell_type": "code",
   "execution_count": 27,
   "id": "46705cc1",
   "metadata": {},
   "outputs": [
    {
     "data": {
      "text/plain": [
       "[19, 15, 12, 11, 9, 8, 2]"
      ]
     },
     "execution_count": 27,
     "metadata": {},
     "output_type": "execute_result"
    }
   ],
   "source": [
    "arr"
   ]
  },
  {
   "cell_type": "markdown",
   "id": "7324ed49",
   "metadata": {},
   "source": [
    "## Address Of an elements in 2D Array"
   ]
  },
  {
   "cell_type": "markdown",
   "id": "e35ecf00",
   "metadata": {},
   "source": [
    "In a one-dimensional (1D) array, the elements are stored sequentially in memory, one after another. The elements of the array occupy contiguous memory locations. The storage of a 1D array in memory is typically straightforward and can be visualized as a linear block of memory"
   ]
  },
  {
   "cell_type": "code",
   "execution_count": 30,
   "id": "15516c62",
   "metadata": {},
   "outputs": [],
   "source": [
    "arr = [10, 20, 30, 40, 50]"
   ]
  },
  {
   "cell_type": "markdown",
   "id": "eff3e54b",
   "metadata": {},
   "source": [
    "## Address Of an elements in 2D Array\n",
    "\n",
    "#### In what form 2D array are stored\n",
    "\n",
    "In most programming languages, a two-dimensional (2D) array is typically stored in a contiguous block of memory using a row-major or column-major order.\n",
    "\n",
    "1. `Row-Major Order`:\n",
    "In row-major order, also known as row-wise order, the elements of each row are stored sequentially in memory. The rows themselves are stored consecutively, one after the other. This means that elements of the same row are adjacent in memory, while elements of different rows are stored further apa"
   ]
  },
  {
   "cell_type": "code",
   "execution_count": 28,
   "id": "7399cb13",
   "metadata": {},
   "outputs": [
    {
     "data": {
      "text/plain": [
       "6"
      ]
     },
     "execution_count": 28,
     "metadata": {},
     "output_type": "execute_result"
    }
   ],
   "source": [
    "A = [[1, 2, 3, 4],\n",
    "     [5, 6, 7, 8],\n",
    "     [9, 10, 11, 12]]\n",
    "A[1]"
   ]
  },
  {
   "cell_type": "markdown",
   "id": "e55c1ac6",
   "metadata": {},
   "source": [
    "2. `Column-Major Order`:\n",
    "In column-major order, also known as column-wise order, the elements of each column are stored sequentially in memory. The columns themselves are stored consecutively. This means that elements of the same column are adjacent in memory, while elements of different columns are stored further apart."
   ]
  },
  {
   "cell_type": "code",
   "execution_count": 29,
   "id": "4b7a2b23",
   "metadata": {},
   "outputs": [
    {
     "name": "stdout",
     "output_type": "stream",
     "text": [
      "[[ 1  5  9]\n",
      " [ 2  6 10]\n",
      " [ 3  7 11]\n",
      " [ 4  8 12]]\n"
     ]
    }
   ],
   "source": [
    "import numpy as np\n",
    "\n",
    "# Create a 2D array using NumPy\n",
    "arr = np.array([[1, 2, 3, 4],\n",
    "                [5, 6, 7, 8],\n",
    "                [9, 10, 11, 12]])\n",
    "\n",
    "# Transpose the array to achieve column-major order\n",
    "column_major_arr = np.transpose(arr)\n",
    "\n",
    "# Print the column-major array\n",
    "print(column_major_arr)\n"
   ]
  },
  {
   "cell_type": "code",
   "execution_count": 31,
   "id": "2577ea5b",
   "metadata": {},
   "outputs": [],
   "source": [
    "## acess to located memmory address\n",
    "## loc(a[i][j]) = base_memmory + [(j-l.b)n]+ [(i-l.b)m] v.i.z for column "
   ]
  },
  {
   "cell_type": "markdown",
   "id": "b773b80d",
   "metadata": {},
   "source": [
    "# Searching Concept in an Array"
   ]
  },
  {
   "cell_type": "code",
   "execution_count": 44,
   "id": "ca0cc6ae",
   "metadata": {},
   "outputs": [],
   "source": [
    "arr = [20, 40, 70, 10, 12, 11, 29, 75, 46]"
   ]
  },
  {
   "cell_type": "code",
   "execution_count": 51,
   "id": "7a9388fd",
   "metadata": {},
   "outputs": [],
   "source": [
    "## find index if\n",
    "x = 11"
   ]
  },
  {
   "cell_type": "code",
   "execution_count": 50,
   "id": "1794931b",
   "metadata": {},
   "outputs": [],
   "source": [
    "def linear_search(arr, x):\n",
    "    for i in range(len(arr)):\n",
    "        if arr[i] == x:\n",
    "            return i\n",
    "    return \"Element is not present\""
   ]
  },
  {
   "cell_type": "code",
   "execution_count": 52,
   "id": "95ebbc2b",
   "metadata": {},
   "outputs": [
    {
     "data": {
      "text/plain": [
       "5"
      ]
     },
     "execution_count": 52,
     "metadata": {},
     "output_type": "execute_result"
    }
   ],
   "source": [
    "linear_search(arr, x)"
   ]
  },
  {
   "cell_type": "code",
   "execution_count": 53,
   "id": "833f9667",
   "metadata": {},
   "outputs": [],
   "source": [
    "## Worst case scenario O(n): n\n",
    "## best case scemario O(n): 1\n",
    "## average case O(n) : 1+2+...+n/n : n(n+1)/2/n = n/2 = n"
   ]
  },
  {
   "cell_type": "markdown",
   "id": "d698d2d2",
   "metadata": {},
   "source": [
    "## Binary Search"
   ]
  },
  {
   "cell_type": "markdown",
   "id": "aa363332",
   "metadata": {},
   "source": [
    "`Binary search` is an efficient searching algorithm used to locate a specific element in a sorted array or list. It follows a divide-and-conquer approach by repeatedly dividing the search interval in half and narrowing down the search range until the desired element is found or determined to be absent.\n",
    "\n",
    "#### Here is a step-by-step explanation of how binary search works:\n",
    "\n",
    "1. Start with a sorted array or list. Binary search requires the elements to be arranged in ascending or descending order.\n",
    "\n",
    "2. Set two pointers, start and end, initially pointing to the first and last elements of the array, respectively. These pointers define the current search interval.\n",
    "\n",
    "3. Calculate the middle index of the search interval using the formula: mid = (start + end) // 2.\n",
    "\n",
    "4. Compare the middle element with the target element being searched. There are three possibilities:\n",
    "\n",
    "- If the middle element is equal to the target element, the search is successful, and the index of the middle element is returned.\n",
    "- If the middle element is greater than the target element, the target element must be in the left half of the search interval. Adjust the end pointer to mid - 1 and go to step 3.\n",
    "- If the middle element is less than the target element, the target element must be in the right half of the search interval. Adjust the start pointer to mid + 1 and go to step 3.\n",
    "-. Repeat steps 3-4 until the target element is found, or the search interval is empty (start > end), indicating that the target element is not present in the array.\n",
    "\n",
    "Binary search has a time complexity of O(log n), where n is the number of elements in the array. It is significantly faster than linear search for large sorted arrays."
   ]
  },
  {
   "cell_type": "code",
   "execution_count": 54,
   "id": "6a4da013",
   "metadata": {},
   "outputs": [
    {
     "name": "stdout",
     "output_type": "stream",
     "text": [
      "Element found at index 2\n"
     ]
    }
   ],
   "source": [
    "def binary_search(arr, x):\n",
    "    start = 0\n",
    "    end = len(arr) - 1\n",
    "    \n",
    "    while start <= end:\n",
    "        mid = (start + end) // 2\n",
    "        \n",
    "        # Check if x is present at the middle element\n",
    "        if arr[mid] == x:\n",
    "            return mid\n",
    "        \n",
    "        # If x is greater, ignore the left half\n",
    "        elif arr[mid] < x:\n",
    "            start = mid + 1\n",
    "        \n",
    "        # If x is smaller, ignore the right half\n",
    "        else:\n",
    "            end = mid - 1\n",
    "    \n",
    "    # Element is not present in the array\n",
    "    return -1\n",
    "\n",
    "# Example usage\n",
    "arr = [10, 20, 30, 40, 50]\n",
    "x = 30\n",
    "result = binary_search(arr, x)\n",
    "\n",
    "if result != -1:\n",
    "    print(\"Element found at index\", result)\n",
    "else:\n",
    "    print(\"Element is not present in the array\")\n"
   ]
  },
  {
   "cell_type": "code",
   "execution_count": 7,
   "id": "62264b9f",
   "metadata": {},
   "outputs": [
    {
     "name": "stdout",
     "output_type": "stream",
     "text": [
      "Output: [0, 1]\n"
     ]
    }
   ],
   "source": [
    "def two_sum(nums, target):\n",
    "    num_dict = {}  # Dictionary to store numbers and their indices\n",
    "    \n",
    "    # Traverse the array\n",
    "    for i, num in enumerate(nums):\n",
    "        complement = target - num\n",
    "        \n",
    "        # Check if the complement is already in the dictionary\n",
    "        if complement in num_dict:\n",
    "            return [num_dict[complement], i]  # Return the indices of the two numbers\n",
    "        \n",
    "        # Add the current number to the dictionary with its index\n",
    "        num_dict[num] = i\n",
    "    \n",
    "    # No solution found\n",
    "    return None\n",
    "\n",
    "# Example usage\n",
    "nums = [2, 7, 11, 15]\n",
    "target = 9\n",
    "result = two_sum(nums, target)\n",
    "\n",
    "if result is not None:\n",
    "    print(\"Output:\", result)\n",
    "else:\n",
    "    print(\"No solution found\")\n"
   ]
  },
  {
   "cell_type": "code",
   "execution_count": null,
   "id": "54569832",
   "metadata": {},
   "outputs": [],
   "source": []
  }
 ],
 "metadata": {
  "kernelspec": {
   "display_name": "Python 3 (ipykernel)",
   "language": "python",
   "name": "python3"
  },
  "language_info": {
   "codemirror_mode": {
    "name": "ipython",
    "version": 3
   },
   "file_extension": ".py",
   "mimetype": "text/x-python",
   "name": "python",
   "nbconvert_exporter": "python",
   "pygments_lexer": "ipython3",
   "version": "3.10.9"
  }
 },
 "nbformat": 4,
 "nbformat_minor": 5
}
